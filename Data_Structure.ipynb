{
  "nbformat": 4,
  "nbformat_minor": 0,
  "metadata": {
    "colab": {
      "name": "Data_Structure.ipynb",
      "provenance": [],
      "authorship_tag": "ABX9TyO69t1VMMOvnnRDmMjkeA4g",
      "include_colab_link": true
    },
    "kernelspec": {
      "name": "python3",
      "display_name": "Python 3"
    },
    "language_info": {
      "name": "python"
    }
  },
  "cells": [
    {
      "cell_type": "markdown",
      "metadata": {
        "id": "view-in-github",
        "colab_type": "text"
      },
      "source": [
        "<a href=\"https://colab.research.google.com/github/pondbaahh/data_viz_2022/blob/main/Data_Structure.ipynb\" target=\"_parent\"><img src=\"https://colab.research.google.com/assets/colab-badge.svg\" alt=\"Open In Colab\"/></a>"
      ]
    },
    {
      "cell_type": "markdown",
      "source": [
        "#Data Struceture (โครงสร้างข้อมูล)\n",
        "การเก็บข้อมูลหลายๆตัวไว้ด้วยกันอย่างเป็นระเบียบ"
      ],
      "metadata": {
        "id": "NagNahOw0V5p"
      }
    },
    {
      "cell_type": "markdown",
      "source": [
        "## **List()**\n",
        "\n",
        "\n",
        "*   เก็บอะไรก็ได้\n",
        "*   ลำดับในการเก็บมีความสำคัญ\n",
        "*   ง่ายที่สุดในการเก็บข้อมูล\n",
        "\n"
      ],
      "metadata": {
        "id": "7knZAc5P0eUa"
      }
    },
    {
      "cell_type": "code",
      "execution_count": 2,
      "metadata": {
        "id": "TqzjnNMH0GGb"
      },
      "outputs": [],
      "source": [
        "list_a = [1,2,3,4,5,6] # [ ] square brackets"
      ]
    },
    {
      "cell_type": "code",
      "source": [
        "list_a"
      ],
      "metadata": {
        "colab": {
          "base_uri": "https://localhost:8080/"
        },
        "id": "X5XAcPuq0xRZ",
        "outputId": "07471779-df67-488b-cab0-bea7894bcf71"
      },
      "execution_count": 3,
      "outputs": [
        {
          "output_type": "execute_result",
          "data": {
            "text/plain": [
              "[1, 2, 3, 4, 5, 6]"
            ]
          },
          "metadata": {},
          "execution_count": 3
        }
      ]
    },
    {
      "cell_type": "code",
      "source": [
        "list_b = ['ab',2,3.14,list_a]"
      ],
      "metadata": {
        "id": "7wxGreMj0y4r"
      },
      "execution_count": 4,
      "outputs": []
    },
    {
      "cell_type": "code",
      "source": [
        "list_b"
      ],
      "metadata": {
        "colab": {
          "base_uri": "https://localhost:8080/"
        },
        "id": "9Dopg9YV00sL",
        "outputId": "f9b54f98-d493-4eb0-f582-cd4d13d3fab2"
      },
      "execution_count": 5,
      "outputs": [
        {
          "output_type": "execute_result",
          "data": {
            "text/plain": [
              "['ab', 2, 3.14, [1, 2, 3, 4, 5, 6]]"
            ]
          },
          "metadata": {},
          "execution_count": 5
        }
      ]
    },
    {
      "cell_type": "markdown",
      "source": [
        "### indexing การชี้สมาชิกใน list ด้วยเลขลำดับของ list"
      ],
      "metadata": {
        "id": "a_VczU_405Kc"
      }
    },
    {
      "cell_type": "markdown",
      "source": [
        "list ตัวแรกคือ 0 ตัวสุดท้ายคือ -1"
      ],
      "metadata": {
        "id": "pbP6SOb6MCKd"
      }
    },
    {
      "cell_type": "code",
      "source": [
        "list_a[3]"
      ],
      "metadata": {
        "colab": {
          "base_uri": "https://localhost:8080/"
        },
        "id": "qjRdwgtO06Xa",
        "outputId": "b4134471-cf2b-42a8-f240-27b1e0f761b1"
      },
      "execution_count": 6,
      "outputs": [
        {
          "output_type": "execute_result",
          "data": {
            "text/plain": [
              "4"
            ]
          },
          "metadata": {},
          "execution_count": 6
        }
      ]
    },
    {
      "cell_type": "code",
      "source": [
        "list_b[3]"
      ],
      "metadata": {
        "colab": {
          "base_uri": "https://localhost:8080/"
        },
        "id": "U073n-vO02tR",
        "outputId": "51931d97-ebad-4e19-b8a6-f3e86ffe9eef"
      },
      "execution_count": 7,
      "outputs": [
        {
          "output_type": "execute_result",
          "data": {
            "text/plain": [
              "[1, 2, 3, 4, 5, 6]"
            ]
          },
          "metadata": {},
          "execution_count": 7
        }
      ]
    },
    {
      "cell_type": "code",
      "source": [
        "list_b[3][4]"
      ],
      "metadata": {
        "colab": {
          "base_uri": "https://localhost:8080/"
        },
        "id": "e3BNj0S80-3Q",
        "outputId": "b1871101-0810-461d-90ba-5ddf8b1ad2cc"
      },
      "execution_count": 8,
      "outputs": [
        {
          "output_type": "execute_result",
          "data": {
            "text/plain": [
              "5"
            ]
          },
          "metadata": {},
          "execution_count": 8
        }
      ]
    },
    {
      "cell_type": "code",
      "source": [
        "list_a[6] # ไม่มีลำดับอยู่ใน list"
      ],
      "metadata": {
        "colab": {
          "base_uri": "https://localhost:8080/",
          "height": 166
        },
        "id": "6qI98l6h1A6h",
        "outputId": "fac842ef-2e1f-491d-8e8e-1c1d0a58bab4"
      },
      "execution_count": 11,
      "outputs": [
        {
          "output_type": "error",
          "ename": "IndexError",
          "evalue": "ignored",
          "traceback": [
            "\u001b[0;31m---------------------------------------------------------------------------\u001b[0m",
            "\u001b[0;31mIndexError\u001b[0m                                Traceback (most recent call last)",
            "\u001b[0;32m<ipython-input-11-f982f6d8c984>\u001b[0m in \u001b[0;36m<module>\u001b[0;34m()\u001b[0m\n\u001b[0;32m----> 1\u001b[0;31m \u001b[0mlist_a\u001b[0m\u001b[0;34m[\u001b[0m\u001b[0;36m6\u001b[0m\u001b[0;34m]\u001b[0m \u001b[0;31m# ไม่มีลำดับอยู่ใน list\u001b[0m\u001b[0;34m\u001b[0m\u001b[0;34m\u001b[0m\u001b[0m\n\u001b[0m",
            "\u001b[0;31mIndexError\u001b[0m: list index out of range"
          ]
        }
      ]
    },
    {
      "cell_type": "code",
      "source": [
        "list_a[-1] # index -1 คือตัวสุดท้ายของ list ใช้เมื่อ 1. มีข้อมูลใน list เยอะมาก 2. เมื่อข้อมูลเปลี่ยนจะชี้้แบบเจาะจงไม่ได้"
      ],
      "metadata": {
        "colab": {
          "base_uri": "https://localhost:8080/"
        },
        "id": "reQX64L51MRI",
        "outputId": "e2ac1dde-2806-487b-ae72-2bb607afb924"
      },
      "execution_count": 12,
      "outputs": [
        {
          "output_type": "execute_result",
          "data": {
            "text/plain": [
              "6"
            ]
          },
          "metadata": {},
          "execution_count": 12
        }
      ]
    },
    {
      "cell_type": "code",
      "source": [
        "list_a[-4]"
      ],
      "metadata": {
        "colab": {
          "base_uri": "https://localhost:8080/"
        },
        "id": "tDff4ltZ1Nak",
        "outputId": "ff269525-2a27-4de7-febf-fec8ac094093"
      },
      "execution_count": 13,
      "outputs": [
        {
          "output_type": "execute_result",
          "data": {
            "text/plain": [
              "3"
            ]
          },
          "metadata": {},
          "execution_count": 13
        }
      ]
    },
    {
      "cell_type": "markdown",
      "source": [
        "###  การสร้าง list()"
      ],
      "metadata": {
        "id": "bGAMZNez1XMr"
      }
    },
    {
      "cell_type": "code",
      "source": [
        "list_x1 = [] # แบบที่ 1 \n",
        "list_x2 = list() # แบบที่ 2"
      ],
      "metadata": {
        "id": "hge2kMN41auS"
      },
      "execution_count": 14,
      "outputs": []
    },
    {
      "cell_type": "code",
      "source": [
        "print(list_x1)\n",
        "print(list_x2)"
      ],
      "metadata": {
        "colab": {
          "base_uri": "https://localhost:8080/"
        },
        "id": "yzTw7ah91dnX",
        "outputId": "b971c0ec-e6a4-4d8f-d686-7386f93d2749"
      },
      "execution_count": 15,
      "outputs": [
        {
          "output_type": "stream",
          "name": "stdout",
          "text": [
            "[]\n",
            "[]\n"
          ]
        }
      ]
    },
    {
      "cell_type": "markdown",
      "source": [
        "### เพิ่มสมาชิกเข้าไปใน list ด้วย append()"
      ],
      "metadata": {
        "id": "NkpWQ2-a1g2y"
      }
    },
    {
      "cell_type": "code",
      "source": [
        "list_x1.append(2)"
      ],
      "metadata": {
        "id": "q6BB23r11iRd"
      },
      "execution_count": 16,
      "outputs": []
    },
    {
      "cell_type": "code",
      "source": [
        "list_x1"
      ],
      "metadata": {
        "colab": {
          "base_uri": "https://localhost:8080/"
        },
        "id": "-EZGve2g1kEA",
        "outputId": "b5bf9997-471f-44cc-be0b-013c592170df"
      },
      "execution_count": 17,
      "outputs": [
        {
          "output_type": "execute_result",
          "data": {
            "text/plain": [
              "[2]"
            ]
          },
          "metadata": {},
          "execution_count": 17
        }
      ]
    },
    {
      "cell_type": "code",
      "source": [
        "list_x1.append(4)\n",
        "print(list_x1)"
      ],
      "metadata": {
        "colab": {
          "base_uri": "https://localhost:8080/"
        },
        "id": "SRbdYV3Q1lrf",
        "outputId": "a983aabf-f7e0-4527-cda3-1b80b049dc20"
      },
      "execution_count": 18,
      "outputs": [
        {
          "output_type": "stream",
          "name": "stdout",
          "text": [
            "[2, 4]\n"
          ]
        }
      ]
    },
    {
      "cell_type": "code",
      "source": [
        "list_x1[0]"
      ],
      "metadata": {
        "colab": {
          "base_uri": "https://localhost:8080/"
        },
        "id": "TJYXpEfQ1ocw",
        "outputId": "6121c861-58db-4d75-e17c-ec565c700dfe"
      },
      "execution_count": 19,
      "outputs": [
        {
          "output_type": "execute_result",
          "data": {
            "text/plain": [
              "2"
            ]
          },
          "metadata": {},
          "execution_count": 19
        }
      ]
    },
    {
      "cell_type": "code",
      "source": [
        "list_x1[-1]"
      ],
      "metadata": {
        "colab": {
          "base_uri": "https://localhost:8080/"
        },
        "id": "Y82Dzr141qWg",
        "outputId": "1c0e75b6-3e47-409c-9e79-ddbcc2d3daa2"
      },
      "execution_count": 20,
      "outputs": [
        {
          "output_type": "execute_result",
          "data": {
            "text/plain": [
              "4"
            ]
          },
          "metadata": {},
          "execution_count": 20
        }
      ]
    },
    {
      "cell_type": "code",
      "source": [
        "list_x2"
      ],
      "metadata": {
        "colab": {
          "base_uri": "https://localhost:8080/"
        },
        "id": "Iv34L6kx1sEF",
        "outputId": "100450cf-d01c-41c4-f4b8-f0b591ae7146"
      },
      "execution_count": 21,
      "outputs": [
        {
          "output_type": "execute_result",
          "data": {
            "text/plain": [
              "[]"
            ]
          },
          "metadata": {},
          "execution_count": 21
        }
      ]
    },
    {
      "cell_type": "code",
      "source": [
        "list_x2.append('ha')"
      ],
      "metadata": {
        "id": "sZYso8P_1tsR"
      },
      "execution_count": 22,
      "outputs": []
    },
    {
      "cell_type": "code",
      "source": [
        "list_x2"
      ],
      "metadata": {
        "colab": {
          "base_uri": "https://localhost:8080/"
        },
        "id": "Y6ami8hW1vN0",
        "outputId": "ceeef0ac-f3a8-4d43-9a07-2d99f612d3a4"
      },
      "execution_count": 23,
      "outputs": [
        {
          "output_type": "execute_result",
          "data": {
            "text/plain": [
              "['ha']"
            ]
          },
          "metadata": {},
          "execution_count": 23
        }
      ]
    },
    {
      "cell_type": "markdown",
      "source": [
        "### ลบสมาชิกจาก list"
      ],
      "metadata": {
        "id": "87z3TQv41w2L"
      }
    },
    {
      "cell_type": "code",
      "source": [
        "list_x1.append('ha')"
      ],
      "metadata": {
        "id": "8wqhM1Im10IW"
      },
      "execution_count": 24,
      "outputs": []
    },
    {
      "cell_type": "code",
      "source": [
        "list_x1"
      ],
      "metadata": {
        "colab": {
          "base_uri": "https://localhost:8080/"
        },
        "id": "COsz12di11xr",
        "outputId": "68ada333-7963-42c3-ef17-72d38334b855"
      },
      "execution_count": 25,
      "outputs": [
        {
          "output_type": "execute_result",
          "data": {
            "text/plain": [
              "[2, 4, 'ha']"
            ]
          },
          "metadata": {},
          "execution_count": 25
        }
      ]
    },
    {
      "cell_type": "code",
      "source": [
        "list_x1.pop()"
      ],
      "metadata": {
        "colab": {
          "base_uri": "https://localhost:8080/",
          "height": 35
        },
        "id": "VDvCAjyb13GI",
        "outputId": "1dbe0c23-e501-4b23-8455-72c899c231be"
      },
      "execution_count": 26,
      "outputs": [
        {
          "output_type": "execute_result",
          "data": {
            "application/vnd.google.colaboratory.intrinsic+json": {
              "type": "string"
            },
            "text/plain": [
              "'ha'"
            ]
          },
          "metadata": {},
          "execution_count": 26
        }
      ]
    },
    {
      "cell_type": "code",
      "source": [
        "list_x1"
      ],
      "metadata": {
        "colab": {
          "base_uri": "https://localhost:8080/"
        },
        "id": "p4bvQ2R914pP",
        "outputId": "cdee4eef-3f26-4802-a7da-83e1b36046b3"
      },
      "execution_count": 27,
      "outputs": [
        {
          "output_type": "execute_result",
          "data": {
            "text/plain": [
              "[2, 4]"
            ]
          },
          "metadata": {},
          "execution_count": 27
        }
      ]
    },
    {
      "cell_type": "code",
      "source": [
        "list_x1.pop()\n",
        "print(list_x1)"
      ],
      "metadata": {
        "colab": {
          "base_uri": "https://localhost:8080/"
        },
        "id": "E8pEaRHN16vU",
        "outputId": "98de9746-6702-4ff8-8d8b-ef723221c529"
      },
      "execution_count": 28,
      "outputs": [
        {
          "output_type": "stream",
          "name": "stdout",
          "text": [
            "[2]\n"
          ]
        }
      ]
    },
    {
      "cell_type": "markdown",
      "source": [
        "###  len() ตรวจสอบจำนวนสมาชิกของ list"
      ],
      "metadata": {
        "id": "NCk-UMc_19sH"
      }
    },
    {
      "cell_type": "code",
      "source": [
        "print(list_b)\n",
        "print(len(list_b))"
      ],
      "metadata": {
        "colab": {
          "base_uri": "https://localhost:8080/"
        },
        "id": "9l63UkyL18Y5",
        "outputId": "09737991-384d-408b-ba30-c87b12477d91"
      },
      "execution_count": 29,
      "outputs": [
        {
          "output_type": "stream",
          "name": "stdout",
          "text": [
            "['ab', 2, 3.14, [1, 2, 3, 4, 5, 6]]\n",
            "4\n"
          ]
        }
      ]
    },
    {
      "cell_type": "code",
      "source": [
        "len(list_a)"
      ],
      "metadata": {
        "colab": {
          "base_uri": "https://localhost:8080/"
        },
        "id": "rVqt4n_42GdF",
        "outputId": "783cfdc6-1e36-4394-fbb6-25bea96394bf"
      },
      "execution_count": 30,
      "outputs": [
        {
          "output_type": "execute_result",
          "data": {
            "text/plain": [
              "6"
            ]
          },
          "metadata": {},
          "execution_count": 30
        }
      ]
    },
    {
      "cell_type": "markdown",
      "source": [
        "### String is a list of characters"
      ],
      "metadata": {
        "id": "nrrvEcDi2IIR"
      }
    },
    {
      "cell_type": "code",
      "source": [
        "st_stat = 'Department of Statistics, Faculty of Science'"
      ],
      "metadata": {
        "id": "KczyeUvZ2Khd"
      },
      "execution_count": 31,
      "outputs": []
    },
    {
      "cell_type": "code",
      "source": [
        "st_stat[10]"
      ],
      "metadata": {
        "colab": {
          "base_uri": "https://localhost:8080/",
          "height": 35
        },
        "id": "SyX5xHjf2Mz4",
        "outputId": "aca6488c-1a06-42c5-ff1b-d78b355c05b2"
      },
      "execution_count": 32,
      "outputs": [
        {
          "output_type": "execute_result",
          "data": {
            "application/vnd.google.colaboratory.intrinsic+json": {
              "type": "string"
            },
            "text/plain": [
              "' '"
            ]
          },
          "metadata": {},
          "execution_count": 32
        }
      ]
    },
    {
      "cell_type": "code",
      "source": [
        "len(st_stat)"
      ],
      "metadata": {
        "colab": {
          "base_uri": "https://localhost:8080/"
        },
        "id": "USvA2bLj2Oyl",
        "outputId": "876c139f-f6dc-4185-cd8b-7bce3323155e"
      },
      "execution_count": 33,
      "outputs": [
        {
          "output_type": "execute_result",
          "data": {
            "text/plain": [
              "44"
            ]
          },
          "metadata": {},
          "execution_count": 33
        }
      ]
    },
    {
      "cell_type": "markdown",
      "source": [
        "### List Slicing :\n",
        "list[จุดเริ่มต้น (ทึบ):จุดสุดท้าย (โปร่ง)]\n",
        "\n",
        "list[จุดเริ่มต้น (ทึบ):จุดสุดท้าย(โปร่ง):step]"
      ],
      "metadata": {
        "id": "lwy982F62Qgr"
      }
    },
    {
      "cell_type": "markdown",
      "source": [
        "![image.png](data:image/png;base64,iVBORw0KGgoAAAANSUhEUgAAAqUAAAFpCAYAAAClGlFgAAAgAElEQVR4nOzddXhUZ97G8W/cjbhOQhIghofgFChWrLQU61a2tt3ttt12q1vZyrZ96+6utKUKxaFFgjtBAyFKjLj7vH8EigZCGzjI/bkuuK6Zec45v8ycmbnnOc95joXZbDYjIiIiImIgS6MLEBERERFRKBURERERwymUioiIiIjhFEpFRERExHAKpSIiIiJiOIVSERERETGcQqmIiIiIGE6hVEREREQMp1AqIiIiIoazbouVmBsbMaMLQ4mIiIjIiVhgaWkJFhYtt2iLy4zOvfNOCpMXAqV/dlUiIiIicsGJYuTLb+DVqVOLLdqkp7SmeDOxk/9KQI8BbbE6EREREblAmM1NzL97Kk315Sdt1yahFKpxC2mPT1zvtlmdiIiIiFwQzE2NWNo0AI0nbacTnURERETEcAqlIiIiImI4hVIRERERMZxCqYiIiIgYTqFURERERAynUCoiIiIihlMoFRERERHDKZSKiIiIiOEUSkVERETEcAqlIiIiImI4hVIRERERMZxCqYiIiIgYztroAuRsqqK0sIqaOhs8/N2wPevbLyU7rYDKmnps2/nSrp0HLtoDpQ1UF+dTVV9DrbUz5jIzXqGe2LXpFio4sL8aSwdH3No5GfjBWUZuRgHlVXXYenjj0c4TVxvDihERaVPqKb2obOD7d97kyQd+IK0tV2tupK6qhvomM+YWGzVC00/cP3kUA7p24doXv2B+dsutz2VNTU1UVVVhNp+f9V+Itn72Am+/8Ffu+vgDbp/4DruApjbdwiJevOtFPvhkFTltut5Dmg6+h5pO8h4CmmbxyPXjGNS1C9Oeep+ZWdoHReTCoVAqf1IN1aVr+W/UFXy8J6PlL2xzE+zcCYOe4f137mNEgAs5m87M1/uZtmfPHqKioigtLTW6FLkg1NFYt4mne07hwy17yDhZ0927oc+jvPrGf7iigyfZ6/afrSJFRM44HTy9QJVlpfDLvVfx+h6oPdhl5HfZQJpSPYho01fdFkvL9gR5l9Nk3URT4rM8uSUYr9hh/H2Q9+FmFpbQvj2se4X/frcPi8H/4dru3mStXsCSH6dTdNPH3BF57Lq3seCb1axa7cq1L08irC3L/hMaGxspKipST6mhzOx5bRQPz8xnTxFUHtiP7+BY/H3//JozVszhhxce5rP0w/eFXj+B4iwY+edXfwI2YBFJoFcVjTaNNK1+lRc2umMZOZK7hx3zB4WGwea3+b+v9sDAf3HVdT7kblrOr5+9Qfat33BHJNj+3tWwkR/fX0dyVgBTHx9LyBmpXUSk7SiUXoCq0jew4dsXec36Wu5+wISdjSWQw9pZv7Lgtz24DmvLrydLwA5Hx1Q+v+MWfixKoajzfVzdxeX4dg6juOuxXJ55OY+oOF+C9nzKB0u2U5JwA7ecMExUUnIgl4x9ddS0YcVyfmsoP0Da5zdzX/IgRvylPdM87IFC0javZuHHc8m3v/QPr7t44/csXjif34Ju5r/XBxy8N50F789ix053Svjj626ZBRbY4+CQzmf33c73JRmURf2d8VGuxzd1GM5tD+by4uvRBEQF0jHnG977aC25PW/lH35gbXFk4woKc3LJyrDT+0dEzgvnaSjdB4t/g582N990cIfxT0BPC9r47Iazasc6+P4zyAewgIBxcF0CBByb704ql4yM3/js0zlssm5ikfMe7KwtgRJ2r95IRo4rbdCZdDRLKwiKol+Xwbil17HR1w17e/tjGpmBHLatSSY7PZvyeZkUREXi1WckY0cOIPoE379njpl1bz/KnL3B9Ll6JH26h3BaT/EflgpLfoPvNzXftHeBcU9CvBUc+3SdR3ZthBkfH9xvAf+xcG1vcNj+CXOWbmCH40Dih13FFVFtsbUyysuX8c5bP7OYJqzK0vF3swEqyNqyhaTtxTj1+KPrTmHTxoV8990CNrtXEYIHzfttIZs2bCKnpBu1bfEnnIiFBQR2pHdkT1yyl5Pk4YaDvcMJGuayc30ymfvSySnMoDwuHI+EEYy/bDCxbmequBL2LFvKwhmL2Ak0f2305MaHx9LJ1/U0dt39sGEpfLLq8F3jnoTe7pzuGzB1J3z1FuQevO03Eqb02UnKwnUUOITSc9xAOpzeKkXkHHAehtISWLwcEpPA0RFK9sOqzyHFBe68FXq4glPr11a9P4ldG9eysakfN47vdObKPoVtq2HuQtjvCM5VkL8M5mRA+xAY4QLurV6TJfbekcSO/hv/Oup+R7qNvpJuowPo1D0OjzarvAas9kLMP7j6hqGErsvhhawTfZkCWGNrH8OlwwOpAfy7D6TvsBH0atfSugPo1L0PFs6OeLZRtXWVZez47h3eemMx9QmT6WV1toZVl8BvibB8a/N+W5oDKz+FfS5w+9+hpzs4t35t1dnbSd64irX1/bh5QpukvT9k+1qYtwCyHMGlBg4shXkZEBYCCdZ22DVksWv1DFakN1A+cTjX9fmzr6QF1g7tCBl9H/8EGn+/35EOfYbRoY8H3oG98AEsWlxHS6xwDe/LgNFuxB51vxMDrr2RAUQwIN5E2/9+qgOLHRB1I5OnDaT9jgreSnVssUZb+2guGeJDNeAT15s+o8bQ94RPazCd+/bFu5MHLb7FWqWSrK0rmfn+N2wK78f1Y6IBW6wsLU7jOS6DNWtg4Zrm/b+6FJa9B5muUPcP6BfY6g+5PVthzixIdwS3BihYBp+ngY+fJR41KWxct4qtdeVcOWQ08X/uDxeRs+z8C6W522FtEQSOgJtGQd4O+CwT7r8ffHpDSC9wOvVv98q0texI3sfmjdtI3bmP2q4xZ6H4FlRBVho0tIObH4Eu5ZA2HUbfDyvToUsouJ9i/qb8bWvIt3DBJSya0E7j+ddjl1C4dS7L0qGhCfDvTrwJaivrKDf74A001VZQvPUXlqVDbYMrEf17EBnki11eOgeKSqjwjSC0NomZy9Ixm93oNDSBcG+Pg50aZRzIzmbX1lI6XVpLaL9xBDtanbjXpL6KxrTlzNpaCj5hRPmAV6fudOzQgeBjv3tLt7J4dSoHiqsBR3wjIxlwfRQ+AOYGKNnCnMR0yirrACcCY6PpGBve/Pgp1VBZspnpTzzAYo9nee1fUxjY2fd0fsP8cXk7YV0B+AyDW0fDgeTm/faBh8GrNwT3BueWwvxhVenr2Zm8l02bdpC6PZnKuOizUHxLxUB2GtS4ws0PQ9dKyJwOYx6AlanQZehUJoWHY/HeKzz03ou8WOnJ+D7DceMUgdHcBKVbmL8yjeIyW0w94ugQGYJnRS4HUjayeGc1vt2v4qqxnfF2tMW6IoXN2/awK60EsMWpneMRPZoZrP9tG5l5Zc332XnjHxLNoB7+v7fIXDmPIv/O+AeE0nNwKJ07p5G5YzXr9tPcg2kayDBTAbuyrPHy8eZQh2RDZREFSQtYlg5NZjc6DUkg3Kcd1vv3kldZR71XID4V25i7MgtwJ3ZUP9q7OdO8yxeTnZZDeqoV0YNDcLEoxtR7FMEutpxwL2iohfRl/LK1hHr3YDp1C8YzsgsdoqIwHXoPmRuhZAtzV6RRWtH8/giIiaLPpRF4ATTW0Fi8lVnL0qmpawScCenemY4dQlr3o88hgMCu1/Dss1e0pvXRCvbCxmyw6gvPToaKfJieCve/BM5dIWgUuLfiV1k15KVDsSXc8Cz0qm/e5yY9BGv3dOQflw7HpuojPpn5JR/V+ODzl3hMp1+tiBjk/AulGfkweCCEHzxG5xsG056AJwfDyhVQ0gHwa3Hxgl0bySypZt/yL1mycj2b6noQP+R2Xr6r9xkvvbGqhJKcFPZYdKJnqCPWlge/msshfih08QZ/ACcImwK+z4FtKVjUwqkmFd0+4y2WWncg8rpoTL5llO1cxIwnpnLvQnBs3xGbkOt4eGI9WXlNZDcMIiHKhcr96/jhyWn8N7knbuVVDHruJf46YTihSYms3pBE8qCbmZr2Cnc/l0W7/GKGvPcpNw3pSZw9QBa7Ns7mhYeqeXzLowy6pIWpHBqrqcnZyOr3HuKJ9XbY1FtgU5OLU7/JjJp0M1N7hOJrT3PgrExn/dx3eXHGLvLzarEvb8C/z1BGOv6TqVFe2NVlsmPWGzz7TRpVpfXYldYTPHIC4/52A5dH+Jz4y/wo5dQ1bGZNKrj8ZTwmL6+zE0gBMvNhwAAI79l82zsE/vI/eGowrF4JxR3hJH9B4e5NZJRUkZo4naUr1rKhphvdB9/Oa/f0PeOlN1aXUpK9h2SLKHqaHLGxOrjfVkCPwRDjDQEAjgf32xfBtgwsaoB2XYkM7smAprWsStpGAcNx5RShtKmBynXv8Nwbe8jeUcGAB+7hGlMI8Wkb2PDRA9y92AOnjHY8vuFDRrW3oGzdHL79djELkwqwq2nE2T2YPu7PcmdPb0o2T+eNl5exe38pVg5Q1eiLqeNQXB+cRLeOXgCsef1+1o54itGjA/BxzCdzxVe8/9xDvLDOFu+oaAiq4LNbdvP6bE8uGXgZHU3u0FBJScpSvn7yOh5L7kFgZSlD3/uIm4Ym4LV+AYmpJRT0uoyBu1/l7lf2432giGHBM7m1ZyQRdgBpbFo2j68+sePBwXcTazmYAQNaegFqqDuwjfXvP8RT62xorLXAtiYPx17jGTr571ybEI6/bR0Npcmsn/U6//dtGlUl9diV1RM87HLG3nojEyLdsazcS9KPr/DkN1lY1zRhU1JH2MRrufL6qYwM9TyzI0hyiiAuDtoPar7t7AE3vQovDIZN6yG/O606VFAJcfEQOhaCAKzBdCX4vQH2FWDh1I/xk6ywbvyYFz59gek93uSBKK8z+IeJSFs6/6aE6jUBeveA30/stgfrEAgDXJ3AyuqYBZporKuiKDOTrMxMfnr8Tm6/bip3rQ2n/W2zSJz9Ni//u0/L22uspKoqh8ziTPaX5FBcB01moKGIwvL9ZBbnUVhVRcNJSm6sLqU0P5PkdQv56cV/cP2naVTWHjGLoi94HgqkZmgoh6zlUNwdpsRCx9Mcb9WUu4X0nx7l36uC8HS2Y8hjjzKyYi9l6UkkH2pUmU7+prf42yJH3Ce+w12X2dOUV0nmEfPR1JbVkLelnCFPfskjo8vJ2l5FVubp1dJYuo/kpW8y5stgbpkxm7mJiSR+/196Vy3m2w/f4tvUg89cfTkkPcXEh/YRf8+rfJ+YSOKnN3FpzQ6+fmAGe5uKKc+fwY335DDx5c+YlZhI4geTidu3jh/+b3Yr5111xMaiI7E2kLFrF9VVVUc8aVVUVze/zlkl2RTVmWk0Aw3FFB18nQtO8TqfVM/x0Kcnh7t07cAqBMIswNXxxPtt/RH77ZN3ced1U/nXqhCCbp1J4px3ee3efifeVmM55ZXZZBZnkl2aR0n9wfvrC8gv3U9m8QGKa2qOOPTdwmqqyyjLzyR5/WJmvfg3rv04lbLqI5bygXaHAqkZGisgcxkUd4HJcdB8nk4uhcXZpJe5YB8ZQQSn/tBpamwifVk6Xa57nLsmd8Fk2UhuLuQdqGJvaTtGPPg8N4X9yqbsGkorfuPNt/fS5HkVb0yfzjfvPMi9vSt5f/RzbClewfPXT+dA+I3c+fp0pn/7E+/ePZrozM+56YHZVDaXffTfvGsWK3/5jDd2+BIe7s/IN99k5JoZ7CzK+X38IgBlu0jd8DH3rvYi+K9f8MDIOkpSa8g5olFVYTUlqRaMeOJ9nhixnx1ra8nL57Q1VewnY/lLXPqBN1M++oFfEhNJ/PF/DLVazQ/vvsSXexugJo/y9c8z7N/ZjHnhE2YmJpL4/hS6ZKzn+6dnkdqYS176T9zyYCm3Tp/Z/D586zL8Vi9l5luLOc239emLuxT6Dzq4s0Bzf0gYhFiBhwNYt7J/xAvc/A4GUjOYa2D/CijqBOM6Q1d3wLM3/foM4brg7bxz988nfJ1F5Nx0/oXS41RC/S5IAi4bD97exzxeTvb2n7jbZKK9ycSrUe/xwuJ00r+9m7subcUpPwe+Z+Yv/TE9aCLqf315MAlK64GUe7nt7c6YHrycf86aRfpJVpG36CVemGQi5pqXecnnI3Y+FoObw7Eh5PCfk7kMwi+H51+GTn9gmGt5eTmZZZb0fmYHO57pjUVZJknlntjT7nAfckUFpKZijurIzuf6cOsHlVia3Oh4xPYcPR0xDWrH9PHtmfJeJtv/wBdqbkouCz7ZQOcnf2CSk3vz2DbTNTx2/ZVMCLNmReLBFFxfD9uS4LK7GOYd2nzIretIOvTsRzfS2FtcTOMvc9l+5aMMc/Vu/jsSriAuLo4OZJHaqmqcsLXpRFwc2KTshCNDacEsFswZiOlBEx0f6859m2sprAP2PcS/3++K6cGx3PLDD63cTmtUQcNO2GaGkePA99h9sZy83b9wj8lEhMnEyxFv8PSCdNJn3Ms9w1s+EgBA9vt8MKM3pgdNdH/hcp7ZefCH1O4bmfRyFKYHp/DokiWcaobL/F9f5eXJJmKmPsvTnp+S/EQsns4thIdKyEls7sF68lmI/n1UQS6FZJPu6goRx835dUKW1pZEXxnNkseu4NbnP+C9JYXk5oKpSyhdB7jzyTXDeDBpKoPDHfHKTSGjZDbPPX0NfUwm4m5+mSe4kfG169j1zcN8d8nTjKl6lq9uMGHqdSPvJ7sz7b6/0z95Nt8Cdcds+8CBA5R79mTqM3P49V9hJCVtI6khAn8cOeo8otJSyM6mIciLbY9Ect3H9njHOhF2xLxlLgEu+MQ28cmEWCZ8Uk76H5zWtiCzgF/eXErM/35mYjvf5t81wZO575opXB9jz9KlaVBTA3tTYeKjjHbzbf6Bm3AFsXGd6UgWqbl51C5Zyc7JTzLe3rn5fTjwGnp2CCOInJPPjXpG1ANJsKse+g2HkD9wkL0WKjdA56vgtnugV6/DD7mHhdK+T2cqd89kOlDdVmWLyBl1/ofSqgLYNR+YCpc7HdGDetD+HRTNfZ3vzGbqzWbMWGBh0fyvVbyvZNyY5ey4awavh1XwVdKXbJzRmZGr2zHyslmkPf0Tr48de8JxS78+NI0rupro9WoBB6asIG3Vjyy6qwMtbbpkE0y/A/rfCI0NcG0CvLaJ0/7CcAkIILhHBKv/E0f0f8qJyJtN3SUdcIiIOHzmva8vtiMn0nV3N6av3sTO9F95elRfjsrAjsH4XvIK+/alMv+2YGJaN3DzCMVUVhwgO7sDk66sI/XF7gztZsJ0zft8kmaHt58fwUc2P647w+Lw/x7t8bjmG3Y91YNwb7vDjx98MlvVE1KZRnHSs/xnGwz+9+V4hxxxWM9zLMNHLWXnPbP4ILKaH3Z8w/rvujNutR29h/5A2tMzeW/ChLabK7W6CHbOBfMkGOfMcVMiZO+mZM4rfGs2U2duvlLWof32lHtuwM3cdNUqttz6Jg8GHODbTe+QND2UXhu68e+rl5D29HSeuOSSw51Wx/jt0WuY2M1E/IvZZE5MJG3Nzyy5p2OL+23pVvj2Tuh9HTQ1wQ194dV1HOy97sqYPsN5ZGgVxXNf53s4dW+zpQ1EP8KcXzex9IlhjI6k+QV2N+EdPozxZjPN0ygB7W/ljS+WkZaWxoav/stDA10JiB3JY+s+o8ue3cSF1rH2wBDGPfQqT02OwTNrLb9hQUt7jHd0NC4OeXz9n0mMfK6SKRbTSb98JAFeXkeH0uBgHAdOoG/hQH5O3kty+gIe7tOZ9ke2celIxzFvs29XEnNucMH0h86OL6WqKoe0tE5MnWrJ/rf6c1m8CdPU13h7lxWegQGYjvpTjn6Rft9b/LoQdv2nJP8vFk8nq5aanz31lZA0HepHwHBvTnfgZ8UemH0XRE2Ekgq4fSQ8vxj2HGrg7o5TuB+BFbv4ajpUKZWKnBfOnTGlj1wD69Kg8iRtTNfCv8dCtyN6irIK4PNf4f3vIdgdju2A9Iom4uo3mTewuVds9fv/4em/HKAo9nr+OmU8N/Q7xXgjKyccHZ2I9IvGHB5P+cLHuDP8Nu6/ZASj2ofhdczUR7XlxSy8byLv7a6jrvNNjH/oH9wd6Y9fQBAhPiefr8o5AgbfA19cCXvfhfsWwlsfQdd/QkjHk5d5JEu3DnQY9QyLwgoBR0JSHmO/axge3tYUZh18gq188QkZx/svv8I9D9xGXXUDweP/x81XDCLu0IosrLGy9yQkxJMyN2tsW+jcbVkTTU2NNDTWYe8wh1e/6cCYe3uxa1Uh5gN5FLtGYn3oaLC9B4x7nxmXhtIx4ARjKy1tsHT2PTrEno79a9n64/vc96MLzy1aRu+YUIJdjviDrBxxcHQk0rca28j+VC98intMt3DPJSMZEx6Oj0ML4z0fux5Wp5x8vw25Gu4aBz2PiIHZhfDxAnjrezC1O36/9exE6JQ3mNe3eb9d8+FjvHBtHg9EX8O1U67g5gEn2W+tXHBxciEqsDOF/u3Zv+pdrgt/mMcvHcKgoCBcbY8foFxfVc7Ce6/kvV3V1MTewNgH/8a/OvjhGxB8yv3WqT0Muge+mAgp78L9C+DtT6CzM4RG2eIYNYYx//HDacNiPh02mjm3fs9TI+zxa3EIoQXYeuDn70FlOweciprv3b9+I7M//oJ1w4bRcdHBDy8bV7x8ms+Ht9/rgbu9Jda2jnhFROLwz3m86mDLD/Pe4Zv/+5E0u+4MHz2c0RwRXo596vwGMPKv7Zk7pByb+kqC9/yHnzrH4ey09ehf8NbBhEWN5OkH3uKeG67DtsmMafKr3D6+++F8ZWmDjaMXIcE2lLpYYv2HugCaMJsbaGhowsl5Jm/9EMqQW8YRtq0Gy9w0DvibsAFwDcLl8jdZMNxEqOcJBqBb2WLt4v3H3z8teeku+HU9nKwXOHAC3DIBhhzxk660Ep6eDo9+D3HBp/1N5BAICXfCl5Ng3zvwyDz46EuI9oTIroClJZbWVpjrqti4cTf1o8PB4dz5uhOREzt33qUjpkDn0uajOi1xi4HAIwZY7lsNC76AiCdgQiScaBYVOzecTN3pf/CbIsRcQlRuGSnbVrH1g9lc/WN/Yi+dxoMjT35I1MrJm3YdRjPkx9vJDLqUmIBIvOyPefpqC6hK/pxnf1rO+gP1hHR9jKAu/enfygnzrF3ALxp8wiHOExasggVZzUfaT4uVI45enejf/+DtXHvcau2xsbY5opEtdlYedHZNZ7fdQG4bE0bnPu2JbAfsO83tnZItFnQk0D6F5d/ns89+FN0c2uEEHPi9Zhvw60p8W2/6ELdg/HtewpUFK/ju7Xl4vd6ZICu7407usHRoh0eny7nk59vYF3gJnQI64uNgc8JVAjBsEsSWHH8c+Eiu0RB0xERCaWth3icQ/j8Y3wGcT5BW7FxxDOlO/4PXOQixKCMqp4SUbavZ8dFcrv6pL9FD/8JDl/kfv+xB1m4h+IYNou+SN8gIHU93f09cbU+wrboiavZ8wXM/L2Ntbi1BcQ8T2Lk//Vs5dMTaGXyjwDscOns2z/ozPwvKyw82aMgnLXkzs34rI+7mG+gXZ43LKU7cO07GcrZnLmJ5TTyP/NOXDxdlnbSTz8LKBufwvsSwjQVNdoQOGMvgEWO5tIMXzlkbWl7Q1gPvYA+8g4HybJr2gIuTI5bHTR1mj6OVMx1d89hqN5xnrwwhIj4QU+vnbjtN1kA0gfZprJ6ZxT7H4UREeh0+a97aAWv/OE4yOv7MGDgOTPGcdAJXlw4QccTcTHm74cfnwfQijO4C7U7/FCsrR/DqBAMiIc4Nlm2EWTnNoyqO1NTUREVFJeYmjSoVOR+cO6G0/+jTa5+zEdb+BgfCYdLl0A7InQ+5PSHYk5bmOAkZMIYQoDTKg1Xrt7By7wHyFr7JS4VXcffVnVvcXF11JXmZu3AIhJr6NJqaQjnubFFLW+w8Ixl/9/8Y3dhE/v4lLHl7ESvDE4jvdwlXdGvdN5alHXjGQ98QSAmEljrpjpW5egEbcxwo79WbK67ve8ppkhpqa8nesROf+JcYO7EDXQKaw1feSZcqZvv8xSxfMp/EvSnsrfLilw0Q3ZXfe1JLNn1P4so1VA424WbvAthgadGevlEZfLdvMH0mJhAfs5cdyS1fZ6Zo3dcsXpXIj79kUO0QQULrnoKWOfvj3f0yLreDuePu5d13+xJ5/UDc/I9+Detrq8nN2IG9v5nahnSamjoAJwml/S47vTpyt8DaxZDbHqZMAC8gfwHkdoNA7+bbJxDS7zJCgLIoT1av38SKPcUcWPQGzxdM4t5ru5xwmeqKUgrz9mLn20BN9V7MZldOeHUJSxtsPMIZd9eTjKxv5EB2IsvfWcKa8Hi69x3MVT1aN6utpS206wV9TLA3sHk6Sihl37rlfPfhctY4XsGMSVcSzemOG0pnw5oS8suriL5+KuOjt/AhWYcfLlrLnEWrmPfTL+yvccbxuJ3Fhfa9BzJiwkC6U8COrGMfh+RZn7J/UxYHLhvA0BExrZrHt66qmvyUNAL6v82ESQGYPJrfANknXaqQTT/OZeXaX1mybR8pZZEs2AKxx7yEpVt/YUXiVhp2BOHl60vzR3UECR2zmbmzGzEDetGnSy5ZaYUn3ErBio+Yu2Y9MxelYxXeixZOifvzeg6GnqfRvjAZ1s5s3kH+MrX5xKfipZAbDl5BB8/2bD0LK/DoDgmhsCsQnI+ZTsPa2prAwACsjjuRUETORedOKD0duZtgzocwaytYDAafN2EJkL0CeodA4Kln3XOLHcXI2FEM2LeKDUsXs7T6JCPdajPI3r+Yr/c2MSAumsTkVeQndOVA1TbyGj2w9+xIhDNg44pj6BjuuXcMANu+fo35m5LZtn0ZS/cnkbM1mnbRg5l6qhmdG8F8APYC/XtCcCvHcjbV11K8J4lttVUEjOvLuFNtprGRvLw8POM8sbE5SfA6JHUJC79fDWsXsDm1ksbYDiSMaOTX73Zxd2wHbA/2Jpnra6lJX8OGxGSKPIcQXl1K3vL32ecxjFHX/lWXKRsAACAASURBVIObLutGZ3POSUNp5vIlbNi6lxxLdwLb6ko1ts7Y+kTR3TKX52ckUTK6BxwZSmv3k5+9kE93NdI7JorEvevIr+jBgdrd5Nc7Ye0ZfdozIRwldwvM/QB+3gTmIeB3cL/NWQnxAeB/7IDo47nGjGB4zAj6pa5l05J5LGppv61OZm/GCubtt6JnRCiLti3mwKAoHPJXkmXVHk9PEyGHjixYu2AfMpq7/938w3D7t2+yYMNOtu5IZPn+7eRvi8K90xCuTjjFDtUEFEKKGfr2BJMvQAXpO/excX0FDjf1PWZS+tYp3/sba4r6Yxs/ittHRUL6lqMeL9s2m6XLd7IhxxJT0B+b2r6htpr8jYls9HXGr08M/Vuxmvr6egoLC/GN821d6ElZwC/Ta6j4bR5bCyywjgomJtSSZTP3cHeXo08CMzfUUJu5gS2JSeSbxhNRW8mBpW+R5tyfIdNu4C+j4om3WcB3LYTStMXz2ZBaToG1LWFn53Jlp1awC379DL5ZABUjYMWbsALIWw+xN0G/oNNfZ/MFt0htgu5dIOLQKmpqqSuppMremyGD/bA7j6/0J3IxOf9Cado6mPc2fD4TVhYCifDTwcdcRsJYjjrZqb4sj/zktWzMOck6/frT3/v4w/fVRdtIKUgltTSV3NJ08kL/xlOmAH5csZYlO+aSXJ6JlUdfujodDKXHiJ1yB7FToGjtl8z58Ru+/CUFh13luDtM4NIo18PzPRbB3n2w81CNDWBOg9Qw+FcfCG/FNHteng4Ex8ZhbRFGGBXkVYDZrYHyXYtYvzWb1KIVOOXkkZXZiEXgEQuamyjbuZAlC9xJOfhFXLJlE6kltcdNjVqRtJgNO91p79yAqV8X7Dr3orvNbrb8vBOaDk724+SEfWg3Yuyz8XDMY9eBMgLLs0mc8RM2US/w8oRoIrztONUcNFXVDrib4ojx9cSzpPZ0LnZ0EpXUN+wmKQPqg11/n4appngH+wpSSCnNoKB0N1mhf+NxUwBz16whccdcMmrzsXTpRpzjnwil6Rua99svfobEAmAFzDz4mMsImA1Hdm03lOeTn7yGDSfrdvMbwECvo7uWqg6sZ1dRDvtLtpNaXkNN2C3c6z6b6YtX8Mu29rhlbcYqaAJ9nY8IpceImXQbMZOae6vn//gVn8/ai832Mjwcr2RolCt21of325R9sOOI/ZZ0SDXBP3pDhDeAPXZ2DjjZ1kNF+Yk3eArF+0pwjurEgHFjiSOXY9/KVYWFWDoF0DGmIz38qkk7rretkszN61g2C/ZTRuamJHKArgcf9fd3JiQyAfvcIjzsaymqhgarQgq3LmTN1hLyWcDSol1kHzj+bJym+lpKk2azyMMaz4NHNIrWJbHP0uu4Tu+KTXNZs8uRMCcw9etOu7hOmOoy+WVlMnBEKHV0wt7UhU7WZYQ4pJCUV0ZIdR4rvv4W66jn+L/xXYgJcOBk0ydUVjni1SGCGGcLfB0czt58vC3Zvw1+/RC+mA4L8oANsODgY86D4O0MduQ3kLKxFje/ICLjo0/caVoCGamw5VBvtxlIgz2+MK03RB/8GK87kE/RjnTKvOOZ2u9kMwCLyLnk/Aula7+CRRuhMgi6HPPLOuIq8Di6t6kmdxdbpj/CI4tPsk6nMEJ7/53BPY8+H7k04xdmr/ma6bUxdOt8Mx9fEgVYMzV4MTPXvMmCoDu4Ky6ek51zAtCu19X8pdfVXJ6yklVfPcV/Z/emX4QzNod6V9Jh2Vfw2q+Hl7G0hNfnQ3fv1n2gxvXpwtLk75mZWEB9/0k8GgLm2hpyZv+Pl5ZUkFX2VfNZ/F79GdOjOeJZWNvhEBCD09wXeS/x6PUFJgzjyiN6F+z9onCKGMqt109ktPtKZnz5CU+9tZrVbiG4jrkBDo25C+uM3c8zWJGYimngQCaMjKBidyhJpleYd1ME7ZwO7nI27ni0A/+mE3dhhETbUfn1PBJ3h9Nj0CQiTtjKBjdfX/zMlq289GMN9aSRAth06oSlY/NXdWnWfOav/pRPKzsSFXcL0y/tCFhxVfASft7wLr8G3Mo/OvVl8GnPPnCE9V/DovVQHghdAo9+LGIieB59+n1NXjLbvn6ERxaeZJ2OoQT1upUh8Yf326KU6czYsJi5FgkM6/5XXugdR3l5PTcGz2LOb89RGfooT4VE05oj8u3ipzA1fgrjUtey5otHeeCXvvRu74TdoTklMyHxa3h50dHLvTYXevofGuLtiZubF36uVaRmZgG9OB22nqGYhg2mb98ruKYLgDU2tl5EdgnCxcYKK8Cv1xB8NnzN3MQCKgeP5pajBlba493ekSVLZrJyyaFfAU54dexLO5pPPu93WX++eXc+v+6JZHxsGD18oS4jnV2zXubRREfgeT4ACArH2+Pw+EdLW0ccvUJwmvs4rxzz/gkbOpFJB3/VWVha4RAQi2PpFTxw5wT6N/3CB59/wxuv/wbe0QSNv/7ohU0x2JZ9zfrEveQkJDBxTAdqNgWwIeh1fvlrRwLdDx7VsHHD3cOLAJvj30NhnR34ecZsElOjGDhuaguzRtjiHuCPn613G/3oO4mkX2D+b5DnB12O6QAIvRzs85n//Y98+l0aIX0uZerbTzP1RENNs2H9d/DE7KPv/r8Z0D/y0ICqavJT97FjYw5hl/yT4WfmLxKRM8DCbDb/6RHgP17bi67X30/YkCvboiaRMySfvIwvmNTxHsrv3867t3SgR4DVac+LtmPHDhISEsjIyMDDo3XjLS9aDTVs/voN3nzlKzbHPc66j8caXZGctv389sZrPPvIfPIve5SNX/6By4yeUj01VTXUbFnOztRMVvX8G3e38gTRozVQW7OOX778nk+/beC6+a+gbyUR45mbGvlydAjDn/sen7iWr6B5/s9TKtJq3rg7jefpqWZyXruenzN2nvSiB9IGNn/Cqvnv8FNDIBGjRhldjZyzVvDR09fQZ+rrvLLZxD9PfGikFdYx481XefGTfHxueZbxbVmiiJxx59/he5E/zAJb9xC6/28b71uP5pnbXyXgyX8xeWRMS5M1yJ+Q9f19vPXh5yx3GcFtrzzJzd31cXNeK9/Nztl3EhPzJDCGV365k75hXm00XjWeKbe/xrBrzdi7eXKimctOLZH3n5hBUl037vjsLwzystMXnMh5Ru9ZuahYWNngEBDDoHs+pV22K/6dgjlXTk6+0Hgm/IVp/kMZ7RRCcGQwgS2cWCXnOk+6jLuRpyKHUAA0H2Dzp7OPy4kmGPuDnGjn60S7Vlz5uWWduHTiTfS1ccM/LJBTzBUhIucghVK5KLl0GETfPzRmTVrLIagzsUEtz/0r5wt72oV0oF3Iuf6G8SIsuhVTlYjIOUtjSkVOk7e3N/fffz/29qd/JRoRERE5MfWUipwmb29vHn74YaPLEBERuaCop1REREREDKdQKiIiIiKGUygVEREREcMplIqIiIiI4RRKRURERMRwCqUiIiIiYjiFUhERERExnEKpiIiIiBhOoVREREREDKdQKiIiIiKGUygVEREREcMplIqIiIiI4RRKRURERMRwCqUiIiIiYjiFUhERERExnEKpiIiIiBhOoVREREREDKdQKiIiIiKGUygVEREREcMplIqIiIiI4RRKRURERMRwCqUiIiIiYjiFUhERERExnEKpiIiIiBhOoVREREREDKdQKiIiIiKGUygVEREREcMplIqIiIiI4RRKRURERMRwCqUiIiIiYjiFUhERERExnEKpiIiIiBhOoVREREREDKdQKiIiIiKGsza6ABEREWkbTU1NlJWVUUYZZRVllDWUYYUVrnauuDq44mrliouLi9FlipyQQqlc1Mpry6ltrAXA1soWVztXgysSEflj6pvqySvNY+napexlL3vT97Knag/22BPhEUGkXyTRztH0694PDwcPLLAwumSRoyiUykWnoaGB2oZaahtrWZK2hLSSNACC3YIZGjYUOys77KztsLKywsJCH9oicu5raGwgoziDzzZ9xpM/PImttS3WVtbYWttiYbZgY8pGahtr8Xbz5j/W/2Fa3DRcHVyxtNAoPjl3KJTKRaWuro5t27fxzbZv+Gb7N+SW59JEEwAWWODr5Mvk2MlMjplMXGwcdnZ2BlcsInJqWzO28sysZ/h518+YMTO+43i6x3ZnTOwY7Kvs+W37b3yz7RsWpy7mgS8fYGvnrTx+1eP4uvkaXbrI7xRK5aJRVVXFxt0beSbpGdZvXU9RZRENTQ1Htckuz+bTLZ+yrWkbD/AAPTv1xMnJyaCKRUROraCggMSkRObtmYerrSvvjn2X+Lh4XJxdcLZzxqKdBZO8J9Evth9z1s/h3oX38vXWr4mOimZyl8n4OiuYyrlBoVQuGoWVhfyU9BOJSYlUVFbQ1NR0XJvGpkYKKgtYsW0FP/MzIUEhhDmFGVCtiEjrrC1Yy3dp3+Hi5MLNg29mWPwwnJ2dsbQ8fGje1doVRztHJtpMpMncxMO/PszPu39mYPhAhVI5Z2gwiVwUKisr2bpvKz/u+JGysrITBtJDzGYz5eXl/LTrJ7akbKGiouIsVioi0npFRUVsSN7AnsI9dO3QlWt7XYurq+tRgfQQa2trAn0CuaLPFYSFhpG0L4nklGR9xsk5Qz2lclEoqS1he8F29hXva/UyqcWpfLD7A3Y27sTT0fMMVici8geVwpbULVjWWhLrGUu4R/hJm1tbW+Pj6UOsVyzz989nd+Fuetf0xtnZ+SwVLNIyhVK5KJTWlpJSmnLay81Onc2anDU4oXGlInLuCXEOoaSsBAcc8MKrVctYYok//lhjTRFFVFN9hqsUaR2FUrko1NXVUV5eftrLhTSGEGQThJONQqmInHtcnF2orKmkvrKeSipbtYwZM+WU00QTjjhig80ZrlKkdRRK5aLg5uJG+6D2sPH0lpuaMJWb+91MuOfJD4mJiBghJyeHV397lQ9LP2RPzR5qa2tPOpWd2WymsraSbTXbqDXXEmYThoeVx1msWKRlOtFJLgruFu6EW4ZjZWnV6mWsLK1ob9keDwt9YIvIucnf35/Y2Fjc3dzZtn0b23dtb/FETrPZTGVlJZuTNrN9+3aaGpoICwvDw0OfcXJuUCiVi4K7uzu943ozvuP4Vi8ztsNY+sT1wd3d/QxWJiLy50R7R9MvpB/pVek8kfQESUlJ1NXVHdeuvLycpUlLeXLHk9Q11XH3mLuJ8IswoGKRE1MolYuChYUFfq5+XN7p8lYvM7bjWALcAk44tYqIyLkiyiuKy2Iuw8vbi183/sqUb6fwxdYvKKwq/L1NSnEKr695nTtm3sGW3Vvo0KEDk7pOIsAlwMDKRY6mMaVy0XBxdGFw18G8UPkCn6d/zu703dTU1BzVxs7OjkhTJNeYruHSrpfi5uxmULUiIq3jYONAT5+e/C3qb8xunM2y9GW8OPdFZqyagSnQRG1tLRl5GaQWplJQWcDg0MGMiR1DuHs4NlY6yUnOHQqlctGwtrbG39ufawZcQ3h0OFt2bCG9Ip3skmwA/N39MTma6BzTmb6effH28sbKqvVjUEVEjBLoHsikHpOIDY4lYWsC63PWs7d0L5sLNmNpaYmblRsx7jH06tyLQTGD6ODZAWc7zU0q5xaFUrmoWFlZ4ePjw+U+l9PPqx85tTnkluZixoyfmx/+tv74+PgYXaaIyGmxs7MjNDCUYL9gOnt3ZnPuZrIas8gpysHGxgZ/F3/C7MOI9Y/VZ5ycsxRK5aLl7e2NN950DupsdCkiIm3CysqKoKAggoKCjC5F5LTpDA4RERERMZxCqYiIiIgYTqFURERERAynUCoiIiIihlMoFRERERHD6ex7uejt3buXkpISgoOD8fX1NbocEZE2s337durr6wkODsbT09PockROSj2lctHbtGkTCxYsID093ehSRETa1IoVK/j111/Jzs42uhSRU1IolYtednY2ycnJlJSUGF2KiEibSk9PJyUlhbKyMqNLETklhVIRERERMZxCqYiIiIgYTqFURERERAynUCoiIiIihlMoFRERERHDKZSKiIiIiOEuyFBaUFCg6S9ERETkolRfX09mZiZNTU1Gl3JaLqgrOuXn57Nz504SExOJj49n+PDhRpckIiIiclbV1tayefNmFi1aRIcOHYiNjcXNzc3osk7pvA+lDQ0NFBYWkpqayvLly1m5ciWrVq3irrvuUigVERGRi05DQwMZGRm8+eabxMTEMGLECLp06UJYWBheXl5Gl9ei8zaU1tXVUVpaSlpaGqtWrWLRokUsWrSI6upqo0sTERERMZTZbCYjI4OdO3eyatUqEhISuOyyy+jTpw8+Pj7nZDg9L0NpRUUFKSkpLFu2jJkzZ7Jo0aLj2pSVlZGVlWVAdXK+KSkpoby8nLy8PO0zInJBKSsro7S0lNzcXH2+XUTKysooLy/HbDYDsH//fn744QeWLVtGQkIC48ePZ/To0Tg7O+Ps7Iyl5blxitF5GUrnzJnDK6+8wurVq39/wo/12WefsXDhwrNcmZyPsrKyyM3NZcmSJYSHhxtdjohIm9m3bx/FxcUsXryY4OBgo8uRs6ixsZG6urqj7isoKGD27NksXbqUr776imnTpjFt2jScnJwMqvJo52Uo7dGjB9OmTcPa2prly5efsE23bt0YMmTIWa5Mzkfr1q0jNzeX6OhohVIRuaAsXbqU6upqYmJiFEovIrW1tWzfvp3t27fT0NBw3ONOTk7ExcURFxeHjY2NARWe2HkZSoODg5k8eTIJCQmsWLGC+fPnM2/evKPadO3alWnTphlUoZxPDo1DHjRoEAMHDjS4GhGRtpOZmUlZWRlDhw6lZ8+eRpcjZ0lZWRkWFhb88MMP1NbW/n5/ZGQkI0aMYOjQoXTv3h1PT0+F0j/L1tYWb29v3NzcCA4OplevXgwePJjExESWL19OSUkJTk5O+Pj4GF2qnAccHR2xsbHB1dVV+4yIXFDs7e2pqanBzc1Nn28XEVtbWxwdHX+/3bVrV/r378+AAQPo0qULAQEBuLi4GFjhiZ2XofQQW1tb/Pz88PHxITw8nISEBOLj41m7di2BgYFGlyciIiJy1llbWxMcHExCQgIREREMHDiQbt26ERISgrOzs9Hltei8DqWHWFpa4uvri6+vL1FRUfTr14+AgACjyxIRERE56+zt7enatSu33XYb0dHRmEwmHBwcjC7rlC6IUHokHx8fneAkIiIiFy1ra2tMJhMmk8noUk7LuTExlYiIiIhc1BRKRURERMRwCqUiIiIiYjiFUhERERExnEKpiIiIiBhOoVREREREDHfBTQklcrpcXV1xc3MzugwRkTbn4eFxwmufi5yLFErlohcREYGtrS1BQUFGlyIi0qaio6OprKzE19fX6FJETkmhVC56UVFRdOrUCW9vb6NLERFpU927d8fOzg4PDw+jSxE5JYVSueh5eXkZXYKIyBnh5+dndAkiraYTnURERETEcAqlIiIiImI4hVIRERERMZxCqYiIiIgYTic6yUVsK3w0DzZmNN8M7AyjboGuxlYlItIWvnwJtuyDKsA5EuKHw5VRRlcl0jKFUrlIHYAvZkNaIbi4QPp62PQbZNnC36+HGMDC6BpFRP6Y796GDUVgdgF2w/ok2FMFsVHQ0ejiRFqgUCoXp7TVsNIMU66DgXGw/Wd4+3H47kXwHQSdQsFaqVREzjNNQAls3gG9/wmDOoLNOnj/FfhhGay8DTq6Gl2kyIlpTKlcnJL3wy3XQbe45tsxA2HkjdBYBomJ0NRkbH0iIn9EE3AAbngJxnYEX6BdFwjqDW6WYFlkdIEiLVNPqVycht96zB2u4OgLwVbg6GRISSIif5o10BHaH7rdACV7ILcK/HvDdaEG1iZyCgqlIgAUQlk6FLWDu64AK6PrERH588wZ8MxzkOYCT71udDUiJ6dQKgJQuBvS94HHSLgChVIROe+lvAOPfQY/b4VGCyiohns+hFFGFybSAoVSuXDkpMN/roZ9QGMLbWxcIfxWeH4YeDgcvn9tMuw9AI8/CDp6LyIXgICx8GA8XDkfvvsafloNb38Ko64zujKRE1MolQuHqwdM+SeU0jzY/0Qs7cA9BhxsDt+35kvYvg+63AGXBJ2NSkVEzjiHQIgOhDBfqC6Bbd9CVqbRVYm0TKFULhxOrjBiyukts3curEsGh+5waX9wKIGMFZA7Ejpbgf2ZKVVE5GxxCIKIaOgRBPt9ja5GpGUKpXLxSl0M09+GlRbgbwPmN6C+HIp3w7DhYNbAUhG5AFRAcQWYvWFEvNHFiLRMoVQuTjsWwnfPweerYW8FMBM+BqzcIWwCPATYGVyjiMjpagSyYNFOqKo7eF8hbE4Dl54wUZdRlnOYQqlchMyw6EVYVggukdDtiIfs/aDLlWCp60qIyHmoDtgAL78OOaWH7x42Ge65H4INK0zk1BRK5SJkAXfMgzuMrkNEpI05AFfA7CuMLkTk9Kk7SEREREQMp1AqIiIiIoZTKBURERERwymUioiIiIjhFEpFRERExHAKpSIiIiJiOIVSERERETGcQqmIiIiIGE6hVEREREQMp1AqIiIiIoZTKBURERERw1m31Yq2fPY8e+Z+2VarExEREZELgdlMbVnRKZtZmM1m85/dVsqCr6kuyvuzqxERERGRC1T7YZNx9PRr8fE2CaUiIiIiIn+GxpSKiIiIiOEUSkVERETEcAqlIiIiImI4hVIRERERMZxCqYiIiIgYTqFURERERAynUCoiIiIihlMoFRERERHDKZSKiIiIiOEUSkVERETEcAqlIiIiImI4hVIRERERMZxCqYiIiIgYTqFURERERAynUCoiIiIihlMoFRERERHDKZSKiIiIiOEUSkVERETEcNZtsZKCXbuoryoEGtpidSIiIiJyQXHGq2MnbJycWmxhYTabzX92Mz9eO5WK3A1Y2yuUioiIiMjRKvIcGf/BV/jEdW6xTZv0lEIK/R94hrAhV7bN6kRERETkgmBuauTL0SFA1UnbaUypiIiIiBhOoVREREREDKdQKiIiIiKGUygVEREREcMplIqIiIiI4RRKRURERMRwCqUiIiIiYjiFUhERERExnEKpiIiIiBhOoVREREREDKdQKiIiIiKGUygVEREREcMplIqIiIiI4ayNLkAOK8vcS/reTRSHx1C8qJj4KfH4ONrqRWoz1VRVpLLwmyLip8Tj7WSHzVndfj4p27axYfU+6j28iRw8nvh2YHFWa5C21FBbTcr8rynq3o2i/2fvvuObqtoAjv/Spk1Huvfeiy5GoUDL3rIVREQBxYEL1+vA8TpQQcWByHABIntvkL1XodBB96SD7t00bdLm/aNFGR2AYPH1fD/y+djk5ubkJvfe5577nOecr8WtgxuuXtYYtHfD/oEKLp0lt7qIEn1HGlIb6DymI2bczf0jk4gDBeja2OMZ4IDhXVvv7Url+M5IMq6UY9ShKwFBwXjI260xgnBfET2l95H82NPs+/FdlkQd4NNnVhBfpqC2vRv1f6Wc8uKDfPL0CuJK7+a2VXAlPpHU5CxKWltMGcfZI+v49ovvWbVyMUvPVlLfcNca8bc5ffo0BQUF7d2M+0JdVTnHZk9ndexO5n6ynkOn0ihv70b9Q6Xv38CODV/xw949LPxkJ1mA5q6+wwU2/rCRPXvjW99P70gDmoZyko6cI7OiiprWFq06yK8/L+fn+V+ydNt+jqQq73prBOGfSnTCtbO60mwKy6qorIXMrCuU1LV3i/5/VBdkU1xRhULd+LeWbgXl1ffinYo4tugXEk2dCX/vCUKryrlSb4GHlez6xcrKQN+d4JF+jAzMYN6JXDSDvKnITkdpbIuRoQH62lcXVqGqreJKZh1WntboaUnumx7VF198kffee48xY8a0d1PaRb2ilPLifAqqQVlWRF6Nhvq7Gz39a9QWppJbrqJWDRkFxVSo7s5666orKMvPve54qmuhpLoOzO7OW9xATYM6g9+mvIXlxvmM8rXEsEYKMmOsjW44zV65Al5jebxXAjkNcgoSS1F5G1FVXIjKyg0r2bW9wwrKihTUqnQwszNB9560XRDuHyIobUcNqhqSf3uRWUv3sSNZAmiwDnSlt1LFP7AD7b7SoKrh0JyXmLdhL6dKGretgasLrg8/Rf1dfzdn7O1NKZbVoUzYy/Hda3m+6n1SZvlfv5itPdKaDRxZuIFV9l3o88lc6hQKts4YxaUJC3lwUG+6mV9dOI/LyZuYGp7O7MzZdDHRR/+ut1u4XRp1HXnHlvLbt+/xybGrN5qkjK5S09DQcJd79v6PaTQ01FUTPXcwL6zLI66wcR/1Gd0TD2v1X9qOmnoVaQc38dPM5/kh4+p31IDb8y+ge1nC+LvQ/JvpIpF0wMdHi3JqUByczddn7JB1nMTccQ7XL+rlhyzqI979NgWD0R8xvZsFmSd3sW3hHPI/OM3HASD74x7mOTYsPERUugsvLZ2K9z1puyDcP0RQ2o6S5w3hP2kjGfbpFywItQBKyYjYzVcPf0oMY1G3dwP/wVK+e4DvFcMYtmAOa3paAmVkROzmy4dmsYmx3KUOmWvkcnjhMvZ8rIXcqQsd3/RtZpnOjJo2A5lDF1atM+Kr8KN86D2RyOm7mdU9gM73pgtHuIuu7JzF4v2ZJA87RuYKV0ANxDG33zMci/entL0b+A9RV5ZN3KzOPKpYyMJNoXR2NgRyOfnrUha8/xs5fo/d8boLDy9g294jXJx4iMzpnk2PxvH92Ff4LcaaIgbflc9wMw0Qz4JRA3mvqhaL4Z/x3DC7ZpYbxefr69H/+Apu3h74JH7OZ0uiUL24h8UdQFck1Qn/YiIobVMS7FkL72xu+lsCM3bBSBuwuNN1qoHdLN5+mYtx87i0/zeWyaWAmtqqcq5UKlBr3+18qr/X5p/gl0WQC+iag++L8N0wMJa1+dK/qB7YzQ87M4mK+Y5LB1awx6iGLQAAIABJREFUwuiabatQoL4X98Ftgxg242Mmu+hSHX2WFdrazSwUx6FNK/nmg81El2jxYJYtwV9s57O+HQi01UH6N92fj1j4Hr9uzkS/36PMeGcYTn/P2/6NyqB0OwybD3VNl3YjP4JHRoLfX1nvGX4/F8XWNcfJ0j/PoGUyGvfSGq4kZVKs9v1H77PJUfDeE5Dc9LfLFHjjQfBM/o7Vvy1jY00fej39DZ8O+KvvVEx51S4++q2IHGby4jE5hjItQEVlYQH5CgMc73jdFzgWe451aw6SKEtk0Ea9psdryE/KpEhtfu/uQkm0wGsoM199EJf0dexSmKOl1VyEeYivX/uB7TtTqdHVwa//A/T7+AsmdDXF8G87I9cBu3njwd24v/kiw7oH4Pp3vfVdEQ2rVsLcfY1/Glo0npcf0AHDoyz+725KXLozbNpoOv1tbaqiIPkECybMZDc0dSqF8dT7TzJ+bCfit8PXH8BlQCIFr5dg9khwM71X7amkTrmbl4btJnTxBwzzcaW5S6T7jQhKW1UEm47B8XL44AOoLITfnob5k6FuHozyBds7Wa820JFJH/7IoIqaZnrtpEgkjnQ2N0Tv5hf/LapST3D297WsMHyNnye7onUbAdP6BXCuEAZ8AHY5ELsJfpwNw3vDEBkY37tm0zh2L5hH/7uYAeWtbFsL+V3ctpHgEIiHzJUudhdJzItqYTknAro/zrtz+1MNaOvq4di9Cx1MtJrpHbHE1nkks1cp8DPQvWu5ZBEL3mHR0ovQaTAPjAjEvO2X/MNUQ2oUvLsH3nwbtLVh239h7wdQo4ApE8C/7bU0z53eE97GIaSwhYEstvh29r5HOYtta6itImP5U3yumsH0kR3p5HTrNQAuHoeVy6HDB/AokPkb/LwS9njDxI4DGTSuktL9J/hl9gtczvwPP092RXbHV1FyjCz688rPW3gSmgkSDTAydcGNOxmJ60zXB2Yw23U8imaft8IjwAvL215vWxQgOQ5+LxDW0Qcn7cNEpLdU2yOQkVPfI2RkFXWAkb0bbh3ccW22HIA/gybYEKrQx/5uNbUih8rDc3lqeTZOYyYR5OFwD7bHvZQHSw5Bim7jebkgBda9C589BOofYYgPfXueZsmu5XwxJ5fHpjzH8L8lGqtHVVNKZlQcF10n8/VbfXGycce7ozOn18KxCOjxATxWDmkr4btv4PcQeNAUrO9Je/SQSjsxZfxuPpv1KokPz+SxPt0INLknb3bXiKC0NWmxUAl0HQeju4OyFBySYMJi2HIEgi3BtpXdueAQKzYf50xsLe49ezF44hD8FcXURvzM+1tzqVEF8dCzwwgJsEdeEUfEyf0s35kMaCOROGDQx4NQPR2MSOTQpn0cPJRIGYCuOUbuI5g1PQRt7XvTvaZjbIOltR2W+2fy8jkLsBvFy493x9OpjZCyEEycoUcIdA0Fq1LwMoaVT8GZTAiTg/E9yNYvy0jg4p4NFI54j1H2TnTp60Th0R/YfiyWC3mApR/uIX2Y4hHHB9ur6N1PgxQoPrmUnUcjiciR4xDUjWFPjyVAqSB322LOd3yCHvoX2bfrhu8QaOyRPcfS2dn4jbTHJsAHYy1zDCouNt/AxK1s2neGQ4mVAMhtnQmd+gZBpvwZ8BefZvueI+w9nQ3oYWLnx4h3nsSUxssYAEoi+H3/YXYcuwzIkFt6M/KDZwiBWwhcz7Nv7y5ijYYzbsRYegU5tmNZnHukJB8S4qDDwzBqBEi1waUA3v4O9u0Hvy7g79ny6//YDy9jaOHFqA+fbdy20StYsieaC1k2dOnbjxEPdcayroSK1B38d/E56hs0gDVVdnIMncxwJI+0S8dYvfgoeVfXbTuM6RN74O9+b8JWibYORj798NjxE8vm6LLEIoyhg/syPNy59RdWgr4UfIdAr9HgDRRbw/5nITUFisI60Ku/CSNr4MyWxexcEkzmo0/iJpW2XFJNUw+5W/l8yVmyC/TpMn4kfXt3xrUwntQTG/j2QDkQwnOzRuFhaoCs+CRbdh7lQEQOoI+ZUwDyPt6EAFpEsnb+Li4k5VMNYOiOb5fBvDD+z6uLi0tnk+E3koCAADy9LLDQiSDq9+WsjgWQQNfneD0klYNR1RiVqAjwaHxdXUkmqTvmsvgcNGjs6D/jMcK8nJFFHyOpuAaFZwDehbv5bGkUYM+wd56ih51l04VHNpfOxnHutJTBM8Kx1XKk60Bv7Exa2C51VXBuER9uy6G4ujGz3aX3SPp6BuF2dUdsqIPcbXz681nyimsAM/yHDmbA8HDkAOpKVFnb+e/ic1QpVIAlnceNoF+fLrfY01lCfsFxfll4Dumw6YwaOYBgMyP+URWpEi+A2hh69IGRHaEyGyzSG8/L649CxyH49hzJg4pylu8/zm+/WmH/9ri/r8dUog0mgfQfNIwObmZQAmUW0HkYdB8ATjVwxQZWPQLR6dDHFazvyYABHbS03en58DQer5nHb5vXsFUmxWhI5/u6V/z/OihVXI4kLj6RS8aDmdLjDu61a5k2Rla2AY1/6xlD3xnguAKy06CiHFq5xiyNPERUWgHJScUg1+Pi0CF41JYQtXYxJxRj0DuxCpvevti6N6A+c4ZDe5NRGhhgXluDJmE9P813Q/5kZyQRG9iy+zKXa0zxdgBFRRmxa79nrsHLPDsuAFOjux/lyaw88e0/iWnqMpZeAE3GNtYtOYNU35vOvbvRrbtb8z2eEujaH7QNm3pEDcHcG7CBQCkY3KNb1NX5WUTvWEly6Hs8YAuylB1sWfkD32+9QJ5VAHaekJ+Uj9+UEhasC+StKR0xVV1g+6ZfWXZOQk29CQHVhUj6jMXfTknR0Q2ctByPTdHV7zCTGu06dEKH4O8Ojf07CexdcwFJ4DSGB5hjBVDRTONKzrB1w2Z2X66lxtQZB2U+5al7+H6BAbovTqevjTYG5RHs2ryJnfElVBhY4FRRRPX5jXw/z5VPpvfGUSZFSjqn9/3OwbNpFBlY4VxVSu3FDcz7yo1PpvfGtc26q6WUl6mpsbLHwNISo7v+Lfx16uoS8o8vYwPjmNjDDmvj26wkK9EDOx94uv+fkXzHseCzD9IKICcXaDkorc6IJ/nCOSKv6OGXvJOD+c8SaAWZe9dxKtGQhEtpINPCeYAHwRXn2fzDScplxphLJEhTjrJvjQ7qhnq66idzYNV29mbZ0d2ncd2Je1ewvL6GRx/pS7D3Hef+tPzRpTKsej/LlNoqNkQUcDknkohtCVw66Y6dS0eGTQhp8Wjl7A2jutP4GwYsPEHqAK4GYCMB9M0wMnHCTaXmTEkJWhpNq9UgNPVqCg9v5myeOQ0xF5EF+eHUqTOmmUlE7tnMyZJeWB2bx6Gn+2NpmEvC9hNExlxBbWCAcXkhFREbWbjAkU+e9SNl6U9sOilFJjfAzhyKs5M4kXQFfd1pPDm6ceOm7F3DWUkgZh4BeCpiid/7C19/9wPbL8vxe/BB+HE9/QyKWHPYgaENtvTvag/KfPLitvHtoqXsMJ5Oz6Lf+D2sL/aWzjilx5CYXkYeFujF/s7JUgf84n9ke+RYXHpZYmYMUEhGwnn2bpHRZUZ/7CQd8PFpYYOoyqlK38fib9Zz0ak7DgYGyMuiObt/FZkKCVqjBtHZqBJl9iEWL1hDJI5YGxhgnHWR89uVVGqZ8tQwV7RLI9j47XriZO44GxhgkH6a4xs11GqMeKSvN23dCa7ISuXElm38VjOEH559mK56Orc9gFJ5JZ6kU9vZkwISiQS/h6YTbhDH0aNRJGSUAaBn7YVHz7EMvxcjs7TMobcn2Hk1/m1kDeHTwO5HSEuG6nAw9qP7wEepKVnCLztXsnxbIJ1GNf/l1OReIiMxhgTbRxjbVnqPSgHxG/mxMJwHOjvgaHYL514J+HcDX+Omyg+6YOUH2IGPLtxOx6XiciRxZ/ZzMB2kMn06jJtOL+0z7NwfQ0ZuY4eHgWMQPt2HMsidxgDZMpwJj9dy5f25nP59N8et7HDtfP/eyL+/gtLK80TkXia1ohYjYzc87UPxMVBQX3aM7ZnlKOvt6eQVgIupaau3XqvTThGbnElUbDzpBQro3vvO2uPa8YYHJIAB6EvA1AHkrV9fKsuV6Js54OysRrdOQUY61NtJKEEfM69gLC5FoFLXoay4xKljZzgQAUNf6IRjgxIj3zrenbmeaL80onekUqRyoEtPfzxtzdDR6KCl/zUzP1tD2IC36GJk0faBpSqSc7mZpJTXYmTkhqdDKD6GChqatm2N2p6Onv64mpn9sW11zZ3xeeRz5jwCnPySj9bHEXMunStlGSRm+OBh74J/707X5yRaXlNypRbyk2DfPgiYAqPdwPRvqlZfceIH9uVZI3cOpm/vTjTIvLDctY/0a68RU7ezJyGfGMIIs5dipVdNWRlcm3ijrLj6HRaCoozEBMD99tqSc2QFK6P0cBjzFG88Go53dTqpp5bxzqff8XXgODqOtMIgfRdrDxch7Tme/z4/DN/iWJK2zOOh138lZmp3LGVS5FcOs+NEAQrX0bz/2mg6lCZxecdcBj+1hOhJXbFpMyj1wd3IEE1+FpUFhXC1n7S+krrSk2zLLEPdoMHevi9+lrZYNaSSXhDHmQINBnpu9AoMvPkAqszgcmEsJ/OqkEoNcHEZRbAp6Faf5VRODpmVcpxtfAhydm61N6a2KI2suLOcSinncsQh4oMHMTrkDnJjzOwb/11HBjIp2BiCtVWzL7tKpVAh0TLEzsMFp5REYmJA3QvKG3SR2XtgX5SFnqSaiqo8cpIP8e2vOUyc3xsXqRZmPlqs+imWaEkZBa5w/KwOXUd2opODNpgG0994Not27+eolyNO3hZtp04oM8kqjOFEXhVSqT4uLqMIMpUgq47gdE42GZVynKy9CXZxuW7b2gx6nRcGAfGb2bRzH+tPHiU5PoV8TTrO2mYEjeyNm54uf6R3G4E+jf9oAMph+xqQh8DAEPA2AiimoiaT5Ap9tEI7YK+l1frJQwM1JQpMHLtjWpyCoqSWvDyo1Wij0DPDyssP5/O7KFc2oCo7zYZtFyk0cCF8RBB26iJKEqJY8MEvxPQLY8mKAgyCw+kUZIetlQP6ZelcPrKNFQt30G+0Dy43bra0Y8RERXLRcAhje2ZQ/+gkmLSYwipjqrhmJHxFBvmxO/kl0wrnYZ3w1NpOgaKB2mvKhjao6lHVSLDyCcKn6EcOxakoC+K2c5CUpVeI3fkLn18ewHfz3mSYvRmmhYdZ8+N81hzfxib3HnTuVEJN1Ere32XJvK1vMdrTDov4FXz/xT7OrDtCWl89LOJ3M2e/I58f/ZABFkYYRS9m1ocnidp1hrA2g9JyshMv8Pu6ixg+/hldtaW3X9FDmUda9GHWrdlBqrY1cJmIGldKdXbwy+qLXNE2x9fXFKk0hchMQxxeHkyQCbeV/tUmr9AbHtACiX5jj4erM+g3fSpjf0K6diX94hk+X7STGaMafys3poQoLp/nws5lrAu5laC0Gs7MZ06MNb7OVrcWlJpd83NRNXbsblsNLmPhAT+wv9UvoSab+HMH2bh+Fxna5mi0izld5U6F1q98viSeWnMbPN3lSGKziMvWw+7ZvgRcPWBbD2DikHVELrvAsX0XGdTZDptbfNu/2/0VlJYf5eDF/WyMi0XXrAd9wmfzms0lYlMXsfhCBVWq3rxoaoN1C0FpYfw5LpfXkn54KQdORxNjNJTwsa8wZ6xDM0vfAU0tVJ2CTBMY3ROcW/9a7Xp2QRa5hYsnTqB2H0pYHhgGmND76dG82vc5fq8YwZdGljhI8pCb1VOtiWfdlydRKkqRvrKXUSGL0b2wnliHJ+hQEEPN7nf5MM8XR9chLJ7/Ov0XzOSCagbu0PbBpewohy7uZ/2lWHTNutEr7AvesL1EbOpCFl+ooFLVi+dNrLG5Jii9Ts83+KAnkL6Edz6ez4uzM/DoN44Xfp3Hq83krtWVQn4cbN4Cn62BOeugQtYYBv0dcWmJUolehxEM9c3AwPQK23JLqTcPYDxVfy6kVCIzdMDoShJX1CZYuA9hajcaUzaa2PXsguzXLVw8EdH4Hd52S6o5uiYaedArdPdwQDf6BCdUJsitxvDdlEj8jmRSO9C0sXahcxfcXTviC2DhhDx0FL34imwaqAPILMckIAxnvzA6AJjZod/zQfryEXnUtz0ZgKIBjbEG47o65JJrsm3V5dTmreaHI2kU55/HKuQXXgzyp4N6FzsTDrAu1QBrs+H4BgbefC5WJJCcvJx5pxKoUxThOLgb8zwyKctdysrYRC4WedG/88O4tBCUVmSlkJOXT3rcKSL3rmZPsRuyIV+xaYoHJvrNDRa7AzVxkFsLziHQrfWzjqmXK+YJJ8lZt4pURRU66aDuCSEThvDD9G/ZsceE0a8MJ8hEQq0KTP1L2b14IYrM80ge+4HuXlZ4V+3iQpkPpf7d8D/9BrNzbCksGcb6bVMIP7mMioocUqHtoLQmkZSU5cw7mUidogDHQV351iObirylrIxJ4EKRJ307PYzLDUHpH/zG8qDfWB4sPsWB9Z8ycOI3SGW+TD+6g7eDHXCQXX96rldCRRrEnYZnPoKps8DEHqoBQ9RIDdUYuujTYNBAPuBEyycQibYWLsP6ovnvLo5GnKbBcBh+JWDj54JfN2ciJ73BXskkdtrLMKmRYOqiIjLiKMs/XUudpRuWg9/nseBfKNn1PZHdv+SZgvlEb0jn+4IuDBk+mEcnjCbltW0cpjEH9lrVKjV1Zm506DecydKfWZB+mkzzQB7XLb7+oqpejXa9BLmpM0YJizgiCeXRjpa4XXNRqm9tiX2IN5Xv/cCmzFq0wtv60pqjpiyvkENrUgh9Zweh5RfJzFFySd+D8LD+VMly+D0qD/w1kHsFer9Md0OzxnG0fr1wc0sjN72IvCoVNgUaHKa9RB99g8Y7HUGD8HZKQ0UJbU5noUgiL/cEF6tMGTbMhWbHYrZBlRNBdMplYvw+Y+tHndFo9vFGr3nMPx9BhslonvlkBjOe8qL80CZWzf2CH86F8V1/w7sblN6ooRoqLkC6FbzaC2z+TI8xcnHBMciNugOHWF/wGi9bgaydCj6rK6EoEY7sgyc+gi82gsYEaoFbGf9bl3mciIwqcrt+zuo3fKkq280bvT5hdtJFsiwf483PXuLJ8fbkblnOhhXf82toN77s8+e52SY0FKtN67iYHceJ8mE8eJ/mlt5fQanjq7w14VWeiJrDj2e3s+HsXLx0j/Kp/F1OPzcGC72bw6V6VS2K4gLKVLDrvedZGpNHbpc3mPnqbBb1aaFXpLQQFMrmMuz/JJWDiRwMrgmhaqvh9GowHg79rKCtWNdpAu9+PoEnwj5g/ZkrpAANWvooTbvSW25CSZVW41WbzSAef3UQj78KVclHOTF/Ku9r+fH81nlULBtNgqSerCteuHa051UXI6KXRHCcwNsbRer4Cm88/ApTor/k57ObWRsxF1/dQ3wsf5/Tz43Bqpltex1FEQXltdReUdCgY4KdkxF1NaXs2ZTDqy973bR4WSRs+AG+Ogb1FfB0P3g7Gl7wANu7FGu0xnXgSHTeWc1PZzT06alHcGcLYqxH4872PxfqNZgOK/TwfiiIgY/3wFFXH70bR7A08x3eOg2QSuZla3zG6SJNWcD3Py9hWWUvOgycyrrhnvickTQG6fpmmJvIMW4tEOv+Cm90v60GNDWjARSFXDmziK35dTiO7kVg2DXfmcwRo4Bl7AuApC0hPHHlIPsP/cIePTv0fD7i+EM9Wl63+VAG9B9Kj4AznNw5lsExyxibsITlBpN5uf/bfO/afPaSoiiPiloVp37+mtVbdnDafDC9HtvA8Wluzb9PdSVUlNFqnTRtPTAwAtMbfsvxB6HWHnoEw403P25k0Z0hU7sTFta0HzY9XGPkj5+RPW46dY1ZAUbe+A39jONDG5+Pfc+T2WZOPPDkZLqk16MdlUihjQVxmaP4+KeBbOm9iNi6UIrh1vP3zAbTr99gDgSc49SOkQyO/ZUxictYYfAYL/Z7k/luLWyrq2orqKisojy3hHKFHrZONuhoV7N1dQbPOFji4HD9pWxtPlxcDFO3ACr46iXIkMIrj0OonhsdfR7g0ylnGfvrz6y/HMhYG2dcDHXQbe4nq6UDni+xdNVLpC4czeKmKZTUuhbITAIJM9jN7qv7mvMkPv5mEh8DBQe/Y/vvhzjs04eXXwog4fPuhPtqiI/rRPcJI/COzaW8KJ4LBLT4sS18A7G+cIKLc2cz09SFN17YwevDv8LGfP/1KSt2zhiFjWHQwiQm//YSHXS0MTCyxkzNnzM+yd1x7ziLowf+Q8xMF/57RzkvldTU5JOT48HIkdUk/udxPt9fSJTjK8wca4SLjQ2O5YCWFC25NQ5muug0N1bAyg/HcXM5eCdNABpSUyg7EcUVPX+8PK/vMaytKKGyqpqa1oo4axuguFiItEaXvpMbo3OJZBRzn/uBsA/0sH1gLMFh3bAGrLt05ZHXsnhtdwqaPoHQXBWCOiWUFNJqfT4tKchMwLKVQXtVxXBhN1g9BkOMrs+oMzXF0NEM8/ILbN2q4vkpOshu6NzU0tJCW1sblUpFW10mGg2o6lRIpTpoSW4vuq1Mgn0L4J29YKYDr4+CtAPwUjh43UJPTWFcCXJdI8JGNvYUy/WGsejV7/F71wCXyRMJ6hyEJWDZpwe1urV8fTAd+lwzqtPBARuzOkoS8jhzRs2Dg++v8O+q+7JV1tYBOMp/J+r8OT7rupqkCQEt5i8VxZ/n18fDmRkD/p+msfx7F4JtJbT6e3l/EqzbD0WtLOPxPHz6HDx8zZdaWg3vrILvLoPfnRUtKc+6zKpHJrJq6ERctsjavAvk8fwWZpPOhtf+y7efruKUaSdCRrzKZ0DEHby/tZU/joa7iU44w6yQNaQ8EnhrMwVtncbDHx7iaHJXXvj0LU5lDsUZaGlDWw+AV/vDtAQ48BE8uAE+/RTGzALbNsZd3BVeM/h53UuN/x+1nL1nk1DIb7zvPpg338rkrQ8/o4dLNKYdRzP8/c0sHXgvGnSMnZEGWAV/xKKRdkQt2kM8Bn+WEBrwGV/3b+N3e6dqimH1KMJnduDtjet4sLd3i9XMvL1GYBSzhO+0J/P+4Of4KOTW7jIYGFji69EfVr3DkwHbODqoL+G2LYdfO57rz0f7ElCM/omZvyxgbRda/C0BsHERfPQ2pLfSCOt+8NhbMPeGOpQ/H4Dej8G4O69ltPf111mFnHJf3zZHQdsO/g9PDSoidPdqZv13IV/tWYYm4DNe1zOhjubTjltjYGCBn8cAJKveY5r/Zg6P6kdvu1uIjs7MZ95Xi/hgu5yu/Z9lX+b6pkF6zf/ODFyg3zzImAcx78CUZbBmLXRyhtAhgGMo/q//xtmpyxnh6s/6ty7y/ZO+hN7GjajMI0dZ9eWX7B49moA1rYcAUrkFAR8nsUxyiW9XzuLbaREk2Y3kqeem8BjVf5SuuolVX8bO6MOYl4DKXBrWjGWFny8GBiduWNAJL68hfPf1Cdz8PKlTNeD92kG+erbvPRoUowBW8+XWATy7bAjZ+xIwL7xEjnOHxqdN3TB5fD3xmntzHCguLiYzM5Pmyk+cmfcmcxcvYceVVlbg9AiTA32ZNMYJXY8bnxzMxDAXel29EWFsjJ6nJ37Q8vkl8ig8NRTiWnlPuRf0+xC2Tmx5mexiWLQPNmaAXfN9jspaJamXLlFfH8g1w0YBMDM1w9ramsTERGjlYgdArVIRGxuDewc3DA1vb5ioWRd4fAmML4DId2DEapj/PfQ3A6+2LpYBsMXCoharG/NVGMG0/naEXP1OzMyQu7nhfab5tRQWFZJ1OQto46K2ndyXQSnWgbg7dmdU4hnqvX1a/lGXR5MZs5jZ8RoaNAASkNzCDj1rBbzdVk+pEZhec1LNiICfXoSJGdDZjjsatnwlkoLUOXyh+zGnPzDggzO30u/WNL2kxI6eT7zL8x+9wAB9KRJVzB00ALAOwM2pB6MTTqDy8W01IFVkXSTiq9FM3QINjk/w/fcfsNzHESNTY4wktzDtpQTknhDyH5iwAbb+zUUcJVd/CK00VJJ1GZxGMnX+Yj5+yAN9Y7gHUz4B4XSyO8zpnz5gyfFe+A2Ywgscu6Zp9yggBdC3gEe2csztW5766G0SXnyJJ8f2a74ykvdw+hntQmnmiI2N7a1PbWpohYHvGB5lFfE+vi0fsOsVkDCHr6MLSK7UNAZ4t7LPPjQdBj7Sdk+p4Q2XeXP7gMsr0GfwndVd0TTA5qksLOrPc9OsyNlXSNsz1Uqa/jPCxmcEX+5dyBhdU5wtMzl0B03AwAJ9vweZKFlNvK8vhoat97UmfTOQt9YmE6kawNTHfyJjfkd09eRY3OI+KwH83oLRh6FMc0295Ip4Lh1cxIPvpzEtMpYxNi643s6w7fgNRKX9zjnX1zjxqpTpaxLbfs0fbXZj3Nzp9Jwwgu5GdeSdaqu/sOk31fT6Fj93TQ2SzDw0D2/iyOsd8HRxxNQISlsLlO6YATCRUT49+PqJtaR4v8zMsf64oCHrxnbfA5pWjr+hM77glyf/23pPqdQAxcltxGZmkpVGY269BrZsSaCwUE4W5RTxZ5XENj9Hp96wL+MWekpbyZSN3Q1rv4Xx5yBI91ZKkNzM3Q15QABub2wj9pMAfGkpMFJQU5PC6tUBDDipi9WdHE8kILOE4E9gwjZYd1svzqO4RIkiE3CB2rp6tqy9REWFgnSqKOVqJ3EbG/4+L6Z8XwalxannSMs8SLalkvrso9CphR4OQ3d8B85k+8FnADi58EXef6SMsuCnmT5pBJO6tZC1ZWZ9exMg55yFw6tB/Ro86tw4XC5rJaR2ASff1gbzXiOT2NQjfH1KzdQFk/Bw2IfutbdoSs6wd/sqPpx/iBoF6ATe+Hpt9IxNsXa0xZZqKvJufP5gXkPDAAAgAElEQVTWFKeeJy3zAFlWClRZLW/bysRDHF33HV/yMct/80AidyHIywZj+e3t9Vo6YGQFXXwg0Qf07mHx/Kq8TDY+2ZfzhoP4aOnT9PCybvNWae7lLLRlHfDo0AlH28bGqStbe0U1xRln+fHx99lHAbGp1eSfGY5DQCCDmu5UK7KjOLGuF70XSxj0xYcU1YA9ejjZakgK7oK/z/PMe8wZ3YJjzb5DWdRW9v82hy8PKsnHhObmhrotEi2Q22Lf4zlGWU9m3dI9HJM54v/AzWkX6cfXkKmXRaY6lrLS5Mbf9y2oKc0j6fhycrw1ZOQdRqk0B6Nm9j8tGbhOZeHKB1Ao1STs2sixt3rxm004IaOf55uHWyjlb2h8c8DZmrpK2Psm5D4M40LByxBKT0BaFTQMgVtKg1Cg0WzjP3Oz8H9nGl37VlJxrITqqxezyjxKon/moTf3UZ6Wg2TSTR8WbR0DLJydcAJ07qDqJoCyrICkY7+S46UhI+8ISqUFGN/c112vrCRt8UO8ljaM0a+9wetubjg72ePcSo91S3RMwc8d/E3AwhygjJQLp/hp9ikKg99lvIsbTjLt2ziBxLD7eBauanMeenc49ro3BJW521m4ZCPL1x6jzjII/xvHsiDF0NwSWwcrzCmiucPfme/eYs/i3Ux8YgJTn+19S4XClTU1ZCSn4tWxFy6uJtiZNn5Hrc/Mlc3eLxezfttOThaUUi0L4acDrzHvhkNpwcHvWL9wIaf7dSSgZx8agwU5AT41qPSf4KUJY3jU/xKnLzTfPZm9/nUWbj3G1mNqnPuPvoN89uuZmZnh4OBAc8mnMhNzrEzarlpc18mKi/nJHP71OK++7Ydm75t8dbYAiYUu+1efpbOpCwFDPMm7kMKRletg6FjQbuF3L9MDu79w2yxtP5w8BDovwIMOoAek/wRpQ8DHmWtH4Mp0ZXh5eTU/mYHUDRf7AMb5fciTX49j97PuWDQzi4HySioxS95lVd+32WZhivUdpqFJtEFmDsHeEOMDRre4e1p1MKcqI4FT687yzDO21Ox8h0/OVWFkV8fWH07QTd8Gr3BnLh+P5tSunTBkVLPrMbcwx85ejL6/dUVb+D0rhRitfoy3TuSHxAukD+8DJ78kwnIKoc72uFxNL5HKMbbxI7xpvJFjfTF+BdWkRR/nzMIt7NrYl84DJ/D6oL8wzizzGGz6HlacAWUSZG9rfLyiDB53hE63dtKuTLxAcqklJr1e460gG2Q3nKDKki+QmZKNXsdHmCz7nSV33uKWFW1lX3YSUZK+TLBOZEFiJOkNfZu27eN0c3L4o4CzzMqDDkOe5mXdnoQHm9751XsNVGbA5hKYPBis79nsFaBrZEZA/2n0PLGOC7kTcHOwxrON+uFKpRKJRIJMdgvRcm4E0b/N5HllLKUFRUgeeZsPpkVz5EIe5ck54Np4H1PHxB7X8EE8K/mGrw5m4FNai/Tgd1yy9sQyfAazHggj2K6I4hZGJpRkKygsMSFw8qN0XLoRnbs17aCBFlqVSgpSiigtuKG/r6EGLn/JnFxXOtv3Iz1TSX5+FulXFJRmXCTV6UnGt5SxUh1DeuZmvirry1uB1Uw5GUd29UDSC/aTqrLD0KkXf1Rkk2iDoTudQxpTKbxNdfDq2pXE9BQy9r7ApH1u6Ia/yvxHnJHL7vCDV+bC4a9gzkYoSoDkI2CsAzXV0KkPTBtyS6tRV5aRtmQO6uDX+axLMO6m5zhwzfO1ZYWkH9hIjtdrzPCs5oDFPSg2WB1LZuYmviztyxuB1Tx5Mp7s6grS4w6SWmuNvlMfwppy6LSkMix7Pc0zPUPp6mOHnclfGFKYBQfywK8ndPEEqKO6vJystEq0wtywkUhu6+RRdOp3EiQP4TlqMqO9zCHz+ucLzu/ncoUhHqHD8TWrJekOmuwc9gD+5UokVSlEFvZmeOuFFgCor6+npkaBXG7YwuxLNzgzny/OlKFJT6bGrhO9xgXgJinm1LZTMOD63Gu5Zxhh8hqcyWLL0Vy6KUrJWPIYuxomM3XqeMaEeeGobPmTpl8oRuYZTg99NZZ34bip4+aGebcArE7nkJkJGmfa7FS7ka5DCD2CSynesIBJU2rRZB4h0uMlPnkshIpjuzj27QwOLTdDo2eDlf/zTA0x5J6U0k7eDWsWwaY40MRB4trGx8tK4MVuYNoU7FZWosivoMLYiUeHGaLT7C6hj5lLN/o/8SwRX7/KyxEPMP3Th+nkbtV0Q7Sc9DNH2fDVOk7Vd+WLmQPxMdW/8wlNVNCQAVvyYWhPcL/F+FDXOYz+gRXUbP+GSdOqqM2OJKHjeyyaFkz6tnVsn3OALSbGaAyccOr0JI91vOHkl59PcYUOFp42dOnSXtPytO2+CUrzY75hU1YBl1U1yEy707/LAKyLd7Lz1GY+3lIMJYYM7qVFa+NAXPuMxhUo85ZzIjKO08m5ZB9dxnfaTzCj/x30tUdtg00/wtYTEFUGZP6Z/2I1Fp6R02ZhuCa1WGPmEsbUR8Nxb+Z+hY6ePtpaakpyLpNuZkK3bqB73Q5UTurxCJJnFnEQFbVVeZyqr7+lrJCCmG/ZlJ1PZl0NMpNQ+ncZiF3JTraf2sLHW0qgxJBB4ddv2/qackoTj3E27hhn17awYj1bbL0H8PLEa/JwEmHTYYjI+OOD01AFoa/DaH8wvUc9pcYmevj7mrI6JZbUIh26SrXQ1YayqG0c27SeFWdLSNAp5nOjOOD6bujy2N2cTiqhuGkMVH1tDYWnLqPzwPX3iqsraqlV6tC1ew9M7Pbzy+U44qszSS/yolrdtKyBPg3G+lTkxBMjqUHeUYZUWszFFGuc/fswfGBfennKobrlhGapVI2mtpichDR0a+yw1WjdpYoFiaRVVlNmaAbyxpxEZVkCiZd+ZU2BBrQrcfEey2BrF4rz1nHywg98XOSHjcyX4Td3qlKeuZ2jKSc5WalCW9+Cfl0fZKiVCT32/8qGg3PYpW1HsIcTQ1ppvHVAKNYBoXTLjib+lC67EuooOPMZn+i9wYwhrtjfbg2xK3Gw/RtYuw1OF0HDYf6IcIy7gqc1tzo1TgMyyrRCef+JwYTYmtzU664l1UbPWI4yN5b4Bn2cHpBieV0HppKK/Gg2zJxJHKBNEecTM+lwC+9dfnkHx1NOcLxChbaeGf26jWWolQndD/zKpoNz2CO1J8jdgSHXnBk1mnpqcmNJiIzk1OaW1qwFtkN5cWJnHKybrkCvQPQpWH1tknohGITD0H7gbQYgR1/fAmtTVWOlCE3ruXc3UuCKX+c+jBsSjAN53Ng3qCuXQ20GV3LAzsQO/5tWX8T5DctJSjyJLQqK0nJIRfLHuLXAAGt2pOWRlauNhZ8Ocl2oLUonbddXLNucTRKfMM88mpi8bjdVCKxXVpKz5T1mJ2r/MQ1yZVIkNU7BN42LK8gqp2MXP4IdNcSWVZKRkIhSp578a+tIAZibo1KnkZuTh66jBmMbLZR1+eyJCGHE0Ed4qJc7Tma6kNPyNpPp1lKRl0lOthlGhh5/fdYlE2+s3XsQoP8zBw5e4Y3HbdG53Vm59Oxw8e/FaFUtlWeKoUsoQR3G83AvJ1QeUs5Ex5NeDXo23niEDaWTcS1c2cPc5RcoLjei87gH6NnFr80xwq06uwo2/ALbIyChEkiFq5Po2UwCE32ujmirzsoiLzYTieMAxru3nMOsY2yDc9jDvHClmMP7DrByfhIb9QyaKtFUU6cGlXsYAzr34tFuFn+mht2KdDhwDPbHN/2tBk0xeD8BI0LAXnma7dtOczK6GoegLvSfOLT5Y4SBE96deqOl0VAbWQrdBxDSYRxj+9hSZlnLqYR0shVg4BiMb49+N83cVBwZSUG5Ia4+PoTdr/WguI+C0gZVNYraSioNuhLu1pPhzhbk59fwRLdCIusU4D2FMAdzrG8hqDENHsXw4FH0TjpCxPkLnK27w9mO1UqQu0K4K9xYCsRmIHjdlHHcLEO3bnR7yAFbu7GM8YXGcY++DJ5giK9rY41RQ7euBPYoJ7w4EyyGMzH42jJPxniGhdKlVpv0ysqmikXm9Jw+jgATeZvprfXqpm2r35Webj0Z4WJJfn4NT3Yr4HxdNXhPJszRAptrLp409WpUNZVUtnYrW2WEkfKGAFsNSgXXvc7MAV78T2MscK8G3hvZOtF51KP02JkP3cfS08UMKxko1UqUclesPFwbC4Nrd+f5YH/k+o2HJ+MOgwktikSSc/1nNewxhs4OcsyajmKGbt0IHGqKiclgXhhhS+1ZI5K25lKjdCC0ZwfcPZuiEVNXLP37MiQqhirJg0zr1wnd8uEkGHWlz8Du9PdtOlrqGKNnH85DfayR33ClZe7hRoewUOLidJCNeogAHZ0W6vLqoG/iTN/pD2FvoHcLNQcLKaYOHScnDJvqdWoa1KjrKqms0wH78bzs74GtgS0DO+YhTY3msqED9u6D6NXMGbGhXkltXSWVEmfc7IbyfKATMIgnw1I5VV1BpUV3/F398buFu+76jkF0Hh9EYEU+WTtns7BBQ0NrSXAtqVeDRAZ+42+e594kEHrddF+4WTom9rgOfpHnh0zniW5yTPQBHAkO64abxh5jQMfYFqf+TzE28Rz1DUPpG2CN2x93QPUxd/Eh7OEBXKisbJryUob30L508ndvM721ob4WZW0llRInXOyG8kLTtn2iZyqnq8upsAjF3y2ADtduW42GBmUV1VW1VDY/D2pjKoeirmkGqqtv1niou25f14NHJ0NHj8ZMSDBAJjPF0kQFBQWtJyjewDjgAYaY2WDh15veLo3rMjQKZPzzFjjJG2vrygMfIDTrKFX15Vj4dGPodUXXLQgeNYDKpEwKmo5/MitXuk/0w5fGY4rPA4/SffclYvUd8PEPaqzPWFCPuh6qPR5kGPWAPwM8O9LxmokLdIytceg1lbHnFDTUQWVd0xN2Xrj6dyKo6cQukepiGf4UQ537MX5MT/w1Z/n9wFG2R5eDkQdDBt1QmN0lnGDfBkqqdLHw8WFgt67UKSZgGPIcrwxx+PP2sKE7Hj6mSGpurs/j1jccn2Px1Eqd8OkS2kIHhAme4T2RS01pe+itJY5uXRk4ZC8frvuJI4Nm0stOB4PbPSibueHY72ne7nfD431G49pn9PWP1Wugvpbq6ioqY6K52DkIWz8/HG59BtybqWrA1A8G+MGN2Wd2I8DxasRVQGpyMrEZevSaNJybMuJuIDMypdPUN+nkv4gvdqRxuaTyj+4jC59OhD08jcF3EszVQ13N9fuXtjE8PwPcjUC3SIVSWU1lejwZWlpElA2lQ0udXZa+eA725e0bxnJaDJ6Ax+DmX9IojWNHMsGuAz16dryptu/9RKLR3MmR/3qbJ3ej49S3cOv/0N1okyAI98RR5jz8AttVYxj53DM8M9ip7VqZzQgJCeG9995jzJgxd72Fwn2qMpeYncuZ/enPnO7yI5d+6IO+7G+o7SbcZQXkJG/l8+e+JWXoLF4bP5juDnLk96x7qh7I4dzBBArPnSM/aDD+3ULoeicHnttSTEbCbtauOktUcSAvLHj6L+fktq2cnOjdvNt5GquC5nBx42ON04y2qZDU2BTST16kWMsY6dBJPHRnxX2aoQFyiDy6hHkLSnAfO46Jj4RzLybaarMlDfWsHO7M4C82Yh3YclL/3cpWEwThvtebR4Z3xb9wM+cPruVIdmnbBfeFfz1V+RWunFzJ8X0rOGURwsCH+qMlFQHpP5M1Dk4jmfXZWErWvc6PO84QU6S4h8cBNXCeVd/O4ZMTupgbWP0NAWkFeZcPs2nlLk5kW9Px0b8jIL1WA9TkkBh/iaiodPJKqlstMAApHN+5hC/WRhOp8LyLAWk9moYCUi+tZ8FXh6juOJYeXdsnIL0d983te0EQ7j3XKUt4TzqdL3/6nW1qVzrOHXefVqsT7hdFx37kx4XfsVl7KC/+uJLX7/ezmtA6PVtMur3P6bN+TO3+PUf8TbG07UIzaeN3gQwYy9fbxt6TtTfvFMvm7KHIczgzZ02ilak/7jIJEm0ZhiYGmBX8xFOP/wQM5PVvXuXJyd1pedLkHkx5qwdT3rrb7amirnYHr4/ZS59NPzEu0JMWapvcV8Tte0H4l2lQKVGpNGi0ddCVSW/7dom4ff/volHXoVLVoUaKVKaHrri/9n9ChVKhRkumi1Rb+//otqmaOqUajZY2Ul2dezaO4WYaNA311CmU1/SMStGV6aCjo327hQ7uSntATU21Gm19GTpaWu3Qhmtac4u370VPqSD8y2jp6CG7O8P5hX8BiVQXXanunZfAEe5TOugZ/D8eCKTo6rVHaCNBoiVFJpff0lz2954E0EHf8J/1HYugVBCE2zJ//nw8PG6aZ1AQBEEQ/hIRlAqCcFt69Pj7srQEQRCEf4//nzQSQRAEQRAE4R9LBKWCIAiCIAhCuxNBqSAIgiAIgtDuRFAqCIIgCIIgtDsRlAqCIAiCIAjtTgSlgiAIgiAIQrsTQakgCIIgCILQ7kRQKgiCIAiCILQ7EZQKgiAIgiAI7U4EpYIgCIIgCEK7E0GpIAiCIAiC0O5EUCoIgiAIgiC0OxGUCoIgCIIgCO1OBKWCIAiCIAhCuxNBqSAIgiAIgtDuRFAqCIIgCIIgtDsRlAqCIAiCIAjtTgSlgiAIgiAIQrsTQakgCIIgCILQ7kRQKgiCIAiCILQ7EZQKgiAIgiAI7U4EpYIgCIIgCEK7E0GpIAiCIAiC0O5EUCoIgiAIgiC0OxGUCoIgCIIgCO1OBKWCIAiCIAhCuxNBqSAIgiAIgtDuRFAqCIIgCIIgtDsRlAqCIAiCIAjtTgSlgiAIgiAIQrsTQakgCIIgCILQ7kRQKgiCIAiCILQ7EZQKgiAIgiAI7U4EpYIgCIIgCEK7E0GpIAiCIAiC0O6k7d0AQWgPiUWJJBYnklech1KpBEAmk2FraYuPhQ8+Fj5IJJJ2bqUgCMKdSSxOpKCogGJVMVKkWOpbYm9pj7OJc3s3TRBaJIJS4V9DrVZTUlFCXEUcO2J2cDj9MImZidTX1wOgpaWFt4s3fd36MiJwBP4m/lgYWyCVit1EEIT7n1qtprSilEsVl9gZs5Ok9CQylZnIkOFi4kKQZxCDvAfha+yLsbGxuPAW7jvibNukvqGeMmUZ5vrmYkf9P1WuKGfnhZ18GfMl2dnZWOpY4m7sjr29PRKJhNzcXMrzyvk562d2p+7m9cDXGR0yGitTq/ZuuiAIQqvq6+vJK8pjx/kdzE+eT3JKMiqV6o/nz3KWPcl7OJh8kOe8n2Not6EYGhiipSWy+O53dXV11Khr0JZqI9eVt3dz7ql/fVBa31CPUq0krzKPnUk7eabrM+hJ9dq7WcJdVq+pJ6Uihbmxc0lOTqZ7p+78p8N/6NOhD6ampgCUl5dzPP44X1z6gtMXT/O15Gt8vXwxNzFHW6Ldzp9AEAShZSVlJWyL2MYLO15ocZnKykoOXTjE+bjzrJetJ7xzOAb6Bn9jK4U7kZOTw7mCc8jN5YQ5h6En1UNXW7e9m3VP/OuD0tTSVH4+9TPz98xHJpUxKWiSCEr/D2WWZbIlZgtpaWkEBQWxavwq7I3s0ZL82UtgbGzM0G5D6RLQhTENY4i+FM3WmK3YGNngZe7Vjq0XBEFoXVR5FItSF93Ssop6Be9fep91/utw0Xe5xy0T7oY9F/awN28v4YHhTPCfwBjfMe3dpHviXxuURuREsOTEEn6P+p2ymjKUKuV1AYrw/yUqM4of9/+IsbYxswJmYaVvhbbW9b2fEokEbYk25jJzPgz4kGlJ0/jl4C+E2P6vvTuPjfI88Dj+HY8vPL7NBNuY2tjUxBDMTYJBS0pR0m1C2GTbXYVW5GiXrdRVspWyyR+V2u2mTfNHV0q7q6rRqq2qZjelUQrahpKjScjRQAipsc1ljnCUG9sMvo09nv0jJQ1LIdAYv7bn+5Esi3eeGf3+YMa/ed/nfZ55llJJI1ZLSwtN25vYs3/PFY2Px+M0bG9g+/TtFM0sIjt7bF8SHgvig3GOnzrO+jfX807TO6yZsYbl1cu5vfp2cjNyg443ZJKulL526DV+/sbPaTjSwKHWQ5xuP/3BYwPxAZ586Umy0rycMdb8/ujv6Yn3ML9mPotnLCY99dKXPtJS01h0wyJqttewaecmDv7hIG2VbRQWFg5jYkm6Mi3xFg72HuTcuXNXND6RSNDX18cLzS+wu3U34bDTk0aynt4e9p/ZTzwep6O7g+6+blrfbmXbjm28dMNL3Fx1M0snL2VS7qSgo35sSVNKe/p7eOLtJ9jYuJEt+7YQ64pdNGZgcICfvv3Ti86gafRr72snK5xFTU4NubmX/1YZCoXIycnh0zWfZu/hvRzpPcLJvpMUYimVNPKcPnuawy2Hr/p59Z31vHH0DXp6e65BKg2l011/OoEWj8eJnY0ROxvjRNcJtu3dRstNLXxu5ucozx/d0zGSppSGQiEmRCZQmF3IhOgEziXO0d3dfdGYqklVpKWmBZRS18qxtmMcO33sqopldn824cEwnXTSgx/akkamcDhMavjq/5yXXldKPC9OX1/fNUiloRQ/Gqetp+2i4xPTJ3J91vWUZJaQFh793SVpSmlmaib3z76fGdfNYPPRzby5+00aDjdw9MxROjs7AUgLp/HVpV8ld9zYmZ+h972842V++PIPaePiN/WlNJ9qpquvi2yyGce4a5hOkv5y47PH84mCq18Uf3F0MTWfqCEtffSXmbGso6ODH7/+Y/ad2AdARmoGVQVVVBVUcesNt7KofBFTyqaMibnBSVNKz5s/cT7zJ85nSfkSXjnwCq/veZ2G/Q2c6jzF4LlB6ibVURQpCjqmhtjpM6chA3Z07OBo+1GKs4svOU1jMDHI8c7j7GzfyWDGIJNzJjMhY8IwJ5akKxNNjzI1dyrRSPSCy7yXkhJKoTi7mGm501g4cSFZWd5HMZIdOHCAPPLITs+mOLuYKUVTWH7DcpZOXkrl5ErS08fO8lBJV0rPq51QS+2EWlZMXcGv9/yaF5pf4L0973kH/hgVzYtSXVrN9t3b+cnWn3DfvPsozi4mNeXCt8Dg4CCxrhg/2/ozGnc3MqV8CrU1td7kJGnEKigooG56HXccuYOnGp+67OX4UChEbiSXe+bew8ypMy2ko0T+uHwWlS/izul3sqx6GVVVVUFHuiaStpSeN7lgMg/c+ACrZ66mubmZnPScoCPpGqjNr2V11WpW71zNN9d8k1AoxL1z7qU4p5gQ7+/glSBBZ2cnm+o38a1nvkU8Eef+yvuZUzAn4PSSdHk3TLqBB+94kIaBBhqbGukf6CdB4oIxKaEUcrJzWDh7Id/4/Ddck3uUCIVC3DPrHqLRKGVlZUHHuaaSvpSel5GRwfTp093nfIzKz89n6U1LeTjlYb7zq+/w+NrH2b17NwumLWBa/jRChNjVvoutO7aybtc6+uP9rLh+BQtnLPxgxydJGslqxtewbuU61jSt4dvPfpszXWcufLyshoc++xB3TruTjNSMgFLqak2aNImysrKk2BLWBvZHoVDIQjqGhUIhSvJK+NKCLwHwgw0/4Lndz/HqoVcZFx5HiBA98R66eroYSAzw8N88zBdqv8Anr/tkUnwQSBr9UlNSKckpYdXsVSyrWMb+9/azt3svmWQypWAKkz8xmZL8EvIy84KOqquQTOvI2sKUNNJS0piUN4kv3/hl6ibW8eahN2k+1PzB6guRSITq8moWly9metl0yvLKSEvxrlRJo0dKKIXxWeMZnzWeyrxKbhy4kTBhcjNyGTfOVUQ0sllKlVRSU1KpyK+gIr+C6ydez4mpJ+jt7QXen8JRXFRMVeHYnEAuKblkZ2eTzehfJkjJw1KqpFVZUEllQWXQMSRJEuBkOUmSJAXOUipJkqTAWUolSZIUOEupJEmSAueNTkp627Zt49SpU0ydOpXy8vKg40jSkHnrrbfo6+tj6tSplJaWBh1HuixLqZJefX0927dvJzMz01IqaUz53e9+R3t7Ozk5OZZSjXiWUiW99vZ2WltbP1ivVJLGilgsRiwWo6+vL+go0kdyTqkkSZICZymVJElS4CylkiRJCpylVJIkSYGzlEqSJClwllJJkiQFzlIqSZKkwI25Urp582Yef/xxfvvb3wYdRZIkadh1dXXx3HPP8dBDD7Fp0ya6urqCjnRFxsTi+X19fWzZsoV169axY8cO9u3bRyQSYdmyZUFHkyRJGlb9/f0cOnSIZ555hqamJmbNmsWyZcuYP38++fn5Qce7pFFdSs+cOUN9fT2vvfYaDQ0NvPTSS3R3dwN88FuSJCnZJBIJWltbefHFF9m6dSuNjY0sXLiQ+fPns2DBAoqKioKOeJFRWUpPnz7Nzp07eeedd9i4cSPr16+/aMzhw4fZvHlzAOk02hw/fpxYLMaOHTvIzc0NOo4kDZmWlhZisRhNTU2Ew+Gg42iYdHR0sG/fPgYHBwFoa2vj+eefZ9OmTcydO5fbbruN2tpaZs+eTUFBASkpI2M256gspXv37uXJJ59k7dq1l9yv/N1332VgYGCYk2k0OnLkCCdPnmT9+vXs3r076DiSNGQOHDhAW1sbHR0d1NfXBx1Hw6S3t5empib6+/svOH727FleeeUVtmzZQl1dHY899hg5OTmkp6cHlPRCo7KUZmZmUl1dzdy5c9m1axednZ2cO3fugjGRSIRoNBpQQo0mbW1tpKenk5+f7/8ZSWPKsWPHyMjI8PMtyfT09JCTk0MoFLrgeDgcJhKJUFpaSklJCRkZGReNCdKoLKVz5sxhzpw5rFq1iqeffppnn32WxsZGBgcHSSQSANxyyy088sgjASfVaPD973+f+vp6Vq5cyS233BJ0HEkaMl//+teJxWKsXLmSRYsWBR1HwyQWi/HUU0/x7rvv0t/fTygUIiUlhZKSElasWMEDDzxAdXV10CiabpYAAAUvSURBVDEvMipL6Xnl5eU8+OCDfPGLX+SXv/wla9eupbGxcdQsfSBJknStlZeXs2rVKu666y4qKiqIRCJBR/qzRnUpDYfDZGdnk5WVxb333svy5cvZsGEDGzZsGJF3lUmSJA2HlJQUqqurufvuu6mrq6OqqorCwsIRM3/0zxnVpfS8lJQUotEo0WiU3Nxc6urqKC4uDjqWJEnSsItEItx6661MmzaN6upqotEoaWlpQcf6SGOilH5YaWkppaWlQceQJEkKRFpaGlVVVVRVVQUd5aqMjIWpJEmSlNQspZIkSQqcpVSSJEmBs5RKkiQpcJZSSZIkBc5SKkmSpMBZSiVJkhS4MbdOqXS15s2bR1FREdddd13QUSRpSC1ZsoS2tjZ3OdSoYClV0psxYwaVlZVkZmYGHUWShtSCBQvo6ekZsXudSx9mKVXSy83NJTc3N+gYkjTk8vPzyc/PDzqGdEWcUypJkqTAWUolSZIUOEupJEmSAmcplSRJUuAspUpiG+GRlTBr1vs/f/81eDnoTJI0NP71PvirP368feof4HtvBZ1IujxLqZLUQXj4f6H0Jnj0Ufj8jXDyF/DvX4NXgcGg80nSX+7RL0FfHdz/KPzzZ6GkGZ5fA/ZSjWQuCaXk9M4rUDQXPvVXUDsJ5hRCogWe2AC/uhsWz4MUv7NJGmXiwFEoXgw1n4EZJZA6Hbq64H92wbYTUFccdEjpz7OUKjmllcLfLYDiwvf/PXEmzLsNsrZCczMk5gabT5L+UmFYvgoKw5AOEIVIJeSegOv9rq0RzFKq5DTrM//vQCqE0yEvEyomQygUSCxJ+ljCwET44GRoJ2x7Aw7E4KblsNTdlDWC+Z1JAug/Aa0HoacC/nYxhH1rSBrdeo7Cjlfhe/8JbzbC3DnQGnQo6TI8U6qxY6AfWo5DP5C4xJhQCqTlQzQC4Q+dDT3eDAcPQtVyuHU4wkrStXX8OXj8v2HjLujogIe74V/WwH3uqqwRytNBGjuO7IfbKqCqAiou8fPJWXDH09Da/aEnJuCtZtjXCk/8U2DxJWkoVf4j/Px1ePtJ+Mo82LUL/uMHQaeSLs0zpRo7yqrgN4eu4ExpHhRl/enYbx6DPW1w+3/BlOEIKknDp/iv4eZ98PYPoT3oMNJlWEo1dqSmwYRJV/ecrT+CpkGY9Hm4eTzET8KeZ+C9r8DSVIhcm6iSNFzC46BkIsycCn+oCDqNdGmWUiWvrT+CH/0ENvdB3lZ4MQsGBiARgm+v/uNaKpI0yrXB3j/A0XGw8uagw0iXZilVEkrAhu/CL34BL+6FE71A4/tbnaRFYdr9MDkEaUHnlKSrdA6oh+8+D7HzU+c7YCADbl4FnyoLMpx0eZZSJadzPTBxCXxuyYXH0wqg8nYIh4PJJUkf1wD0dEP3+VIahtl1sPwuKAo0mHR5llIloRCseBRWBJ1DkoZYOrAI/m1R0EGkq+eSUJIkSQqcpVSSJEmBs5RKkiQpcJZSSZIkBc5SKkmSpMBZSiVJkhQ4S6kkSZICZymVJElS4CylkiRJCpylVJIkSYEbsm1GBwf6iZ/rHaqXkyRJ0hiQiMchkfjIcUNWSt947Cu89b0Hh+rlJEmSNBYkoPdsy0cOCyUSV1BdP0LswC76e7s+7stIkiRpjMqvqCFtXOSSjw9JKZUkSZI+Dm90kiRJUuAspZIkSQqcpVSSJEmBs5RKkiQpcJZSSZIkBc5SKkmSpMBZSiVJkhQ4S6kkSZICZymVJElS4CylkiRJCpylVJIkSYH7P/0OwpZFqdPHAAAAAElFTkSuQmCC)"
      ],
      "metadata": {
        "id": "6CY7Tkdh2U9Q"
      }
    },
    {
      "cell_type": "code",
      "source": [
        "list_a"
      ],
      "metadata": {
        "colab": {
          "base_uri": "https://localhost:8080/"
        },
        "id": "wgvpVUe52eMa",
        "outputId": "4567157c-5594-4049-954c-56efec56796a"
      },
      "execution_count": 34,
      "outputs": [
        {
          "output_type": "execute_result",
          "data": {
            "text/plain": [
              "[1, 2, 3, 4, 5, 6]"
            ]
          },
          "metadata": {},
          "execution_count": 34
        }
      ]
    },
    {
      "cell_type": "code",
      "source": [
        "list_a[2]"
      ],
      "metadata": {
        "colab": {
          "base_uri": "https://localhost:8080/"
        },
        "id": "smE-ab-G2kkN",
        "outputId": "443ae6e1-12e5-48b3-e029-e18aaa8c67fa"
      },
      "execution_count": 35,
      "outputs": [
        {
          "output_type": "execute_result",
          "data": {
            "text/plain": [
              "3"
            ]
          },
          "metadata": {},
          "execution_count": 35
        }
      ]
    },
    {
      "cell_type": "markdown",
      "source": [
        "#### : colon"
      ],
      "metadata": {
        "id": "8FmISo1T2qP2"
      }
    },
    {
      "cell_type": "code",
      "source": [
        "list_a[-3:] # : colon เอาตั้งแต่ตัวที่ -3 ถึงตัวสุดท้าย"
      ],
      "metadata": {
        "colab": {
          "base_uri": "https://localhost:8080/"
        },
        "id": "Q9_fP-0X2tKo",
        "outputId": "c99630b1-8b29-4b90-a10d-08c43973ab20"
      },
      "execution_count": 36,
      "outputs": [
        {
          "output_type": "execute_result",
          "data": {
            "text/plain": [
              "[4, 5, 6]"
            ]
          },
          "metadata": {},
          "execution_count": 36
        }
      ]
    },
    {
      "cell_type": "code",
      "source": [
        "list_a[:4]"
      ],
      "metadata": {
        "colab": {
          "base_uri": "https://localhost:8080/"
        },
        "id": "zNDK0tke2wKs",
        "outputId": "f203dd12-bcc5-4af2-fac8-3a5148b92596"
      },
      "execution_count": 37,
      "outputs": [
        {
          "output_type": "execute_result",
          "data": {
            "text/plain": [
              "[1, 2, 3, 4]"
            ]
          },
          "metadata": {},
          "execution_count": 37
        }
      ]
    },
    {
      "cell_type": "code",
      "source": [
        "list_a[1:4]"
      ],
      "metadata": {
        "colab": {
          "base_uri": "https://localhost:8080/"
        },
        "id": "n6dfCdxN2xpM",
        "outputId": "c8925685-ad43-47e3-bd13-9fb65211b35f"
      },
      "execution_count": 38,
      "outputs": [
        {
          "output_type": "execute_result",
          "data": {
            "text/plain": [
              "[2, 3, 4]"
            ]
          },
          "metadata": {},
          "execution_count": 38
        }
      ]
    },
    {
      "cell_type": "code",
      "source": [
        "list_a[:]"
      ],
      "metadata": {
        "colab": {
          "base_uri": "https://localhost:8080/"
        },
        "id": "wbOjbHNJ2zOF",
        "outputId": "6510538e-eb16-4381-d929-a47848389784"
      },
      "execution_count": 39,
      "outputs": [
        {
          "output_type": "execute_result",
          "data": {
            "text/plain": [
              "[1, 2, 3, 4, 5, 6]"
            ]
          },
          "metadata": {},
          "execution_count": 39
        }
      ]
    },
    {
      "cell_type": "markdown",
      "source": [
        "step"
      ],
      "metadata": {
        "id": "NVZQX9A_217O"
      }
    },
    {
      "cell_type": "code",
      "source": [
        "list_c = [1,2,3,4,5,6,7,8,9,10,11,12,13]"
      ],
      "metadata": {
        "id": "Jt7q-ZGU2036"
      },
      "execution_count": 40,
      "outputs": []
    },
    {
      "cell_type": "code",
      "source": [
        "list_c[:10:]"
      ],
      "metadata": {
        "colab": {
          "base_uri": "https://localhost:8080/"
        },
        "id": "xbgb-R4q27yt",
        "outputId": "2f5a9428-d966-4b63-e401-c7acb2faa231"
      },
      "execution_count": 41,
      "outputs": [
        {
          "output_type": "execute_result",
          "data": {
            "text/plain": [
              "[1, 2, 3, 4, 5, 6, 7, 8, 9, 10]"
            ]
          },
          "metadata": {},
          "execution_count": 41
        }
      ]
    },
    {
      "cell_type": "code",
      "source": [
        "list_c[:10:2]"
      ],
      "metadata": {
        "colab": {
          "base_uri": "https://localhost:8080/"
        },
        "id": "gsdvq2_I29Jm",
        "outputId": "6c5f5ca4-c675-43f4-cc9c-5ca08e4ec460"
      },
      "execution_count": 42,
      "outputs": [
        {
          "output_type": "execute_result",
          "data": {
            "text/plain": [
              "[1, 3, 5, 7, 9]"
            ]
          },
          "metadata": {},
          "execution_count": 42
        }
      ]
    },
    {
      "cell_type": "code",
      "source": [
        "list_c[::-1]"
      ],
      "metadata": {
        "colab": {
          "base_uri": "https://localhost:8080/"
        },
        "id": "7RbLstmN3B--",
        "outputId": "1f38f18e-df28-4628-b6a1-dccc8d1e7da0"
      },
      "execution_count": 43,
      "outputs": [
        {
          "output_type": "execute_result",
          "data": {
            "text/plain": [
              "[13, 12, 11, 10, 9, 8, 7, 6, 5, 4, 3, 2, 1]"
            ]
          },
          "metadata": {},
          "execution_count": 43
        }
      ]
    },
    {
      "cell_type": "markdown",
      "source": [
        "#### range()"
      ],
      "metadata": {
        "id": "BZtQevEe3DXC"
      }
    },
    {
      "cell_type": "code",
      "source": [
        "a = list(range(21)) # ไม่ต้องพิมพ์เยอะ ใช้ range ได้เลย จะเรียงมาให้ (ใส่เลขตัวเดียว)"
      ],
      "metadata": {
        "id": "FqcWesGZ3IFf"
      },
      "execution_count": 44,
      "outputs": []
    },
    {
      "cell_type": "code",
      "source": [
        "a"
      ],
      "metadata": {
        "colab": {
          "base_uri": "https://localhost:8080/"
        },
        "id": "UTeFAhrl3Qqp",
        "outputId": "907743f0-5109-4928-d4ec-f132ddb24475"
      },
      "execution_count": 45,
      "outputs": [
        {
          "output_type": "execute_result",
          "data": {
            "text/plain": [
              "[0, 1, 2, 3, 4, 5, 6, 7, 8, 9, 10, 11, 12, 13, 14, 15, 16, 17, 18, 19, 20]"
            ]
          },
          "metadata": {},
          "execution_count": 45
        }
      ]
    },
    {
      "cell_type": "code",
      "source": [
        "list(range(1,21)) # ใช้เลข 2 ตัวในการกำหนด"
      ],
      "metadata": {
        "colab": {
          "base_uri": "https://localhost:8080/"
        },
        "id": "ypAoihF43RhY",
        "outputId": "f5673e07-e5e3-40cb-a117-78c4d89fac3e"
      },
      "execution_count": 46,
      "outputs": [
        {
          "output_type": "execute_result",
          "data": {
            "text/plain": [
              "[1, 2, 3, 4, 5, 6, 7, 8, 9, 10, 11, 12, 13, 14, 15, 16, 17, 18, 19, 20]"
            ]
          },
          "metadata": {},
          "execution_count": 46
        }
      ]
    },
    {
      "cell_type": "markdown",
      "source": [
        "HW2 คำนวณเวลาเป็นวินาทีของเวลาต่อไปนี้โดยใช้คำสั่ว split() ช่วย (print ออกมาให้สวยงาม)\n",
        "\n",
        "* 12:30:15\n",
        "* 13:41:07\n",
        "* 09:11:50\n",
        "* 21:30:15\n",
        "* 03:10:15"
      ],
      "metadata": {
        "id": "EyPp1jO03Tul"
      }
    },
    {
      "cell_type": "code",
      "source": [
        "hw1 = '12:30:15'\n",
        "hw1_sp = hw1.split(':')\n",
        "ans1 = int(hw1_sp[0])*3600 + int(hw1_sp[1])*60 + int(hw1_sp[2])\n",
        "print(f'เวลา {hw1} แปลงเป็นจำนวนวินาทีได้เท่ากับ {ans1} วินาที')"
      ],
      "metadata": {
        "colab": {
          "base_uri": "https://localhost:8080/"
        },
        "id": "OZgxOX3j3doj",
        "outputId": "b09d0f94-3605-4715-ad19-a35c32f1a465"
      },
      "execution_count": 47,
      "outputs": [
        {
          "output_type": "stream",
          "name": "stdout",
          "text": [
            "เวลา 12:30:15 แปลงเป็นจำนวนวินาทีได้เท่ากับ 45015 วินาที\n"
          ]
        }
      ]
    },
    {
      "cell_type": "code",
      "source": [
        "hw2 = '13:41:07'\n",
        "hw2_sp = hw2.split(':')\n",
        "ans2 = int(hw2_sp[0])*3600 + int(hw2_sp[1])*60 + int(hw2_sp[2])\n",
        "print(f'เวลา {hw2} แปลงเป็นจำนวนวินาทีได้เท่ากับ {ans2} วินาที')"
      ],
      "metadata": {
        "colab": {
          "base_uri": "https://localhost:8080/"
        },
        "id": "Pc3oCiyH3fNk",
        "outputId": "5ec81b4c-68df-4951-dec4-5b2ec85aca1a"
      },
      "execution_count": 48,
      "outputs": [
        {
          "output_type": "stream",
          "name": "stdout",
          "text": [
            "เวลา 13:41:07 แปลงเป็นจำนวนวินาทีได้เท่ากับ 49267 วินาที\n"
          ]
        }
      ]
    },
    {
      "cell_type": "code",
      "source": [
        "hw3 = '09:11:50'\n",
        "hw3_sp = hw3.split(':')\n",
        "ans3 = int(hw3_sp[0])*3600 + int(hw3_sp[1])*60 + int(hw3_sp[2])\n",
        "print(f'เวลา {hw3} แปลงเป็นจำนวนวินาทีได้เท่ากับ {ans3} วินาที')"
      ],
      "metadata": {
        "colab": {
          "base_uri": "https://localhost:8080/"
        },
        "id": "v7AJFtbc3itk",
        "outputId": "b9c4d38d-cf0c-4fd4-8a75-36a7ab8acd1b"
      },
      "execution_count": 49,
      "outputs": [
        {
          "output_type": "stream",
          "name": "stdout",
          "text": [
            "เวลา 09:11:50 แปลงเป็นจำนวนวินาทีได้เท่ากับ 33110 วินาที\n"
          ]
        }
      ]
    },
    {
      "cell_type": "code",
      "source": [
        "hw4 = '21:30:15'\n",
        "hw4_sp = hw4.split(':')\n",
        "ans4 = int(hw4_sp[0])*3600 + int(hw4_sp[1])*60 + int(hw4_sp[2])\n",
        "print(f'เวลา {hw4} แปลงเป็นจำนวนวินาทีได้เท่ากับ {ans4} วินาที')"
      ],
      "metadata": {
        "colab": {
          "base_uri": "https://localhost:8080/"
        },
        "id": "_LWw0T1J3jY4",
        "outputId": "6f216964-ab6b-48af-87d7-b9498e331541"
      },
      "execution_count": 50,
      "outputs": [
        {
          "output_type": "stream",
          "name": "stdout",
          "text": [
            "เวลา 21:30:15 แปลงเป็นจำนวนวินาทีได้เท่ากับ 77415 วินาที\n"
          ]
        }
      ]
    },
    {
      "cell_type": "code",
      "source": [
        "hw5 = '03:10:15'\n",
        "hw5_sp = hw5.split(':')\n",
        "ans5 = int(hw5_sp[0])*3600 + int(hw5_sp[1])*60 + int(hw5_sp[2])\n",
        "print(f'เวลา {hw5} แปลงเป็นจำนวนวินาทีได้เท่ากับ {ans5} วินาที')"
      ],
      "metadata": {
        "colab": {
          "base_uri": "https://localhost:8080/"
        },
        "id": "o4OF24tn3mnY",
        "outputId": "67a2ffc6-22e9-471b-8ac8-c9a6ca47b56c"
      },
      "execution_count": 51,
      "outputs": [
        {
          "output_type": "stream",
          "name": "stdout",
          "text": [
            "เวลา 03:10:15 แปลงเป็นจำนวนวินาทีได้เท่ากับ 11415 วินาที\n"
          ]
        }
      ]
    },
    {
      "cell_type": "markdown",
      "source": [
        "### Dictonary"
      ],
      "metadata": {
        "id": "oL60ZGcIO8id"
      }
    },
    {
      "cell_type": "markdown",
      "source": [
        "- คล้าย list ()\n",
        "- index เป็นอะไรก็ได้ ไม่จำเป็นต้องเป็นตัวเลขลำดับ\n",
        "- ลำดับไม่มีความสำคัญ"
      ],
      "metadata": {
        "id": "rI0JCVuaPNlF"
      }
    },
    {
      "cell_type": "markdown",
      "source": [
        "### สร้าง dictionary"
      ],
      "metadata": {
        "id": "slSy1hLAQ81r"
      }
    },
    {
      "cell_type": "code",
      "source": [
        "dict_a = {1:'Happy','N':'New','2022':'year'}  # {} curly brackets"
      ],
      "metadata": {
        "id": "Ir5uC9FkO_qi"
      },
      "execution_count": 52,
      "outputs": []
    },
    {
      "cell_type": "markdown",
      "source": [
        "### การชี้สมาชิกใน dictionary"
      ],
      "metadata": {
        "id": "QlljAY9TRCjc"
      }
    },
    {
      "cell_type": "code",
      "source": [
        "dict_a[1]"
      ],
      "metadata": {
        "id": "DZLo1y-OQddP",
        "outputId": "c5db41df-daf3-4e61-a349-98cd616cf70a",
        "colab": {
          "base_uri": "https://localhost:8080/",
          "height": 35
        }
      },
      "execution_count": 53,
      "outputs": [
        {
          "output_type": "execute_result",
          "data": {
            "application/vnd.google.colaboratory.intrinsic+json": {
              "type": "string"
            },
            "text/plain": [
              "'Happy'"
            ]
          },
          "metadata": {},
          "execution_count": 53
        }
      ]
    },
    {
      "cell_type": "code",
      "source": [
        "dict_a['N']"
      ],
      "metadata": {
        "id": "vvNYgUY9QiIS",
        "outputId": "94c97e59-177d-4590-bbb1-b6ff1b6ee957",
        "colab": {
          "base_uri": "https://localhost:8080/",
          "height": 35
        }
      },
      "execution_count": 54,
      "outputs": [
        {
          "output_type": "execute_result",
          "data": {
            "application/vnd.google.colaboratory.intrinsic+json": {
              "type": "string"
            },
            "text/plain": [
              "'New'"
            ]
          },
          "metadata": {},
          "execution_count": 54
        }
      ]
    },
    {
      "cell_type": "code",
      "source": [
        "dict_a.keys()"
      ],
      "metadata": {
        "id": "ATGj4DLhQlL4",
        "outputId": "6b952688-5b8e-4862-a05e-c731940704e0",
        "colab": {
          "base_uri": "https://localhost:8080/"
        }
      },
      "execution_count": 55,
      "outputs": [
        {
          "output_type": "execute_result",
          "data": {
            "text/plain": [
              "dict_keys([1, 'N', '2022'])"
            ]
          },
          "metadata": {},
          "execution_count": 55
        }
      ]
    },
    {
      "cell_type": "code",
      "source": [
        "dict_a.values()"
      ],
      "metadata": {
        "id": "4Z09uDfjQrEk",
        "outputId": "9d87d7fd-d93a-4abb-adbe-95b6a5a717c2",
        "colab": {
          "base_uri": "https://localhost:8080/"
        }
      },
      "execution_count": 56,
      "outputs": [
        {
          "output_type": "execute_result",
          "data": {
            "text/plain": [
              "dict_values(['Happy', 'New', 'year'])"
            ]
          },
          "metadata": {},
          "execution_count": 56
        }
      ]
    },
    {
      "cell_type": "markdown",
      "source": [
        "### การเพิ่มสมาชิกเข้าไปใน Dictionary"
      ],
      "metadata": {
        "id": "y5BawW3HRKhx"
      }
    },
    {
      "cell_type": "code",
      "source": [
        "dict_a[7] = 3.14"
      ],
      "metadata": {
        "id": "e5XWIel8RP-O"
      },
      "execution_count": 57,
      "outputs": []
    },
    {
      "cell_type": "code",
      "source": [
        "dict_a"
      ],
      "metadata": {
        "id": "odpcr3ApRWas",
        "outputId": "79d31399-3447-4b9a-99f0-f4087ea7a193",
        "colab": {
          "base_uri": "https://localhost:8080/"
        }
      },
      "execution_count": 58,
      "outputs": [
        {
          "output_type": "execute_result",
          "data": {
            "text/plain": [
              "{1: 'Happy', '2022': 'year', 7: 3.14, 'N': 'New'}"
            ]
          },
          "metadata": {},
          "execution_count": 58
        }
      ]
    },
    {
      "cell_type": "code",
      "source": [
        "dict_a['N'] = 'NNNEEEEWWWW'"
      ],
      "metadata": {
        "id": "yBcTvgmsRgYo"
      },
      "execution_count": 59,
      "outputs": []
    },
    {
      "cell_type": "code",
      "source": [
        "dict_a"
      ],
      "metadata": {
        "id": "qaaiDdL7RuiY",
        "outputId": "2734ab1c-06ea-4cc0-9f46-fe2daaefefc3",
        "colab": {
          "base_uri": "https://localhost:8080/"
        }
      },
      "execution_count": 60,
      "outputs": [
        {
          "output_type": "execute_result",
          "data": {
            "text/plain": [
              "{1: 'Happy', '2022': 'year', 7: 3.14, 'N': 'NNNEEEEWWWW'}"
            ]
          },
          "metadata": {},
          "execution_count": 60
        }
      ]
    },
    {
      "cell_type": "markdown",
      "source": [
        "### Numpy Array"
      ],
      "metadata": {
        "id": "2Ndb1ufqPAFi"
      }
    },
    {
      "cell_type": "markdown",
      "source": [
        "![image.png](data:image/png;base64,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)"
      ],
      "metadata": {
        "id": "81q7iI03TilJ"
      }
    },
    {
      "cell_type": "markdown",
      "source": [
        "- เก็บได้เเต่ตัวเลข\n",
        "- อ้างอิงโดยใช้พิกัด (2 มิติ ก็มองเป็น Matrix)"
      ],
      "metadata": {
        "id": "S73TMSIsUVwD"
      }
    },
    {
      "cell_type": "code",
      "source": [
        "import numpy"
      ],
      "metadata": {
        "id": "eYuzF_CJSUzh"
      },
      "execution_count": 61,
      "outputs": []
    },
    {
      "cell_type": "markdown",
      "source": [
        "### 1D Array"
      ],
      "metadata": {
        "id": "q6BunBqpYG3k"
      }
    },
    {
      "cell_type": "code",
      "source": [
        "list_A = [1,2,3,4,5]"
      ],
      "metadata": {
        "id": "Mnh13Y_vVuyj"
      },
      "execution_count": 66,
      "outputs": []
    },
    {
      "cell_type": "code",
      "source": [
        "arr_a = numpy.array(list_A)"
      ],
      "metadata": {
        "id": "DDReKOMtVToY"
      },
      "execution_count": 67,
      "outputs": []
    },
    {
      "cell_type": "code",
      "source": [
        "arr_a"
      ],
      "metadata": {
        "id": "DCzi1LgRVo9x",
        "outputId": "3b71b407-7270-4792-f617-3110d6b618ec",
        "colab": {
          "base_uri": "https://localhost:8080/"
        }
      },
      "execution_count": 68,
      "outputs": [
        {
          "output_type": "execute_result",
          "data": {
            "text/plain": [
              "array([1, 2, 3, 4, 5])"
            ]
          },
          "metadata": {},
          "execution_count": 68
        }
      ]
    },
    {
      "cell_type": "code",
      "source": [
        "list_A"
      ],
      "metadata": {
        "id": "ezHtiuKzV9sX",
        "outputId": "2766f870-e044-4ec6-9858-104520e8003b",
        "colab": {
          "base_uri": "https://localhost:8080/"
        }
      },
      "execution_count": 70,
      "outputs": [
        {
          "output_type": "execute_result",
          "data": {
            "text/plain": [
              "[1, 2, 3, 4, 5]"
            ]
          },
          "metadata": {},
          "execution_count": 70
        }
      ]
    },
    {
      "cell_type": "code",
      "source": [
        "arr_a[0]"
      ],
      "metadata": {
        "id": "kHCBf2RBVrUw",
        "outputId": "64239e7b-2c5e-46eb-bdd5-f342a984091d",
        "colab": {
          "base_uri": "https://localhost:8080/"
        }
      },
      "execution_count": 69,
      "outputs": [
        {
          "output_type": "execute_result",
          "data": {
            "text/plain": [
              "1"
            ]
          },
          "metadata": {},
          "execution_count": 69
        }
      ]
    },
    {
      "cell_type": "code",
      "source": [
        "list_A[0]"
      ],
      "metadata": {
        "id": "8iJA_ZpTVtkL",
        "outputId": "2d263cd2-c526-4cce-e553-16720b776780",
        "colab": {
          "base_uri": "https://localhost:8080/"
        }
      },
      "execution_count": 71,
      "outputs": [
        {
          "output_type": "execute_result",
          "data": {
            "text/plain": [
              "1"
            ]
          },
          "metadata": {},
          "execution_count": 71
        }
      ]
    },
    {
      "cell_type": "code",
      "source": [
        "5 * arr_a # เอา5 ไปคูณด้านใน ,Matrix (scalar Multiplication)"
      ],
      "metadata": {
        "id": "_6L8OrEeWD8U",
        "outputId": "1e3abc88-db84-4e20-e5f7-f3b6117d784b",
        "colab": {
          "base_uri": "https://localhost:8080/"
        }
      },
      "execution_count": 72,
      "outputs": [
        {
          "output_type": "execute_result",
          "data": {
            "text/plain": [
              "array([ 5, 10, 15, 20, 25])"
            ]
          },
          "metadata": {},
          "execution_count": 72
        }
      ]
    },
    {
      "cell_type": "code",
      "source": [
        "5*list_A #ถ้าเอา5 คูณ list มันจะต่อกัน5รอบ"
      ],
      "metadata": {
        "id": "i2Y8dTAsWkbk",
        "outputId": "24313bde-6880-43c4-e123-cf2da9b9864c",
        "colab": {
          "base_uri": "https://localhost:8080/"
        }
      },
      "execution_count": 73,
      "outputs": [
        {
          "output_type": "execute_result",
          "data": {
            "text/plain": [
              "[1, 2, 3, 4, 5, 1, 2, 3, 4, 5, 1, 2, 3, 4, 5, 1, 2, 3, 4, 5, 1, 2, 3, 4, 5]"
            ]
          },
          "metadata": {},
          "execution_count": 73
        }
      ]
    },
    {
      "cell_type": "code",
      "source": [
        "arr_b = numpy.array([10,20,30,40,50])"
      ],
      "metadata": {
        "id": "0-wDcNXgW1W9"
      },
      "execution_count": 74,
      "outputs": []
    },
    {
      "cell_type": "code",
      "source": [
        "print(arr_a)"
      ],
      "metadata": {
        "id": "md3BUXzaXV3Q",
        "outputId": "8c4447f5-c3ed-41e1-b8c6-aa146d12282a",
        "colab": {
          "base_uri": "https://localhost:8080/"
        }
      },
      "execution_count": 75,
      "outputs": [
        {
          "output_type": "stream",
          "name": "stdout",
          "text": [
            "[1 2 3 4 5]\n"
          ]
        }
      ]
    },
    {
      "cell_type": "code",
      "source": [
        "arr_a + arr_b  # เอาตำเเหน่งเดียวกันบวกกัน"
      ],
      "metadata": {
        "id": "BmcnBdaaXdFc",
        "outputId": "1d02e577-fdcf-4f7e-c50a-0741728e2064",
        "colab": {
          "base_uri": "https://localhost:8080/"
        }
      },
      "execution_count": 76,
      "outputs": [
        {
          "output_type": "execute_result",
          "data": {
            "text/plain": [
              "array([11, 22, 33, 44, 55])"
            ]
          },
          "metadata": {},
          "execution_count": 76
        }
      ]
    },
    {
      "cell_type": "markdown",
      "source": [
        "### 2D Array"
      ],
      "metadata": {
        "id": "B7Aulf1wYEAh"
      }
    },
    {
      "cell_type": "code",
      "source": [
        "import numpy as np"
      ],
      "metadata": {
        "id": "PtSfWaKxY2Jg"
      },
      "execution_count": 77,
      "outputs": []
    },
    {
      "cell_type": "code",
      "source": [
        "arr2_z = np.array([[1,2,3],[4,5,6]])"
      ],
      "metadata": {
        "id": "GF1hXNE1X1T0"
      },
      "execution_count": 78,
      "outputs": []
    },
    {
      "cell_type": "code",
      "source": [
        "arr2_z"
      ],
      "metadata": {
        "id": "iG0uw5I9ZAqF",
        "outputId": "e34b9a0f-d91c-4864-d852-249ae87d87f3",
        "colab": {
          "base_uri": "https://localhost:8080/"
        }
      },
      "execution_count": 79,
      "outputs": [
        {
          "output_type": "execute_result",
          "data": {
            "text/plain": [
              "array([[1, 2, 3],\n",
              "       [4, 5, 6]])"
            ]
          },
          "metadata": {},
          "execution_count": 79
        }
      ]
    },
    {
      "cell_type": "code",
      "source": [
        "arr2_z.shape  #arrayมี 2 แถว 3 หลัก"
      ],
      "metadata": {
        "id": "ONXft8HjZoLC",
        "outputId": "2abbc692-4ded-4174-b9b5-3e8d6c33e3ce",
        "colab": {
          "base_uri": "https://localhost:8080/"
        }
      },
      "execution_count": 80,
      "outputs": [
        {
          "output_type": "execute_result",
          "data": {
            "text/plain": [
              "(2, 3)"
            ]
          },
          "metadata": {},
          "execution_count": 80
        }
      ]
    },
    {
      "cell_type": "markdown",
      "source": [
        "\n",
        "\n",
        "### `np.zeros()`\n",
        "\n",
        "\n",
        "\n",
        "\n"
      ],
      "metadata": {
        "id": "KZQI-kB3Zbt4"
      }
    },
    {
      "cell_type": "code",
      "source": [
        "arr2_3_5_0 = np.zeros((3,5))"
      ],
      "metadata": {
        "id": "mjq05rE1ZQG7"
      },
      "execution_count": 83,
      "outputs": []
    },
    {
      "cell_type": "code",
      "source": [
        "arr2_3_5_0"
      ],
      "metadata": {
        "id": "91kgbbGvaOTx",
        "outputId": "134e459e-2e23-4f62-8158-acab6e203d87",
        "colab": {
          "base_uri": "https://localhost:8080/"
        }
      },
      "execution_count": 84,
      "outputs": [
        {
          "output_type": "execute_result",
          "data": {
            "text/plain": [
              "array([[0., 0., 0., 0., 0.],\n",
              "       [0., 0., 0., 0., 0.],\n",
              "       [0., 0., 0., 0., 0.]])"
            ]
          },
          "metadata": {},
          "execution_count": 84
        }
      ]
    },
    {
      "cell_type": "code",
      "source": [
        "arr2_3_5_0[1,2] = 9 # การกำหนดค่าในแถว 1 หลัก 2"
      ],
      "metadata": {
        "id": "au-v2SAuaYAo"
      },
      "execution_count": 85,
      "outputs": []
    },
    {
      "cell_type": "code",
      "source": [
        "arr2_3_5_0"
      ],
      "metadata": {
        "id": "mqJHZtvbakGb",
        "outputId": "7d508c6f-5829-4bc0-87f1-7c811c076f8b",
        "colab": {
          "base_uri": "https://localhost:8080/"
        }
      },
      "execution_count": 86,
      "outputs": [
        {
          "output_type": "execute_result",
          "data": {
            "text/plain": [
              "array([[0., 0., 0., 0., 0.],\n",
              "       [0., 0., 9., 0., 0.],\n",
              "       [0., 0., 0., 0., 0.]])"
            ]
          },
          "metadata": {},
          "execution_count": 86
        }
      ]
    },
    {
      "cell_type": "code",
      "source": [
        "arr2_3_5_0[1,2] #ชี้"
      ],
      "metadata": {
        "id": "wR71qgcRaw5Q",
        "outputId": "b2461b6d-7922-4ad9-8b91-05c350cece8d",
        "colab": {
          "base_uri": "https://localhost:8080/"
        }
      },
      "execution_count": 87,
      "outputs": [
        {
          "output_type": "execute_result",
          "data": {
            "text/plain": [
              "9.0"
            ]
          },
          "metadata": {},
          "execution_count": 87
        }
      ]
    },
    {
      "cell_type": "code",
      "source": [
        "print(list_A) # เปลี่ยนค่าใน list()\n",
        "list_A[-1] = 'Christmas'\n",
        "print(list_A)"
      ],
      "metadata": {
        "id": "550ylQrIayBk",
        "outputId": "81929bf9-9139-4de7-bf7a-3756a75852d0",
        "colab": {
          "base_uri": "https://localhost:8080/"
        }
      },
      "execution_count": 88,
      "outputs": [
        {
          "output_type": "stream",
          "name": "stdout",
          "text": [
            "[1, 2, 3, 4, 5]\n",
            "[1, 2, 3, 4, 'Christmas']\n"
          ]
        }
      ]
    },
    {
      "cell_type": "markdown",
      "source": [
        "### `np.ones()`"
      ],
      "metadata": {
        "id": "YFPzM3u9b7JH"
      }
    },
    {
      "cell_type": "code",
      "source": [
        "arr2_4_5_1 = np.ones((4,5))"
      ],
      "metadata": {
        "id": "KPYc7b72bpT6"
      },
      "execution_count": 107,
      "outputs": []
    },
    {
      "cell_type": "code",
      "source": [
        "arr2_4_5_1"
      ],
      "metadata": {
        "id": "KbisXz-DcLXg",
        "outputId": "6aacbe58-b331-4f73-bf78-5285510b8b07",
        "colab": {
          "base_uri": "https://localhost:8080/"
        }
      },
      "execution_count": 108,
      "outputs": [
        {
          "output_type": "execute_result",
          "data": {
            "text/plain": [
              "array([[1., 1., 1., 1., 1.],\n",
              "       [1., 1., 1., 1., 1.],\n",
              "       [1., 1., 1., 1., 1.],\n",
              "       [1., 1., 1., 1., 1.]])"
            ]
          },
          "metadata": {},
          "execution_count": 108
        }
      ]
    },
    {
      "cell_type": "code",
      "source": [
        "arr2_4_5_200 = 200*np.ones((4,5))"
      ],
      "metadata": {
        "id": "U4jx2YbPcTAg"
      },
      "execution_count": 101,
      "outputs": []
    },
    {
      "cell_type": "code",
      "source": [
        "arr2_4_5_200"
      ],
      "metadata": {
        "id": "BD_J4nOocfvK",
        "outputId": "ec85b2b8-00e7-4a48-ca9b-98fac5de3e59",
        "colab": {
          "base_uri": "https://localhost:8080/"
        }
      },
      "execution_count": 102,
      "outputs": [
        {
          "output_type": "execute_result",
          "data": {
            "text/plain": [
              "array([[200., 200., 200., 200., 200.],\n",
              "       [200., 200., 200., 200., 200.],\n",
              "       [200., 200., 200., 200., 200.],\n",
              "       [200., 200., 200., 200., 200.]])"
            ]
          },
          "metadata": {},
          "execution_count": 102
        }
      ]
    },
    {
      "cell_type": "markdown",
      "source": [
        "### Matrix Operations"
      ],
      "metadata": {
        "id": "dx1y2e1Oc0XX"
      }
    },
    {
      "cell_type": "markdown",
      "source": [
        "#### การบวก ลบ matrix $M \\pm N$ บวกลบตัวที่อยู่ตำแหน่งเดียวกัน"
      ],
      "metadata": {
        "id": "I864FfKCdANr"
      }
    },
    {
      "cell_type": "code",
      "source": [
        "arr2_3_5_0 + arr2_4_5_1_200 # การบวก ลบ matrix shape ต้องเท่ากัน"
      ],
      "metadata": {
        "id": "r0uJeR74dITH",
        "outputId": "6e4050f2-4681-4b7f-8110-fd65b3c971ed",
        "colab": {
          "base_uri": "https://localhost:8080/",
          "height": 166
        }
      },
      "execution_count": 94,
      "outputs": [
        {
          "output_type": "error",
          "ename": "ValueError",
          "evalue": "ignored",
          "traceback": [
            "\u001b[0;31m---------------------------------------------------------------------------\u001b[0m",
            "\u001b[0;31mValueError\u001b[0m                                Traceback (most recent call last)",
            "\u001b[0;32m<ipython-input-94-1af370d2f376>\u001b[0m in \u001b[0;36m<module>\u001b[0;34m()\u001b[0m\n\u001b[0;32m----> 1\u001b[0;31m \u001b[0marr2_3_5_0\u001b[0m \u001b[0;34m+\u001b[0m \u001b[0marr2_4_5_1_200\u001b[0m \u001b[0;31m# การบวก ลบ matrix shape ต้องเท่ากัน\u001b[0m\u001b[0;34m\u001b[0m\u001b[0;34m\u001b[0m\u001b[0m\n\u001b[0m",
            "\u001b[0;31mValueError\u001b[0m: operands could not be broadcast together with shapes (3,5) (4,5) "
          ]
        }
      ]
    },
    {
      "cell_type": "code",
      "source": [
        "arr2_4_5_200 + arr2_4_5_1"
      ],
      "metadata": {
        "id": "1FrPJOkcdZt3",
        "outputId": "93fa5598-88cb-434a-e634-624546f2f38f",
        "colab": {
          "base_uri": "https://localhost:8080/"
        }
      },
      "execution_count": 109,
      "outputs": [
        {
          "output_type": "execute_result",
          "data": {
            "text/plain": [
              "array([[201., 201., 201., 201., 201.],\n",
              "       [201., 201., 201., 201., 201.],\n",
              "       [201., 201., 201., 201., 201.],\n",
              "       [201., 201., 201., 201., 201.]])"
            ]
          },
          "metadata": {},
          "execution_count": 109
        }
      ]
    },
    {
      "cell_type": "markdown",
      "source": [
        "#### การคูณ matrix\n",
        "\n",
        "- $aM$  scalar คูณ Matrix (scalar คูณกระจายเข้าไปทุกตัวของ Matrix)\n",
        "- $M\\times N$ Matrix คูณ Matrix (แถวคูณหลัก)"
      ],
      "metadata": {
        "id": "it0jENEPnECa"
      }
    },
    {
      "cell_type": "markdown",
      "source": [
        "$aM$"
      ],
      "metadata": {
        "id": "Q-ICisWxnNLz"
      }
    },
    {
      "cell_type": "code",
      "source": [
        "5 * arr_a # Matrix (scalar multiplication)"
      ],
      "metadata": {
        "id": "HnRoF4_WnQaa",
        "outputId": "4a5a4d66-6c99-47b5-fb35-abfc313ec4fa",
        "colab": {
          "base_uri": "https://localhost:8080/"
        }
      },
      "execution_count": 112,
      "outputs": [
        {
          "output_type": "execute_result",
          "data": {
            "text/plain": [
              "array([ 5, 10, 15, 20, 25])"
            ]
          },
          "metadata": {},
          "execution_count": 112
        }
      ]
    },
    {
      "cell_type": "markdown",
      "source": [
        "$M\\times N$ (dot product)\n",
        "- (m,n) $\\times$ (n,o) = (m,o) (Shape)\n",
        "\n",
        "![Unknown-2.gif](data:image/gif;base64,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)"
      ],
      "metadata": {
        "id": "KsSD0GOtnWxR"
      }
    },
    {
      "cell_type": "code",
      "source": [
        "mat_a = np.array([[2,3,5],[4,6,7]])\n",
        "mat_b = np.array([[1,2,5],[2,4,-7]])\n",
        "mat_c = np.array([[2,3],[4,6],[7,9]])"
      ],
      "metadata": {
        "id": "GFiwwYb5nSTL"
      },
      "execution_count": 113,
      "outputs": []
    },
    {
      "cell_type": "code",
      "source": [
        "mat_a"
      ],
      "metadata": {
        "id": "8KQPH0fwnaG6",
        "outputId": "21db7bf6-62e5-4bf9-9d69-87e0730c8fe5",
        "colab": {
          "base_uri": "https://localhost:8080/"
        }
      },
      "execution_count": 114,
      "outputs": [
        {
          "output_type": "execute_result",
          "data": {
            "text/plain": [
              "array([[2, 3, 5],\n",
              "       [4, 6, 7]])"
            ]
          },
          "metadata": {},
          "execution_count": 114
        }
      ]
    },
    {
      "cell_type": "code",
      "source": [
        "mat_b"
      ],
      "metadata": {
        "id": "zIIWSlr9nbZj",
        "outputId": "712c6e2f-07a5-4e40-ad57-25ff7931ca76",
        "colab": {
          "base_uri": "https://localhost:8080/"
        }
      },
      "execution_count": 115,
      "outputs": [
        {
          "output_type": "execute_result",
          "data": {
            "text/plain": [
              "array([[ 1,  2,  5],\n",
              "       [ 2,  4, -7]])"
            ]
          },
          "metadata": {},
          "execution_count": 115
        }
      ]
    },
    {
      "cell_type": "code",
      "source": [
        "mat_c"
      ],
      "metadata": {
        "id": "uN9zVtaUndEh",
        "outputId": "f6513771-4c40-48eb-eacf-d3bd051b2022",
        "colab": {
          "base_uri": "https://localhost:8080/"
        }
      },
      "execution_count": 116,
      "outputs": [
        {
          "output_type": "execute_result",
          "data": {
            "text/plain": [
              "array([[2, 3],\n",
              "       [4, 6],\n",
              "       [7, 9]])"
            ]
          },
          "metadata": {},
          "execution_count": 116
        }
      ]
    },
    {
      "cell_type": "markdown",
      "source": [
        "axc, bxc"
      ],
      "metadata": {
        "id": "NBuoKClXnfmS"
      }
    },
    {
      "cell_type": "code",
      "source": [
        "np.dot(mat_a,mat_c)"
      ],
      "metadata": {
        "id": "W7eKR8-wngxS",
        "outputId": "c1deb5a4-5604-42a4-9b2d-ea044d8149ad",
        "colab": {
          "base_uri": "https://localhost:8080/"
        }
      },
      "execution_count": 117,
      "outputs": [
        {
          "output_type": "execute_result",
          "data": {
            "text/plain": [
              "array([[ 51,  69],\n",
              "       [ 81, 111]])"
            ]
          },
          "metadata": {},
          "execution_count": 117
        }
      ]
    },
    {
      "cell_type": "code",
      "source": [
        "np.dot(mat_b,mat_c)"
      ],
      "metadata": {
        "id": "hln_rRg2njC4",
        "outputId": "3e3e312f-2460-4b01-f11d-3899e54eae32",
        "colab": {
          "base_uri": "https://localhost:8080/"
        }
      },
      "execution_count": 118,
      "outputs": [
        {
          "output_type": "execute_result",
          "data": {
            "text/plain": [
              "array([[ 45,  60],\n",
              "       [-29, -33]])"
            ]
          },
          "metadata": {},
          "execution_count": 118
        }
      ]
    },
    {
      "cell_type": "markdown",
      "source": [
        "cxa, cxb"
      ],
      "metadata": {
        "id": "J0HFWaPDnk09"
      }
    },
    {
      "cell_type": "code",
      "source": [
        "np.dot(mat_c,mat_a)"
      ],
      "metadata": {
        "id": "uk_XZz9qnlsB",
        "outputId": "7a508023-466e-407f-807b-25bc048e796b",
        "colab": {
          "base_uri": "https://localhost:8080/"
        }
      },
      "execution_count": 119,
      "outputs": [
        {
          "output_type": "execute_result",
          "data": {
            "text/plain": [
              "array([[16, 24, 31],\n",
              "       [32, 48, 62],\n",
              "       [50, 75, 98]])"
            ]
          },
          "metadata": {},
          "execution_count": 119
        }
      ]
    },
    {
      "cell_type": "code",
      "source": [
        "mat_X = np.dot(mat_c,mat_b)\n",
        "print(mat_X)"
      ],
      "metadata": {
        "id": "VI1u-OuYnv7g",
        "outputId": "4a061723-2a4a-400c-c18a-7e62709725f6",
        "colab": {
          "base_uri": "https://localhost:8080/"
        }
      },
      "execution_count": 120,
      "outputs": [
        {
          "output_type": "stream",
          "name": "stdout",
          "text": [
            "[[  8  16 -11]\n",
            " [ 16  32 -22]\n",
            " [ 25  50 -28]]\n"
          ]
        }
      ]
    },
    {
      "cell_type": "code",
      "source": [
        "mat_a * mat_b   # คูณตัวตำแหน่งเดียวกัน"
      ],
      "metadata": {
        "id": "8FmMw-K6nxop",
        "outputId": "7f259428-5e3b-4c4b-eae4-747336d9ab63",
        "colab": {
          "base_uri": "https://localhost:8080/"
        }
      },
      "execution_count": 121,
      "outputs": [
        {
          "output_type": "execute_result",
          "data": {
            "text/plain": [
              "array([[  2,   6,  25],\n",
              "       [  8,  24, -49]])"
            ]
          },
          "metadata": {},
          "execution_count": 121
        }
      ]
    },
    {
      "cell_type": "markdown",
      "source": [
        "### Matrix Slicing"
      ],
      "metadata": {
        "id": "f1bu1CKtn2OJ"
      }
    },
    {
      "cell_type": "code",
      "source": [
        "mat_X[:2,:2]"
      ],
      "metadata": {
        "id": "gIFiB_abn3mU",
        "outputId": "914b167f-59c8-4a47-88fe-b5213abb98b5",
        "colab": {
          "base_uri": "https://localhost:8080/"
        }
      },
      "execution_count": 122,
      "outputs": [
        {
          "output_type": "execute_result",
          "data": {
            "text/plain": [
              "array([[ 8, 16],\n",
              "       [16, 32]])"
            ]
          },
          "metadata": {},
          "execution_count": 122
        }
      ]
    },
    {
      "cell_type": "markdown",
      "source": [
        "HW 3\n",
        "\n",
        "\n",
        "1. สร้าง array ที่เป็นรูป ต้น Christmas\n",
        "\n",
        "2. slice เลข 1 ออกมาจาก array HW3 ด้วยการ slice แค่ครั้งเดียว"
      ],
      "metadata": {
        "id": "3vAHXIQOn6EF"
      }
    },
    {
      "cell_type": "code",
      "source": [
        "HW3 = np.zeros((10,10))\n",
        "HW3"
      ],
      "metadata": {
        "id": "fDOF8Swin9NV",
        "outputId": "51d3aeb6-6b0b-4a23-ad9f-c2b402a72959",
        "colab": {
          "base_uri": "https://localhost:8080/"
        }
      },
      "execution_count": 123,
      "outputs": [
        {
          "output_type": "execute_result",
          "data": {
            "text/plain": [
              "array([[0., 0., 0., 0., 0., 0., 0., 0., 0., 0.],\n",
              "       [0., 0., 0., 0., 0., 0., 0., 0., 0., 0.],\n",
              "       [0., 0., 0., 0., 0., 0., 0., 0., 0., 0.],\n",
              "       [0., 0., 0., 0., 0., 0., 0., 0., 0., 0.],\n",
              "       [0., 0., 0., 0., 0., 0., 0., 0., 0., 0.],\n",
              "       [0., 0., 0., 0., 0., 0., 0., 0., 0., 0.],\n",
              "       [0., 0., 0., 0., 0., 0., 0., 0., 0., 0.],\n",
              "       [0., 0., 0., 0., 0., 0., 0., 0., 0., 0.],\n",
              "       [0., 0., 0., 0., 0., 0., 0., 0., 0., 0.],\n",
              "       [0., 0., 0., 0., 0., 0., 0., 0., 0., 0.]])"
            ]
          },
          "metadata": {},
          "execution_count": 123
        }
      ]
    },
    {
      "cell_type": "code",
      "source": [
        "HW3[::4,2] = 1\n",
        "HW3[::4,4] = 1\n",
        "HW3[::4,6] = 1\n",
        "HW3[::4,8] = 1\n",
        "HW3"
      ],
      "metadata": {
        "id": "07Sdr4MboA9D",
        "outputId": "2b872135-1b1f-46f0-c86a-9b776b92b0f2",
        "colab": {
          "base_uri": "https://localhost:8080/"
        }
      },
      "execution_count": 124,
      "outputs": [
        {
          "output_type": "execute_result",
          "data": {
            "text/plain": [
              "array([[0., 0., 1., 0., 1., 0., 1., 0., 1., 0.],\n",
              "       [0., 0., 0., 0., 0., 0., 0., 0., 0., 0.],\n",
              "       [0., 0., 0., 0., 0., 0., 0., 0., 0., 0.],\n",
              "       [0., 0., 0., 0., 0., 0., 0., 0., 0., 0.],\n",
              "       [0., 0., 1., 0., 1., 0., 1., 0., 1., 0.],\n",
              "       [0., 0., 0., 0., 0., 0., 0., 0., 0., 0.],\n",
              "       [0., 0., 0., 0., 0., 0., 0., 0., 0., 0.],\n",
              "       [0., 0., 0., 0., 0., 0., 0., 0., 0., 0.],\n",
              "       [0., 0., 1., 0., 1., 0., 1., 0., 1., 0.],\n",
              "       [0., 0., 0., 0., 0., 0., 0., 0., 0., 0.]])"
            ]
          },
          "metadata": {},
          "execution_count": 124
        }
      ]
    },
    {
      "cell_type": "markdown",
      "source": [
        "### Pandas Dataframe(แยกออกไปเป็น Notebook เฉพาะ)"
      ],
      "metadata": {
        "id": "GwXKMmY1PDr0"
      }
    }
  ]
}