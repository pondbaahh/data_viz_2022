{
  "nbformat": 4,
  "nbformat_minor": 0,
  "metadata": {
    "colab": {
      "name": "Data_Structure.ipynb",
      "provenance": [],
      "authorship_tag": "ABX9TyPLQoKS4JdFj4YUwu83wQ/4",
      "include_colab_link": true
    },
    "kernelspec": {
      "name": "python3",
      "display_name": "Python 3"
    },
    "language_info": {
      "name": "python"
    }
  },
  "cells": [
    {
      "cell_type": "markdown",
      "metadata": {
        "id": "view-in-github",
        "colab_type": "text"
      },
      "source": [
        "<a href=\"https://colab.research.google.com/github/pondbaahh/data_viz_2022/blob/main/Data_Structure.ipynb\" target=\"_parent\"><img src=\"https://colab.research.google.com/assets/colab-badge.svg\" alt=\"Open In Colab\"/></a>"
      ]
    },
    {
      "cell_type": "markdown",
      "source": [
        "#Data Struceture (โครงสร้างข้อมูล)\n",
        "การเก็บข้อมูลหลายๆตัวไว้ด้วยกันอย่างเป็นระเบียบ"
      ],
      "metadata": {
        "id": "NagNahOw0V5p"
      }
    },
    {
      "cell_type": "markdown",
      "source": [
        "## **List()**\n",
        "\n",
        "\n",
        "*   เก็บอะไรก็ได้\n",
        "*   ลำดับในการเก็บมีความสำคัญ\n",
        "*   ง่ายที่สุดในการเก็บข้อมูล\n",
        "\n"
      ],
      "metadata": {
        "id": "7knZAc5P0eUa"
      }
    },
    {
      "cell_type": "code",
      "execution_count": 1,
      "metadata": {
        "id": "TqzjnNMH0GGb"
      },
      "outputs": [],
      "source": [
        "list_a = [1,2,3,4,5,6] # [ ] square brackets"
      ]
    },
    {
      "cell_type": "code",
      "source": [
        "list_a"
      ],
      "metadata": {
        "colab": {
          "base_uri": "https://localhost:8080/"
        },
        "id": "X5XAcPuq0xRZ",
        "outputId": "a87d4750-e9bd-4c59-a559-1b092a8d80ee"
      },
      "execution_count": 2,
      "outputs": [
        {
          "output_type": "execute_result",
          "data": {
            "text/plain": [
              "[1, 2, 3, 4, 5, 6]"
            ]
          },
          "metadata": {},
          "execution_count": 2
        }
      ]
    },
    {
      "cell_type": "code",
      "source": [
        "list_b = ['ab',2,3.14,list_a]"
      ],
      "metadata": {
        "id": "7wxGreMj0y4r"
      },
      "execution_count": 3,
      "outputs": []
    },
    {
      "cell_type": "code",
      "source": [
        "list_b"
      ],
      "metadata": {
        "colab": {
          "base_uri": "https://localhost:8080/"
        },
        "id": "9Dopg9YV00sL",
        "outputId": "e1ec4915-2875-4146-8850-ccc0c4f9e20f"
      },
      "execution_count": 4,
      "outputs": [
        {
          "output_type": "execute_result",
          "data": {
            "text/plain": [
              "['ab', 2, 3.14, [1, 2, 3, 4, 5, 6]]"
            ]
          },
          "metadata": {},
          "execution_count": 4
        }
      ]
    },
    {
      "cell_type": "markdown",
      "source": [
        "### indexing การชี้สมาชิกใน list ด้วยเลขลำดับของ list"
      ],
      "metadata": {
        "id": "a_VczU_405Kc"
      }
    },
    {
      "cell_type": "code",
      "source": [
        "list_a[3]"
      ],
      "metadata": {
        "colab": {
          "base_uri": "https://localhost:8080/"
        },
        "id": "qjRdwgtO06Xa",
        "outputId": "01ecbf60-fa3d-4bb8-b210-4445d99dd8f7"
      },
      "execution_count": 5,
      "outputs": [
        {
          "output_type": "execute_result",
          "data": {
            "text/plain": [
              "4"
            ]
          },
          "metadata": {},
          "execution_count": 5
        }
      ]
    },
    {
      "cell_type": "code",
      "source": [
        "list_b[3]"
      ],
      "metadata": {
        "colab": {
          "base_uri": "https://localhost:8080/"
        },
        "id": "U073n-vO02tR",
        "outputId": "7efd21ac-c596-44b4-b87e-fa8fc56b38fb"
      },
      "execution_count": 6,
      "outputs": [
        {
          "output_type": "execute_result",
          "data": {
            "text/plain": [
              "[1, 2, 3, 4, 5, 6]"
            ]
          },
          "metadata": {},
          "execution_count": 6
        }
      ]
    },
    {
      "cell_type": "code",
      "source": [
        "list_b[3][4]"
      ],
      "metadata": {
        "colab": {
          "base_uri": "https://localhost:8080/"
        },
        "id": "e3BNj0S80-3Q",
        "outputId": "76cb7c63-0102-4273-895f-4a556d91e7f8"
      },
      "execution_count": 7,
      "outputs": [
        {
          "output_type": "execute_result",
          "data": {
            "text/plain": [
              "5"
            ]
          },
          "metadata": {},
          "execution_count": 7
        }
      ]
    },
    {
      "cell_type": "code",
      "source": [
        "list_a[6] # ไม่มีลำดับอยู่ใน list"
      ],
      "metadata": {
        "colab": {
          "base_uri": "https://localhost:8080/",
          "height": 166
        },
        "id": "6qI98l6h1A6h",
        "outputId": "8d3d562d-2f4b-4925-d137-dfb20c7dfd7e"
      },
      "execution_count": 9,
      "outputs": [
        {
          "output_type": "error",
          "ename": "IndexError",
          "evalue": "ignored",
          "traceback": [
            "\u001b[0;31m---------------------------------------------------------------------------\u001b[0m",
            "\u001b[0;31mIndexError\u001b[0m                                Traceback (most recent call last)",
            "\u001b[0;32m<ipython-input-9-f982f6d8c984>\u001b[0m in \u001b[0;36m<module>\u001b[0;34m()\u001b[0m\n\u001b[0;32m----> 1\u001b[0;31m \u001b[0mlist_a\u001b[0m\u001b[0;34m[\u001b[0m\u001b[0;36m6\u001b[0m\u001b[0;34m]\u001b[0m \u001b[0;31m# ไม่มีลำดับอยู่ใน list\u001b[0m\u001b[0;34m\u001b[0m\u001b[0;34m\u001b[0m\u001b[0m\n\u001b[0m",
            "\u001b[0;31mIndexError\u001b[0m: list index out of range"
          ]
        }
      ]
    },
    {
      "cell_type": "code",
      "source": [
        "list_a[-1] # index -1 คือตัวสุดท้ายของ list ใช้เมื่อ 1. มีข้อมูลใน list เยอะมาก 2. เมื่อข้อมูลเปลี่ยนจะชี้้แบบเจาะจงไม่ได้"
      ],
      "metadata": {
        "colab": {
          "base_uri": "https://localhost:8080/"
        },
        "id": "reQX64L51MRI",
        "outputId": "fa2f03af-6236-467f-dc14-68e27096616f"
      },
      "execution_count": 10,
      "outputs": [
        {
          "output_type": "execute_result",
          "data": {
            "text/plain": [
              "6"
            ]
          },
          "metadata": {},
          "execution_count": 10
        }
      ]
    },
    {
      "cell_type": "code",
      "source": [
        "list_a[-4]"
      ],
      "metadata": {
        "colab": {
          "base_uri": "https://localhost:8080/"
        },
        "id": "tDff4ltZ1Nak",
        "outputId": "d977559a-f7e3-4ffb-b84f-ba1513937f78"
      },
      "execution_count": 11,
      "outputs": [
        {
          "output_type": "execute_result",
          "data": {
            "text/plain": [
              "3"
            ]
          },
          "metadata": {},
          "execution_count": 11
        }
      ]
    },
    {
      "cell_type": "markdown",
      "source": [
        "###  การสร้าง list()"
      ],
      "metadata": {
        "id": "bGAMZNez1XMr"
      }
    },
    {
      "cell_type": "code",
      "source": [
        "list_x1 = [] # แบบที่ 1 \n",
        "list_x2 = list() # แบบที่ 2"
      ],
      "metadata": {
        "id": "hge2kMN41auS"
      },
      "execution_count": 12,
      "outputs": []
    },
    {
      "cell_type": "code",
      "source": [
        "print(list_x1)\n",
        "print(list_x2)"
      ],
      "metadata": {
        "colab": {
          "base_uri": "https://localhost:8080/"
        },
        "id": "yzTw7ah91dnX",
        "outputId": "739a5b80-a79a-42b3-9717-26274cf5fd7d"
      },
      "execution_count": 13,
      "outputs": [
        {
          "output_type": "stream",
          "name": "stdout",
          "text": [
            "[]\n",
            "[]\n"
          ]
        }
      ]
    },
    {
      "cell_type": "markdown",
      "source": [
        "### เพิ่มสมาชิกเข้าไปใน list ด้วย append()"
      ],
      "metadata": {
        "id": "NkpWQ2-a1g2y"
      }
    },
    {
      "cell_type": "code",
      "source": [
        "list_x1.append(2)"
      ],
      "metadata": {
        "id": "q6BB23r11iRd"
      },
      "execution_count": 14,
      "outputs": []
    },
    {
      "cell_type": "code",
      "source": [
        "list_x1"
      ],
      "metadata": {
        "colab": {
          "base_uri": "https://localhost:8080/"
        },
        "id": "-EZGve2g1kEA",
        "outputId": "7586d83b-4421-48db-bb04-00271b1278cf"
      },
      "execution_count": 15,
      "outputs": [
        {
          "output_type": "execute_result",
          "data": {
            "text/plain": [
              "[2]"
            ]
          },
          "metadata": {},
          "execution_count": 15
        }
      ]
    },
    {
      "cell_type": "code",
      "source": [
        "list_x1.append(4)\n",
        "print(list_x1)"
      ],
      "metadata": {
        "colab": {
          "base_uri": "https://localhost:8080/"
        },
        "id": "SRbdYV3Q1lrf",
        "outputId": "126259bc-342d-4e63-b4ad-4b0413b3a706"
      },
      "execution_count": 16,
      "outputs": [
        {
          "output_type": "stream",
          "name": "stdout",
          "text": [
            "[2, 4]\n"
          ]
        }
      ]
    },
    {
      "cell_type": "code",
      "source": [
        "list_x1[0]"
      ],
      "metadata": {
        "colab": {
          "base_uri": "https://localhost:8080/"
        },
        "id": "TJYXpEfQ1ocw",
        "outputId": "b583d9f3-53a9-40cf-9d65-d97e59e39a88"
      },
      "execution_count": 17,
      "outputs": [
        {
          "output_type": "execute_result",
          "data": {
            "text/plain": [
              "2"
            ]
          },
          "metadata": {},
          "execution_count": 17
        }
      ]
    },
    {
      "cell_type": "code",
      "source": [
        "list_x1[-1]"
      ],
      "metadata": {
        "colab": {
          "base_uri": "https://localhost:8080/"
        },
        "id": "Y82Dzr141qWg",
        "outputId": "6ac14fb6-9df8-4d7e-bfb6-18aed8b540c0"
      },
      "execution_count": 18,
      "outputs": [
        {
          "output_type": "execute_result",
          "data": {
            "text/plain": [
              "4"
            ]
          },
          "metadata": {},
          "execution_count": 18
        }
      ]
    },
    {
      "cell_type": "code",
      "source": [
        "list_x2"
      ],
      "metadata": {
        "colab": {
          "base_uri": "https://localhost:8080/"
        },
        "id": "Iv34L6kx1sEF",
        "outputId": "6a79363f-9c6a-4bdc-c233-c6725b028642"
      },
      "execution_count": 19,
      "outputs": [
        {
          "output_type": "execute_result",
          "data": {
            "text/plain": [
              "[]"
            ]
          },
          "metadata": {},
          "execution_count": 19
        }
      ]
    },
    {
      "cell_type": "code",
      "source": [
        "list_x2.append('ha')"
      ],
      "metadata": {
        "id": "sZYso8P_1tsR"
      },
      "execution_count": 20,
      "outputs": []
    },
    {
      "cell_type": "code",
      "source": [
        "list_x2"
      ],
      "metadata": {
        "colab": {
          "base_uri": "https://localhost:8080/"
        },
        "id": "Y6ami8hW1vN0",
        "outputId": "3ff64216-3662-4b09-ef3c-f3204f2950a2"
      },
      "execution_count": 21,
      "outputs": [
        {
          "output_type": "execute_result",
          "data": {
            "text/plain": [
              "['ha']"
            ]
          },
          "metadata": {},
          "execution_count": 21
        }
      ]
    },
    {
      "cell_type": "markdown",
      "source": [
        "### ลบสมาชิกจาก list"
      ],
      "metadata": {
        "id": "87z3TQv41w2L"
      }
    },
    {
      "cell_type": "code",
      "source": [
        "list_x1.append('ha')"
      ],
      "metadata": {
        "id": "8wqhM1Im10IW"
      },
      "execution_count": 22,
      "outputs": []
    },
    {
      "cell_type": "code",
      "source": [
        "list_x1"
      ],
      "metadata": {
        "colab": {
          "base_uri": "https://localhost:8080/"
        },
        "id": "COsz12di11xr",
        "outputId": "d4ac8383-dbf2-4b3d-c76d-e882389ee602"
      },
      "execution_count": 23,
      "outputs": [
        {
          "output_type": "execute_result",
          "data": {
            "text/plain": [
              "[2, 4, 'ha']"
            ]
          },
          "metadata": {},
          "execution_count": 23
        }
      ]
    },
    {
      "cell_type": "code",
      "source": [
        "list_x1.pop()"
      ],
      "metadata": {
        "colab": {
          "base_uri": "https://localhost:8080/",
          "height": 35
        },
        "id": "VDvCAjyb13GI",
        "outputId": "d2c0e508-d3a4-49d8-c7e0-da1d85fb4c8c"
      },
      "execution_count": 24,
      "outputs": [
        {
          "output_type": "execute_result",
          "data": {
            "application/vnd.google.colaboratory.intrinsic+json": {
              "type": "string"
            },
            "text/plain": [
              "'ha'"
            ]
          },
          "metadata": {},
          "execution_count": 24
        }
      ]
    },
    {
      "cell_type": "code",
      "source": [
        "list_x1"
      ],
      "metadata": {
        "colab": {
          "base_uri": "https://localhost:8080/"
        },
        "id": "p4bvQ2R914pP",
        "outputId": "bd85f5ff-7fc7-4bcf-d922-7c91d9ceb2f4"
      },
      "execution_count": 25,
      "outputs": [
        {
          "output_type": "execute_result",
          "data": {
            "text/plain": [
              "[2, 4]"
            ]
          },
          "metadata": {},
          "execution_count": 25
        }
      ]
    },
    {
      "cell_type": "code",
      "source": [
        "list_x1.pop()\n",
        "print(list_x1)"
      ],
      "metadata": {
        "colab": {
          "base_uri": "https://localhost:8080/"
        },
        "id": "E8pEaRHN16vU",
        "outputId": "1ed599bb-73dc-419e-94f4-622038f839a9"
      },
      "execution_count": 26,
      "outputs": [
        {
          "output_type": "stream",
          "name": "stdout",
          "text": [
            "[2]\n"
          ]
        }
      ]
    },
    {
      "cell_type": "markdown",
      "source": [
        "###  len() ตรวจสอบจำนวนสมาชิกของ list"
      ],
      "metadata": {
        "id": "NCk-UMc_19sH"
      }
    },
    {
      "cell_type": "code",
      "source": [
        "print(list_b)\n",
        "print(len(list_b))"
      ],
      "metadata": {
        "colab": {
          "base_uri": "https://localhost:8080/"
        },
        "id": "9l63UkyL18Y5",
        "outputId": "09e304f9-9d1e-42d4-de27-05b7f1753f66"
      },
      "execution_count": 27,
      "outputs": [
        {
          "output_type": "stream",
          "name": "stdout",
          "text": [
            "['ab', 2, 3.14, [1, 2, 3, 4, 5, 6]]\n",
            "4\n"
          ]
        }
      ]
    },
    {
      "cell_type": "code",
      "source": [
        "len(list_a)"
      ],
      "metadata": {
        "colab": {
          "base_uri": "https://localhost:8080/"
        },
        "id": "rVqt4n_42GdF",
        "outputId": "4767bd5b-dcb9-4270-ff04-49b17b5f5497"
      },
      "execution_count": 28,
      "outputs": [
        {
          "output_type": "execute_result",
          "data": {
            "text/plain": [
              "6"
            ]
          },
          "metadata": {},
          "execution_count": 28
        }
      ]
    },
    {
      "cell_type": "markdown",
      "source": [
        "### String is a list of characters"
      ],
      "metadata": {
        "id": "nrrvEcDi2IIR"
      }
    },
    {
      "cell_type": "code",
      "source": [
        "st_stat = 'Department of Statistics, Faculty of Science'"
      ],
      "metadata": {
        "id": "KczyeUvZ2Khd"
      },
      "execution_count": 29,
      "outputs": []
    },
    {
      "cell_type": "code",
      "source": [
        "st_stat[10]"
      ],
      "metadata": {
        "colab": {
          "base_uri": "https://localhost:8080/",
          "height": 35
        },
        "id": "SyX5xHjf2Mz4",
        "outputId": "722cc93a-0191-4d2f-9d40-988991a923f6"
      },
      "execution_count": 30,
      "outputs": [
        {
          "output_type": "execute_result",
          "data": {
            "application/vnd.google.colaboratory.intrinsic+json": {
              "type": "string"
            },
            "text/plain": [
              "' '"
            ]
          },
          "metadata": {},
          "execution_count": 30
        }
      ]
    },
    {
      "cell_type": "code",
      "source": [
        "len(st_stat)"
      ],
      "metadata": {
        "colab": {
          "base_uri": "https://localhost:8080/"
        },
        "id": "USvA2bLj2Oyl",
        "outputId": "d58d181c-6280-40ff-d7d4-2450b0eea24f"
      },
      "execution_count": 31,
      "outputs": [
        {
          "output_type": "execute_result",
          "data": {
            "text/plain": [
              "44"
            ]
          },
          "metadata": {},
          "execution_count": 31
        }
      ]
    },
    {
      "cell_type": "markdown",
      "source": [
        "### List Slicing :\n",
        "list[จุดเริ่มต้น (ทึบ):จุดสุดท้าย (โปร่ง)]\n",
        "\n",
        "list[จุดเริ่มต้น (ทึบ):จุดสุดท้าย(โปร่ง):step]"
      ],
      "metadata": {
        "id": "lwy982F62Qgr"
      }
    },
    {
      "cell_type": "markdown",
      "source": [
        "![image.png](data:image/png;base64,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)"
      ],
      "metadata": {
        "id": "6CY7Tkdh2U9Q"
      }
    },
    {
      "cell_type": "code",
      "source": [
        "list_a"
      ],
      "metadata": {
        "colab": {
          "base_uri": "https://localhost:8080/"
        },
        "id": "wgvpVUe52eMa",
        "outputId": "8bf82702-45ad-4952-b237-e64c93874519"
      },
      "execution_count": 32,
      "outputs": [
        {
          "output_type": "execute_result",
          "data": {
            "text/plain": [
              "[1, 2, 3, 4, 5, 6]"
            ]
          },
          "metadata": {},
          "execution_count": 32
        }
      ]
    },
    {
      "cell_type": "code",
      "source": [
        "list_a[2]"
      ],
      "metadata": {
        "colab": {
          "base_uri": "https://localhost:8080/"
        },
        "id": "smE-ab-G2kkN",
        "outputId": "0f8ea53d-6e6b-407a-dee8-c72c312dc4a4"
      },
      "execution_count": 33,
      "outputs": [
        {
          "output_type": "execute_result",
          "data": {
            "text/plain": [
              "3"
            ]
          },
          "metadata": {},
          "execution_count": 33
        }
      ]
    },
    {
      "cell_type": "markdown",
      "source": [
        "#### : colon"
      ],
      "metadata": {
        "id": "8FmISo1T2qP2"
      }
    },
    {
      "cell_type": "code",
      "source": [
        "list_a[-3:] # : colon เอาตั้งแต่ตัวที่ -3 ถึงตัวสุดท้าย"
      ],
      "metadata": {
        "colab": {
          "base_uri": "https://localhost:8080/"
        },
        "id": "Q9_fP-0X2tKo",
        "outputId": "a158caa0-080a-477d-c98a-3c431976d012"
      },
      "execution_count": 34,
      "outputs": [
        {
          "output_type": "execute_result",
          "data": {
            "text/plain": [
              "[4, 5, 6]"
            ]
          },
          "metadata": {},
          "execution_count": 34
        }
      ]
    },
    {
      "cell_type": "code",
      "source": [
        "list_a[:4]"
      ],
      "metadata": {
        "colab": {
          "base_uri": "https://localhost:8080/"
        },
        "id": "zNDK0tke2wKs",
        "outputId": "55511d94-b56d-4788-d8eb-64af98c11e2f"
      },
      "execution_count": 35,
      "outputs": [
        {
          "output_type": "execute_result",
          "data": {
            "text/plain": [
              "[1, 2, 3, 4]"
            ]
          },
          "metadata": {},
          "execution_count": 35
        }
      ]
    },
    {
      "cell_type": "code",
      "source": [
        "list_a[1:4]"
      ],
      "metadata": {
        "colab": {
          "base_uri": "https://localhost:8080/"
        },
        "id": "n6dfCdxN2xpM",
        "outputId": "6710ac1c-031d-4c37-90dc-85727a1aed34"
      },
      "execution_count": 36,
      "outputs": [
        {
          "output_type": "execute_result",
          "data": {
            "text/plain": [
              "[2, 3, 4]"
            ]
          },
          "metadata": {},
          "execution_count": 36
        }
      ]
    },
    {
      "cell_type": "code",
      "source": [
        "list_a[:]"
      ],
      "metadata": {
        "colab": {
          "base_uri": "https://localhost:8080/"
        },
        "id": "wbOjbHNJ2zOF",
        "outputId": "0f3bdb5f-0fbc-4322-e29c-c39f46f859a0"
      },
      "execution_count": 37,
      "outputs": [
        {
          "output_type": "execute_result",
          "data": {
            "text/plain": [
              "[1, 2, 3, 4, 5, 6]"
            ]
          },
          "metadata": {},
          "execution_count": 37
        }
      ]
    },
    {
      "cell_type": "markdown",
      "source": [
        "step"
      ],
      "metadata": {
        "id": "NVZQX9A_217O"
      }
    },
    {
      "cell_type": "code",
      "source": [
        "list_c = [1,2,3,4,5,6,7,8,9,10,11,12,13]"
      ],
      "metadata": {
        "id": "Jt7q-ZGU2036"
      },
      "execution_count": 38,
      "outputs": []
    },
    {
      "cell_type": "code",
      "source": [
        "list_c[:10:]"
      ],
      "metadata": {
        "colab": {
          "base_uri": "https://localhost:8080/"
        },
        "id": "xbgb-R4q27yt",
        "outputId": "27266f05-b049-4560-a3df-3b98f252b315"
      },
      "execution_count": 39,
      "outputs": [
        {
          "output_type": "execute_result",
          "data": {
            "text/plain": [
              "[1, 2, 3, 4, 5, 6, 7, 8, 9, 10]"
            ]
          },
          "metadata": {},
          "execution_count": 39
        }
      ]
    },
    {
      "cell_type": "code",
      "source": [
        "list_c[:10:2]"
      ],
      "metadata": {
        "colab": {
          "base_uri": "https://localhost:8080/"
        },
        "id": "gsdvq2_I29Jm",
        "outputId": "1e569e9d-e027-4922-c374-47b849e216d0"
      },
      "execution_count": 40,
      "outputs": [
        {
          "output_type": "execute_result",
          "data": {
            "text/plain": [
              "[1, 3, 5, 7, 9]"
            ]
          },
          "metadata": {},
          "execution_count": 40
        }
      ]
    },
    {
      "cell_type": "code",
      "source": [
        "list_c[::-1]"
      ],
      "metadata": {
        "colab": {
          "base_uri": "https://localhost:8080/"
        },
        "id": "7RbLstmN3B--",
        "outputId": "afffe152-c977-47a4-d0ed-326039a1172a"
      },
      "execution_count": 41,
      "outputs": [
        {
          "output_type": "execute_result",
          "data": {
            "text/plain": [
              "[13, 12, 11, 10, 9, 8, 7, 6, 5, 4, 3, 2, 1]"
            ]
          },
          "metadata": {},
          "execution_count": 41
        }
      ]
    },
    {
      "cell_type": "markdown",
      "source": [
        "#### range()"
      ],
      "metadata": {
        "id": "BZtQevEe3DXC"
      }
    },
    {
      "cell_type": "code",
      "source": [
        "a = list(range(21)) # ไม่ต้องพิมพ์เยอะ ใช้ range ได้เลย จะเรียงมาให้ (ใส่เลขตัวเดียว)"
      ],
      "metadata": {
        "id": "FqcWesGZ3IFf"
      },
      "execution_count": 42,
      "outputs": []
    },
    {
      "cell_type": "code",
      "source": [
        "a"
      ],
      "metadata": {
        "colab": {
          "base_uri": "https://localhost:8080/"
        },
        "id": "UTeFAhrl3Qqp",
        "outputId": "708fe1ae-58a6-4dea-f0db-0c47afed2471"
      },
      "execution_count": 43,
      "outputs": [
        {
          "output_type": "execute_result",
          "data": {
            "text/plain": [
              "[0, 1, 2, 3, 4, 5, 6, 7, 8, 9, 10, 11, 12, 13, 14, 15, 16, 17, 18, 19, 20]"
            ]
          },
          "metadata": {},
          "execution_count": 43
        }
      ]
    },
    {
      "cell_type": "code",
      "source": [
        "list(range(1,21)) # ใช้เลข 2 ตัวในการกำหนด"
      ],
      "metadata": {
        "colab": {
          "base_uri": "https://localhost:8080/"
        },
        "id": "ypAoihF43RhY",
        "outputId": "5d126628-c6e8-4c9a-bb8a-9665cfbcf57d"
      },
      "execution_count": 44,
      "outputs": [
        {
          "output_type": "execute_result",
          "data": {
            "text/plain": [
              "[1, 2, 3, 4, 5, 6, 7, 8, 9, 10, 11, 12, 13, 14, 15, 16, 17, 18, 19, 20]"
            ]
          },
          "metadata": {},
          "execution_count": 44
        }
      ]
    },
    {
      "cell_type": "markdown",
      "source": [
        "HW2 คำนวณเวลาเป็นวินาทีของเวลาต่อไปนี้โดยใช้คำสั่ว split() ช่วย (print ออกมาให้สวยงาม)\n",
        "\n",
        "* 12:30:15\n",
        "* 13:41:07\n",
        "* 09:11:50\n",
        "* 21:30:15\n",
        "* 03:10:15"
      ],
      "metadata": {
        "id": "EyPp1jO03Tul"
      }
    },
    {
      "cell_type": "code",
      "source": [
        "hw1 = '12:30:15'\n",
        "hw1_sp = hw1.split(':')\n",
        "ans1 = int(hw1_sp[0])*3600 + int(hw1_sp[1])*60 + int(hw1_sp[2])\n",
        "print(f'เวลา {hw1} แปลงเป็นจำนวนวินาทีได้เท่ากับ {ans1} วินาที')"
      ],
      "metadata": {
        "colab": {
          "base_uri": "https://localhost:8080/"
        },
        "id": "OZgxOX3j3doj",
        "outputId": "e51cdba0-4dc5-4ba6-97c5-39ae98230bcc"
      },
      "execution_count": 45,
      "outputs": [
        {
          "output_type": "stream",
          "name": "stdout",
          "text": [
            "เวลา 12:30:15 แปลงเป็นจำนวนวินาทีได้เท่ากับ 45015 วินาที\n"
          ]
        }
      ]
    },
    {
      "cell_type": "code",
      "source": [
        "hw2 = '13:41:07'\n",
        "hw2_sp = hw2.split(':')\n",
        "ans2 = int(hw2_sp[0])*3600 + int(hw2_sp[1])*60 + int(hw2_sp[2])\n",
        "print(f'เวลา {hw2} แปลงเป็นจำนวนวินาทีได้เท่ากับ {ans2} วินาที')"
      ],
      "metadata": {
        "colab": {
          "base_uri": "https://localhost:8080/"
        },
        "id": "Pc3oCiyH3fNk",
        "outputId": "8e18e85f-c175-4257-e7c9-8d91e9904c43"
      },
      "execution_count": 46,
      "outputs": [
        {
          "output_type": "stream",
          "name": "stdout",
          "text": [
            "เวลา 13:41:07 แปลงเป็นจำนวนวินาทีได้เท่ากับ 49267 วินาที\n"
          ]
        }
      ]
    },
    {
      "cell_type": "code",
      "source": [
        "hw3 = '09:11:50'\n",
        "hw3_sp = hw3.split(':')\n",
        "ans3 = int(hw3_sp[0])*3600 + int(hw3_sp[1])*60 + int(hw3_sp[2])\n",
        "print(f'เวลา {hw3} แปลงเป็นจำนวนวินาทีได้เท่ากับ {ans3} วินาที')"
      ],
      "metadata": {
        "colab": {
          "base_uri": "https://localhost:8080/"
        },
        "id": "v7AJFtbc3itk",
        "outputId": "72f1e98f-250d-49e5-d86f-ea3bbd8fc8e0"
      },
      "execution_count": 47,
      "outputs": [
        {
          "output_type": "stream",
          "name": "stdout",
          "text": [
            "เวลา 09:11:50 แปลงเป็นจำนวนวินาทีได้เท่ากับ 33110 วินาที\n"
          ]
        }
      ]
    },
    {
      "cell_type": "code",
      "source": [
        "hw4 = '21:30:15'\n",
        "hw4_sp = hw4.split(':')\n",
        "ans4 = int(hw4_sp[0])*3600 + int(hw4_sp[1])*60 + int(hw4_sp[2])\n",
        "print(f'เวลา {hw4} แปลงเป็นจำนวนวินาทีได้เท่ากับ {ans4} วินาที')"
      ],
      "metadata": {
        "colab": {
          "base_uri": "https://localhost:8080/"
        },
        "id": "_LWw0T1J3jY4",
        "outputId": "1d0d5c65-1562-4814-84a2-eeaa035a9bb0"
      },
      "execution_count": 48,
      "outputs": [
        {
          "output_type": "stream",
          "name": "stdout",
          "text": [
            "เวลา 21:30:15 แปลงเป็นจำนวนวินาทีได้เท่ากับ 77415 วินาที\n"
          ]
        }
      ]
    },
    {
      "cell_type": "code",
      "source": [
        "hw5 = '03:10:15'\n",
        "hw5_sp = hw5.split(':')\n",
        "ans5 = int(hw5_sp[0])*3600 + int(hw5_sp[1])*60 + int(hw5_sp[2])\n",
        "print(f'เวลา {hw5} แปลงเป็นจำนวนวินาทีได้เท่ากับ {ans5} วินาที')"
      ],
      "metadata": {
        "colab": {
          "base_uri": "https://localhost:8080/"
        },
        "id": "o4OF24tn3mnY",
        "outputId": "7861284b-86f6-479b-c0ea-42040ce060d4"
      },
      "execution_count": 49,
      "outputs": [
        {
          "output_type": "stream",
          "name": "stdout",
          "text": [
            "เวลา 03:10:15 แปลงเป็นจำนวนวินาทีได้เท่ากับ 11415 วินาที\n"
          ]
        }
      ]
    }
  ]
}