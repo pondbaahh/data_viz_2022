{
  "nbformat": 4,
  "nbformat_minor": 0,
  "metadata": {
    "colab": {
      "name": "Basic Programming Concepts.ipynb",
      "provenance": [],
      "authorship_tag": "ABX9TyNeA+5BfXnHh8eJycf+GGQ5",
      "include_colab_link": true
    },
    "kernelspec": {
      "name": "python3",
      "display_name": "Python 3"
    },
    "language_info": {
      "name": "python"
    }
  },
  "cells": [
    {
      "cell_type": "markdown",
      "metadata": {
        "id": "view-in-github",
        "colab_type": "text"
      },
      "source": [
        "<a href=\"https://colab.research.google.com/github/pondbaahh/data_viz_2022/blob/main/Basic_Programming_Concepts.ipynb\" target=\"_parent\"><img src=\"https://colab.research.google.com/assets/colab-badge.svg\" alt=\"Open In Colab\"/></a>"
      ]
    },
    {
      "cell_type": "markdown",
      "source": [
        "##Functions $(f(x) = y)$"
      ],
      "metadata": {
        "id": "QnK9Pb6cD-87"
      }
    },
    {
      "cell_type": "markdown",
      "source": [
        "\n",
        "\n",
        "```python\n",
        "def function(input_x):\n",
        "    # do something with input_x to get output_y\n",
        "    return output_y\n",
        "\n",
        "```\n",
        "\n",
        "\n",
        "\n",
        "\n",
        "\n",
        "\n",
        "\n",
        "\n"
      ],
      "metadata": {
        "id": "T1eilI9DEIp5"
      }
    },
    {
      "cell_type": "markdown",
      "source": [
        "$f_1(x)=x^2 + 75$"
      ],
      "metadata": {
        "id": "MgnhSD7QFxaL"
      }
    },
    {
      "cell_type": "code",
      "execution_count": null,
      "metadata": {
        "colab": {
          "base_uri": "https://localhost:8080/"
        },
        "id": "7ThGMR2EDtTJ",
        "outputId": "05fc6417-b2f6-4ac9-8dfe-a0ff1b13617d"
      },
      "outputs": [
        {
          "output_type": "stream",
          "name": "stdout",
          "text": [
            "done!\n"
          ]
        }
      ],
      "source": [
        "def function_f1(x):\n",
        "    a = x**2 #ยกกำลังคือ **\n",
        "    y = a+75\n",
        "    return y\n",
        "\n",
        "print('done!')"
      ]
    },
    {
      "cell_type": "code",
      "source": [
        "function_f1(3)"
      ],
      "metadata": {
        "colab": {
          "base_uri": "https://localhost:8080/"
        },
        "id": "vIPzyBKAGRSt",
        "outputId": "de56cd98-7d3f-4112-a81f-baaeed6bde47"
      },
      "execution_count": null,
      "outputs": [
        {
          "output_type": "execute_result",
          "data": {
            "text/plain": [
              "84"
            ]
          },
          "metadata": {},
          "execution_count": 2
        }
      ]
    },
    {
      "cell_type": "markdown",
      "source": [
        "function มีส่วนสำคัญทั้งหมด 4 ส่วน\n",
        "\n",
        "1. บอก python ว่าเราจะเขียนฟังก์ชัน ชื่ออะไร ```def function_name():```(ขาดไม่ได้)\n",
        "2. กำหนดตัวแปรที่จะเป็น input *Input *(ขาดได้)\n",
        "3. ส่วนประมวลผล do_something with *Input* to get *Output* (ขาดไม่ได้)\n",
        "4. ส่วน output return *Output*(ขาดได้)\n"
      ],
      "metadata": {
        "id": "XN4FkhwyHZcB"
      }
    },
    {
      "cell_type": "markdown",
      "source": [
        "### ตัวอย่าง function ที่มีส่วนประกอบครบ"
      ],
      "metadata": {
        "id": "HKPpCoU2H9eW"
      }
    },
    {
      "cell_type": "code",
      "source": [
        "def function_f1(x):\n",
        "    a = x**2 #ยกกำลังคือ **\n",
        "    y = a+75\n",
        "    return y"
      ],
      "metadata": {
        "id": "efSiQyfEGt8V"
      },
      "execution_count": null,
      "outputs": []
    },
    {
      "cell_type": "markdown",
      "source": [
        "### ตัวอย่าง function ที่ไม่มี input"
      ],
      "metadata": {
        "id": "lbRJIinmIRxE"
      }
    },
    {
      "cell_type": "code",
      "source": [
        "def pi_v():\n",
        "    y = 3.14159265359\n",
        "    return y\n"
      ],
      "metadata": {
        "id": "Y3wji_rBGu0x"
      },
      "execution_count": null,
      "outputs": []
    },
    {
      "cell_type": "code",
      "source": [
        "piv = pi_v()\n",
        "circle_area_r2 = piv*(2**2)\n",
        "print(circle_area_r2)"
      ],
      "metadata": {
        "colab": {
          "base_uri": "https://localhost:8080/"
        },
        "id": "yC8_dq-gJNug",
        "outputId": "bfb2662c-de3f-49c3-a3c9-16f2a973e844"
      },
      "execution_count": null,
      "outputs": [
        {
          "output_type": "stream",
          "name": "stdout",
          "text": [
            "12.56637061436\n"
          ]
        }
      ]
    },
    {
      "cell_type": "markdown",
      "source": [
        "### Function ไม่มี process ไม่ได้"
      ],
      "metadata": {
        "id": "IbmMIN3FJnI1"
      }
    },
    {
      "cell_type": "code",
      "source": [
        "def function_a():"
      ],
      "metadata": {
        "colab": {
          "base_uri": "https://localhost:8080/",
          "height": 131
        },
        "id": "iUewYFH9Jzrl",
        "outputId": "b69570ef-a39f-476f-b6b1-c2dcfaea9796"
      },
      "execution_count": null,
      "outputs": [
        {
          "output_type": "error",
          "ename": "SyntaxError",
          "evalue": "ignored",
          "traceback": [
            "\u001b[0;36m  File \u001b[0;32m\"<ipython-input-7-07a0750214a8>\"\u001b[0;36m, line \u001b[0;32m1\u001b[0m\n\u001b[0;31m    def function_a():\u001b[0m\n\u001b[0m                     ^\u001b[0m\n\u001b[0;31mSyntaxError\u001b[0m\u001b[0;31m:\u001b[0m unexpected EOF while parsing\n"
          ]
        }
      ]
    },
    {
      "cell_type": "markdown",
      "source": [
        "### ตัวอย่าง Function ที่ไม่มี output"
      ],
      "metadata": {
        "id": "BcTCFJUOLiVd"
      }
    },
    {
      "cell_type": "code",
      "source": [
        "def print_name_id(name,id):\n",
        "    print(f'ชื่อ {name} รหัสประจำตัว {id}')"
      ],
      "metadata": {
        "id": "R_cWxe6nLhMt"
      },
      "execution_count": null,
      "outputs": []
    },
    {
      "cell_type": "code",
      "source": [
        "a = print_name_id('วัชราภรณ์','623020535-7')"
      ],
      "metadata": {
        "colab": {
          "base_uri": "https://localhost:8080/"
        },
        "id": "VgY7pbrYLnqk",
        "outputId": "fe8a3d52-6e3d-4e44-bc05-69fccd23b889"
      },
      "execution_count": null,
      "outputs": [
        {
          "output_type": "stream",
          "name": "stdout",
          "text": [
            "ชื่อ วัชราภรณ์ รหัสประจำตัว 623020535-7\n"
          ]
        }
      ]
    },
    {
      "cell_type": "code",
      "source": [
        "a"
      ],
      "metadata": {
        "id": "TKfrcprWMCSL"
      },
      "execution_count": null,
      "outputs": []
    },
    {
      "cell_type": "markdown",
      "source": [
        "ตัวอย่าง function print https://www.programiz.com/python-programming/methods/built-in/print"
      ],
      "metadata": {
        "id": "g66E27ifmuym"
      }
    },
    {
      "cell_type": "code",
      "source": [
        "print('วัชราภรณ์')\n",
        "print('623020535-7')"
      ],
      "metadata": {
        "colab": {
          "base_uri": "https://localhost:8080/"
        },
        "id": "lpge5FU-O8DH",
        "outputId": "045ee917-43fb-4490-b4a8-b3d29da078f8"
      },
      "execution_count": null,
      "outputs": [
        {
          "output_type": "stream",
          "name": "stdout",
          "text": [
            "วัชราภรณ์\n",
            "623020535-7\n"
          ]
        }
      ]
    },
    {
      "cell_type": "code",
      "source": [
        "print('วัชราภรณ์',end='->')\n",
        "print('623020535-7')"
      ],
      "metadata": {
        "colab": {
          "base_uri": "https://localhost:8080/"
        },
        "id": "KYK0QjqCPYXj",
        "outputId": "d9c227dc-7795-4fce-88c4-40dc6e82b390"
      },
      "execution_count": null,
      "outputs": [
        {
          "output_type": "stream",
          "name": "stdout",
          "text": [
            "วัชราภรณ์->623020535-7\n"
          ]
        }
      ]
    },
    {
      "cell_type": "code",
      "source": [
        "print('วัชราภรณ์','623020535-7')"
      ],
      "metadata": {
        "colab": {
          "base_uri": "https://localhost:8080/"
        },
        "id": "yWZkWaDPQHHw",
        "outputId": "6617816f-d88c-4462-8c04-5b29f6c7a6ab"
      },
      "execution_count": null,
      "outputs": [
        {
          "output_type": "stream",
          "name": "stdout",
          "text": [
            "วัชราภรณ์ 623020535-7\n"
          ]
        }
      ]
    },
    {
      "cell_type": "code",
      "source": [
        "print('วัชราภรณ์','623020535-7',sep=' & ')"
      ],
      "metadata": {
        "colab": {
          "base_uri": "https://localhost:8080/"
        },
        "id": "KnM4Uh1eQLij",
        "outputId": "e78a4fb2-728f-4e96-819d-f0a4e312c3e0"
      },
      "execution_count": null,
      "outputs": [
        {
          "output_type": "stream",
          "name": "stdout",
          "text": [
            "วัชราภรณ์ & 623020535-7\n"
          ]
        }
      ]
    },
    {
      "cell_type": "markdown",
      "source": [
        "### input ของ function เเบ่งเป็น 2 ชนิด(จำเป็นต้องใส่ กับ ไม่จำเป็ฯต้องใส่)"
      ],
      "metadata": {
        "id": "e_CGvtt5QTOy"
      }
    },
    {
      "cell_type": "markdown",
      "source": [
        "ตัวอย่าง function print_grade() มี input 3 ตัว จำเป็นต้องใส่ 2 ตัว คือ name กับ id และไม่จำเป็นต้องใส่ 1 ตัว คือเกรด ซึ่งมีค่า default เป็น F"
      ],
      "metadata": {
        "id": "ZFh7mmvFw4rP"
      }
    },
    {
      "cell_type": "code",
      "source": [
        "def print_grade(name,id,grade = 'F'):\n",
        "    print(f'รหัสประจำตัว {id} ชื่อ {name}')\n",
        "    print(f'ได้เกรด {grade}')"
      ],
      "metadata": {
        "id": "DxwSKFytQgLW"
      },
      "execution_count": null,
      "outputs": []
    },
    {
      "cell_type": "code",
      "source": [
        "print_grade('นางสาววัชราภรณ์ นามมุงคณ','623020535-7')"
      ],
      "metadata": {
        "colab": {
          "base_uri": "https://localhost:8080/"
        },
        "id": "0gDKPNMWw-V2",
        "outputId": "f61c30db-618f-449d-bc4f-e07063df7d75"
      },
      "execution_count": null,
      "outputs": [
        {
          "output_type": "stream",
          "name": "stdout",
          "text": [
            "รหัสประจำตัว 623020535-7 ชื่อ นางสาววัชราภรณ์ นามมุงคณ\n",
            "ได้เกรด F\n"
          ]
        }
      ]
    },
    {
      "cell_type": "code",
      "source": [
        "print_grade('นางสาววัชราภรณ์ นามมุงคณ','623020535-7','A')"
      ],
      "metadata": {
        "colab": {
          "base_uri": "https://localhost:8080/"
        },
        "id": "NFlYeLh_xKT6",
        "outputId": "f53e558e-b2d7-49f8-e364-31c396411972"
      },
      "execution_count": null,
      "outputs": [
        {
          "output_type": "stream",
          "name": "stdout",
          "text": [
            "รหัสประจำตัว 623020535-7 ชื่อ นางสาววัชราภรณ์ นามมุงคณ\n",
            "ได้เกรด A\n"
          ]
        }
      ]
    },
    {
      "cell_type": "code",
      "source": [
        "print_grade(id='623020535-7',name='นางสาววัชราภรณ์ นามมุงคณ',grade='B+')"
      ],
      "metadata": {
        "colab": {
          "base_uri": "https://localhost:8080/"
        },
        "id": "ltp56udRxOGg",
        "outputId": "4c8b06dc-0a72-407d-c1a7-a6bbf5e9c004"
      },
      "execution_count": null,
      "outputs": [
        {
          "output_type": "stream",
          "name": "stdout",
          "text": [
            "รหัสประจำตัว 623020535-7 ชื่อ นางสาววัชราภรณ์ นามมุงคณ\n",
            "ได้เกรด B+\n"
          ]
        }
      ]
    },
    {
      "cell_type": "markdown",
      "source": [
        "### Looping (for)\n",
        "\n"
      ],
      "metadata": {
        "id": "rxBz06fyL1QW"
      }
    },
    {
      "cell_type": "markdown",
      "source": [
        "\n",
        "\n",
        "```python\n",
        "for member in listEx:\n",
        "    do_something()\n",
        "\n",
        "```\n",
        "\n"
      ],
      "metadata": {
        "id": "qsVCtG0hTmsl"
      }
    },
    {
      "cell_type": "code",
      "source": [
        "for member in [1,2,3,4,5,6]:\n",
        "    print(member)"
      ],
      "metadata": {
        "id": "ZHCxPE-6L6Rr",
        "outputId": "ba6926c2-e89d-4d52-c904-75248cdacd65",
        "colab": {
          "base_uri": "https://localhost:8080/"
        }
      },
      "execution_count": null,
      "outputs": [
        {
          "output_type": "stream",
          "name": "stdout",
          "text": [
            "1\n",
            "2\n",
            "3\n",
            "4\n",
            "5\n",
            "6\n"
          ]
        }
      ]
    },
    {
      "cell_type": "code",
      "source": [
        "def print_name(name):\n",
        "    print(f'ฉันชื่อ {name}')"
      ],
      "metadata": {
        "id": "kKjNBfhpU5wA"
      },
      "execution_count": null,
      "outputs": []
    },
    {
      "cell_type": "code",
      "source": [
        "for name in ['วัชราภรณ์','ชลธิชา','จุฑากาญจน์','ญาดา','กิตติคุณ']:\n",
        "    N = name\n",
        "    print_name(N)"
      ],
      "metadata": {
        "id": "RPDpomRrVHHI",
        "outputId": "e256d9c5-76d8-475b-a1a9-40daf043a2fe",
        "colab": {
          "base_uri": "https://localhost:8080/"
        }
      },
      "execution_count": null,
      "outputs": [
        {
          "output_type": "stream",
          "name": "stdout",
          "text": [
            "ฉันชื่อ วัชราภรณ์\n",
            "ฉันชื่อ ชลธิชา\n",
            "ฉันชื่อ จุฑากาญจน์\n",
            "ฉันชื่อ ญาดา\n",
            "ฉันชื่อ กิตติคุณ\n"
          ]
        }
      ]
    },
    {
      "cell_type": "code",
      "source": [
        "list_name_id_grade = [['นางสาวเบญญาภา ระภูเขียว','623020527-6','B'],\n",
        "                      ['นางสาวปลายฟ้า คำเพ็ง','623021005-1','C'],\n",
        "                      ['นางสาวทักษิณา ราชหุ่น','623021000-1','A']]"
      ],
      "metadata": {
        "id": "G-Xpfoe6WTzs"
      },
      "execution_count": null,
      "outputs": []
    },
    {
      "cell_type": "code",
      "source": [
        "for each in list_name_id_grade:\n",
        "    name = each[0]\n",
        "    id = each[1]\n",
        "    grade = each[2]\n",
        "    print_grade(name,id,grade)\n",
        "    print('-------------')"
      ],
      "metadata": {
        "id": "WXEgmMM4XjnS",
        "outputId": "742a372b-47de-4326-f85b-df0ac14b9686",
        "colab": {
          "base_uri": "https://localhost:8080/"
        }
      },
      "execution_count": null,
      "outputs": [
        {
          "output_type": "stream",
          "name": "stdout",
          "text": [
            "รหัสประจำตัว 623020527-6 ชื่อ นางสาวเบญญาภา ระภูเขียว\n",
            "ได้เกรด B\n",
            "-------------\n",
            "รหัสประจำตัว 623021005-1 ชื่อ นางสาวปลายฟ้า คำเพ็ง\n",
            "ได้เกรด C\n",
            "-------------\n",
            "รหัสประจำตัว 623021000-1 ชื่อ นางสาวทักษิณา ราชหุ่น\n",
            "ได้เกรด A\n",
            "-------------\n"
          ]
        }
      ]
    },
    {
      "cell_type": "markdown",
      "source": [
        "### ใช้ for loop เพิ่มสมาชิกใน list"
      ],
      "metadata": {
        "id": "7Kh6di3TYWJX"
      }
    },
    {
      "cell_type": "code",
      "source": [
        "list_name = []\n",
        "list_id = []\n",
        "list_grade = []\n",
        "for each in list_name_id_grade:\n",
        "    list_name.append(each[0])\n",
        "    list_id.append(each[1])\n",
        "    list_grade.append(each[2])"
      ],
      "metadata": {
        "id": "ujt9M4YGYcle"
      },
      "execution_count": null,
      "outputs": []
    },
    {
      "cell_type": "code",
      "source": [
        "list_name"
      ],
      "metadata": {
        "id": "CV5cCVABZBUg",
        "outputId": "993b7a2f-ece1-4f65-ed89-4a3b09bf92f0",
        "colab": {
          "base_uri": "https://localhost:8080/"
        }
      },
      "execution_count": null,
      "outputs": [
        {
          "output_type": "execute_result",
          "data": {
            "text/plain": [
              "['นางสาวเบญญาภา ระภูเขียว', 'นางสาวปลายฟ้า คำเพ็ง', 'นางสาวทักษิณา ราชหุ่น']"
            ]
          },
          "metadata": {},
          "execution_count": 28
        }
      ]
    },
    {
      "cell_type": "markdown",
      "source": [
        "### การวนลูปด้วย range()"
      ],
      "metadata": {
        "id": "8el2avxMbXtR"
      }
    },
    {
      "cell_type": "code",
      "source": [
        "for i in range(100): #list สมาชิก 100 ตัว\n",
        "    print('งง', end = ' ')\n"
      ],
      "metadata": {
        "id": "U65lm7J1ZZY5",
        "outputId": "a3401a3c-32be-4f1b-da89-7cfe48c84ff9",
        "colab": {
          "base_uri": "https://localhost:8080/"
        }
      },
      "execution_count": null,
      "outputs": [
        {
          "output_type": "stream",
          "name": "stdout",
          "text": [
            "งง งง งง งง งง งง งง งง งง งง งง งง งง งง งง งง งง งง งง งง งง งง งง งง งง งง งง งง งง งง งง งง งง งง งง งง งง งง งง งง งง งง งง งง งง งง งง งง งง งง งง งง งง งง งง งง งง งง งง งง งง งง งง งง งง งง งง งง งง งง งง งง งง งง งง งง งง งง งง งง งง งง งง งง งง งง งง งง งง งง งง งง งง งง งง งง งง งง งง งง "
          ]
        }
      ]
    },
    {
      "cell_type": "markdown",
      "source": [
        "### Loop ซ้อน Loop"
      ],
      "metadata": {
        "id": "l4vE0TUjcdYE"
      }
    },
    {
      "cell_type": "code",
      "source": [
        "for mem1 in range(2,5): #[2,3,4]\n",
        "    print(f'now mem1 = {mem1}')\n",
        "    for mem2 in range(1,13): #[1,2,3,4,5,6,7,8,9,10,11,12]\n",
        "        print(f'{mem1} x {mem2} = {mem1*mem2}')\n",
        "    print(f'end inner for mem1 = {mem1}')"
      ],
      "metadata": {
        "id": "v8bwLK7tcQQL",
        "outputId": "e95c70b7-6105-4dbe-d38a-0aaad180c830",
        "colab": {
          "base_uri": "https://localhost:8080/"
        }
      },
      "execution_count": null,
      "outputs": [
        {
          "output_type": "stream",
          "name": "stdout",
          "text": [
            "now mem1 = 2\n",
            "2 x 1 = 2\n",
            "2 x 2 = 4\n",
            "2 x 3 = 6\n",
            "2 x 4 = 8\n",
            "2 x 5 = 10\n",
            "2 x 6 = 12\n",
            "2 x 7 = 14\n",
            "2 x 8 = 16\n",
            "2 x 9 = 18\n",
            "2 x 10 = 20\n",
            "2 x 11 = 22\n",
            "2 x 12 = 24\n",
            "end inner for mem1 = 2\n",
            "now mem1 = 3\n",
            "3 x 1 = 3\n",
            "3 x 2 = 6\n",
            "3 x 3 = 9\n",
            "3 x 4 = 12\n",
            "3 x 5 = 15\n",
            "3 x 6 = 18\n",
            "3 x 7 = 21\n",
            "3 x 8 = 24\n",
            "3 x 9 = 27\n",
            "3 x 10 = 30\n",
            "3 x 11 = 33\n",
            "3 x 12 = 36\n",
            "end inner for mem1 = 3\n",
            "now mem1 = 4\n",
            "4 x 1 = 4\n",
            "4 x 2 = 8\n",
            "4 x 3 = 12\n",
            "4 x 4 = 16\n",
            "4 x 5 = 20\n",
            "4 x 6 = 24\n",
            "4 x 7 = 28\n",
            "4 x 8 = 32\n",
            "4 x 9 = 36\n",
            "4 x 10 = 40\n",
            "4 x 11 = 44\n",
            "4 x 12 = 48\n",
            "end inner for mem1 = 4\n"
          ]
        }
      ]
    },
    {
      "cell_type": "markdown",
      "source": [
        "### Loop in Function"
      ],
      "metadata": {
        "id": "Zz01Q63qgATP"
      }
    },
    {
      "cell_type": "code",
      "source": [
        "def print_grade_loop(name,grades):\n",
        "    for n,g in zip(name,grades):\n",
        "        print(f'{n} ได้เกรด {g}')"
      ],
      "metadata": {
        "id": "3jiLN1XcdRix"
      },
      "execution_count": null,
      "outputs": []
    },
    {
      "cell_type": "code",
      "source": [
        "print_grade_loop(list_name,list_grade)"
      ],
      "metadata": {
        "id": "y1a71CVMg5qi",
        "outputId": "1e85493d-e570-4c75-d124-8dd9725a616e",
        "colab": {
          "base_uri": "https://localhost:8080/"
        }
      },
      "execution_count": null,
      "outputs": [
        {
          "output_type": "stream",
          "name": "stdout",
          "text": [
            "นางสาวเบญญาภา ระภูเขียว ได้เกรด B\n",
            "นางสาวปลายฟ้า คำเพ็ง ได้เกรด C\n",
            "นางสาวทักษิณา ราชหุ่น ได้เกรด A\n"
          ]
        }
      ]
    },
    {
      "cell_type": "markdown",
      "source": [
        "### Conditional Statement (if)"
      ],
      "metadata": {
        "id": "1IiREnRRTewY"
      }
    },
    {
      "cell_type": "markdown",
      "source": [
        "\n",
        "\n",
        "```python\n",
        "if condition1:\n",
        "    do_something() # ถ้า condition1 เป็นจริงทำ do_something()\n",
        "elif condition2:\n",
        "    do_another_thing() ## ถ้า condition2 ไม่เป็นจริงแต่ condition2 เป็นจริง ทำ do_another_thing()\n",
        "else:\n",
        "    do_the_last_thing() # ถ้าไม่มี condition ไหนเป็นจริงเลย ทำ do_the_last_thing()\n",
        "\n",
        "```\n",
        "\n"
      ],
      "metadata": {
        "id": "R5l3o0BxiZ4n"
      }
    },
    {
      "cell_type": "code",
      "source": [
        "for n in list_name:\n",
        "    if len(n)>20:\n",
        "        print(f'{n} ได้เกรด A')\n",
        "    else:\n",
        "        print(f'{n} ได้เกรด F')"
      ],
      "metadata": {
        "id": "R95_YGnyjesG",
        "outputId": "62c746f3-a80a-49d8-f102-d49907fda011",
        "colab": {
          "base_uri": "https://localhost:8080/"
        }
      },
      "execution_count": null,
      "outputs": [
        {
          "output_type": "stream",
          "name": "stdout",
          "text": [
            "นางสาวเบญญาภา ระภูเขียว ได้เกรด A\n",
            "นางสาวปลายฟ้า คำเพ็ง ได้เกรด F\n",
            "นางสาวทักษิณา ราชหุ่น ได้เกรด A\n"
          ]
        }
      ]
    },
    {
      "cell_type": "markdown",
      "source": [
        "### Operator ที่ใช้ตรวจสอบ condition\n",
        "\n",
        "==, !=, >=, <=, <, > and, or"
      ],
      "metadata": {
        "id": "6RwCQaJCkIcX"
      }
    },
    {
      "cell_type": "code",
      "source": [
        "a = 10 == 20\n",
        "print(a)"
      ],
      "metadata": {
        "id": "s2VZxvNVkVAD",
        "outputId": "7d21cd58-c269-48cc-91a4-281f73866cf3",
        "colab": {
          "base_uri": "https://localhost:8080/"
        }
      },
      "execution_count": null,
      "outputs": [
        {
          "output_type": "stream",
          "name": "stdout",
          "text": [
            "False\n"
          ]
        }
      ]
    },
    {
      "cell_type": "code",
      "source": [
        "b = 15 <= 20\n",
        "print(b)"
      ],
      "metadata": {
        "id": "TIiHpltUkurh",
        "outputId": "f1154b2f-b57e-4d3a-e982-95c99d264b14",
        "colab": {
          "base_uri": "https://localhost:8080/"
        }
      },
      "execution_count": null,
      "outputs": [
        {
          "output_type": "stream",
          "name": "stdout",
          "text": [
            "True\n"
          ]
        }
      ]
    },
    {
      "cell_type": "code",
      "source": [
        "if a:\n",
        "    print('X')"
      ],
      "metadata": {
        "id": "dZ_aUZr7k015"
      },
      "execution_count": null,
      "outputs": []
    },
    {
      "cell_type": "code",
      "source": [
        "if True:\n",
        "    print('X')"
      ],
      "metadata": {
        "id": "yPyJHKLvlWLW",
        "outputId": "98d4ca0b-587a-456f-f404-627c5aba2af9",
        "colab": {
          "base_uri": "https://localhost:8080/"
        }
      },
      "execution_count": null,
      "outputs": [
        {
          "output_type": "stream",
          "name": "stdout",
          "text": [
            "X\n"
          ]
        }
      ]
    },
    {
      "cell_type": "code",
      "source": [
        "if a and b:\n",
        "    print('X')"
      ],
      "metadata": {
        "id": "Aal8EHQnlbZO"
      },
      "execution_count": null,
      "outputs": []
    },
    {
      "cell_type": "code",
      "source": [
        "if a or b:\n",
        "    print('X')"
      ],
      "metadata": {
        "id": "lM2h-qN0leNa",
        "outputId": "0e0f9160-ba45-42e8-dab6-536752141f95",
        "colab": {
          "base_uri": "https://localhost:8080/"
        }
      },
      "execution_count": null,
      "outputs": [
        {
          "output_type": "stream",
          "name": "stdout",
          "text": [
            "X\n"
          ]
        }
      ]
    },
    {
      "cell_type": "markdown",
      "source": [
        "# HW\n",
        "เขียน function ตัดเกรด โดยที่ input เป็นคะแนน(0-100) , output เป็นเกรด (F-A) หรือ 'ไม่สามารถตัดเกรดได้'\n",
        "\n",
        "วนลูปตัดเกรด input = [1,50,65,90,101,-5,49,'ก',80]\n",
        "\n",
        "กำหนด\n",
        "\n",
        "*  ถ้าคะแนนอยู่ระหว่างมากกว่าหรือเท่ากับ  0  แต่น้อยกว่า 50 จะได้เกรด F\n",
        "*  ถ้าคะแนนอยู่ระหว่างมากกว่าหรือเท่ากับ 50 แต่น้อยกว่า 55 จะได้เกรด D\n",
        "*  ถ้าคะแนนอยู่ระหว่างมากกว่าหรือเท่ากับ 55 แต่น้อยกว่า 60 จะได้เกรด D+\n",
        "*  ถ้าคะแนนอยู่ระหว่างมากกว่าหรือเท่ากับ 60 แต่น้อยกว่า 65 จะได้เกรด C\n",
        "*  ถ้าคะแนนอยู่ระหว่างมากกว่าหรือเท่ากับ 65 แต่น้อยกว่า 70 จะได้เกรด C+\n",
        "*  ถ้าคะแนนอยู่ระหว่างมากกว่าหรือเท่ากับ 70 แต่น้อยกว่า 75 จะได้เกรด B\n",
        "*  ถ้าคะแนนอยู่ระหว่างมากกว่าหรือเท่ากับ 75 แต่น้อยกว่า 80 จะได้เกรด B+\n",
        "*  ถ้าคะแนนอยู่ระหว่างมากกว่าหรือเท่ากับ 80  จะได้เกรด A\n",
        "*  ถ้าคะแนนไม่อยู่ในช่วง 0-100 ให้ return 'ไม่สามารถตัดเกรดได้'"
      ],
      "metadata": {
        "id": "KqGv2Ra3p1Uy"
      }
    },
    {
      "cell_type": "code",
      "source": [
        "def grade(score):\n",
        "    for x in score:\n",
        "        if type(x) == type(''):\n",
        "            print(f'คะแนน เท่ากับ {x} ไม่สามารถตัดเกรดได้')\n",
        "        else:\n",
        "            if x >= 0 and x < 50:\n",
        "                print(f'คะแนน เท่ากับ {x} จะได้เกรด F')\n",
        "            elif x >= 50 and x < 55:\n",
        "                print(f'คะแนน เท่ากับ {x} จะได้เกรด D')\n",
        "            elif x >= 55 and x < 60:\n",
        "                print(f'คะแนน เท่ากับ {x} จะได้เกรด D+')\n",
        "            elif x >= 60 and x < 65:\n",
        "                print(f'คะแนน เท่ากับ {x} จะได้เกรด C')\n",
        "            elif x >= 65 and x < 70:\n",
        "                print(f'คะแนน เท่ากับ {x} จะได้เกรด C+')\n",
        "            elif x >= 70 and x < 75:\n",
        "                print(f'คะแนน เท่ากับ {x} จะได้เกรด B')\n",
        "            elif x >= 75 and x < 80:\n",
        "                print(f'คะแนน เท่ากับ {x} จะได้เกรด B+')\n",
        "            elif x >= 80 and x <= 100:\n",
        "                print(f'คะแนน เท่ากับ {x} จะได้เกรด A')\n",
        "            else:\n",
        "                print(f'คะแนน เท่ากับ {x} ไม่สามารถตัดเกรดได้')"
      ],
      "metadata": {
        "id": "mdcMnExpkgR-"
      },
      "execution_count": 27,
      "outputs": []
    },
    {
      "cell_type": "code",
      "source": [
        "input = [1,50,65,90,101,-5,49,'ก',80]\n",
        "grade(input)"
      ],
      "metadata": {
        "id": "MNtjo8vmknKx",
        "outputId": "5b25244f-efbf-4151-8012-db349116e45b",
        "colab": {
          "base_uri": "https://localhost:8080/"
        }
      },
      "execution_count": 28,
      "outputs": [
        {
          "output_type": "stream",
          "name": "stdout",
          "text": [
            "คะแนน เท่ากับ 1 จะได้เกรด F\n",
            "คะแนน เท่ากับ 50 จะได้เกรด D\n",
            "คะแนน เท่ากับ 65 จะได้เกรด C+\n",
            "คะแนน เท่ากับ 90 จะได้เกรด A\n",
            "คะแนน เท่ากับ 101 ไม่สามารถตัดเกรดได้\n",
            "คะแนน เท่ากับ -5 ไม่สามารถตัดเกรดได้\n",
            "คะแนน เท่ากับ 49 จะได้เกรด F\n",
            "คะแนน เท่ากับ ก ไม่สามารถตัดเกรดได้\n",
            "คะแนน เท่ากับ 80 จะได้เกรด A\n"
          ]
        }
      ]
    },
    {
      "cell_type": "code",
      "source": [
        ""
      ],
      "metadata": {
        "id": "ybwYRQDhk2sR"
      },
      "execution_count": null,
      "outputs": []
    }
  ]
}