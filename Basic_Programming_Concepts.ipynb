{
  "nbformat": 4,
  "nbformat_minor": 0,
  "metadata": {
    "colab": {
      "name": "Basic Programming Concepts.ipynb",
      "provenance": [],
      "authorship_tag": "ABX9TyOZm6SpQM/h+xw6oosLwKl/",
      "include_colab_link": true
    },
    "kernelspec": {
      "name": "python3",
      "display_name": "Python 3"
    },
    "language_info": {
      "name": "python"
    }
  },
  "cells": [
    {
      "cell_type": "markdown",
      "metadata": {
        "id": "view-in-github",
        "colab_type": "text"
      },
      "source": [
        "<a href=\"https://colab.research.google.com/github/pondbaahh/data_viz_2022/blob/main/Basic_Programming_Concepts.ipynb\" target=\"_parent\"><img src=\"https://colab.research.google.com/assets/colab-badge.svg\" alt=\"Open In Colab\"/></a>"
      ]
    },
    {
      "cell_type": "markdown",
      "source": [
        "##Functions $(f(x) = y)$"
      ],
      "metadata": {
        "id": "QnK9Pb6cD-87"
      }
    },
    {
      "cell_type": "markdown",
      "source": [
        "\n",
        "\n",
        "```python\n",
        "def function(input_x):\n",
        "    # do something with input_x to get output_y\n",
        "    return output_y\n",
        "\n",
        "```\n",
        "\n",
        "\n",
        "\n",
        "\n",
        "\n",
        "\n",
        "\n",
        "\n"
      ],
      "metadata": {
        "id": "T1eilI9DEIp5"
      }
    },
    {
      "cell_type": "markdown",
      "source": [
        "$f_1(x)=x^2 + 75$"
      ],
      "metadata": {
        "id": "MgnhSD7QFxaL"
      }
    },
    {
      "cell_type": "code",
      "execution_count": 3,
      "metadata": {
        "colab": {
          "base_uri": "https://localhost:8080/"
        },
        "id": "7ThGMR2EDtTJ",
        "outputId": "3ecd1056-478a-4e8b-e5f1-df546388ab6d"
      },
      "outputs": [
        {
          "output_type": "stream",
          "name": "stdout",
          "text": [
            "done!\n"
          ]
        }
      ],
      "source": [
        "def function_f1(x):\n",
        "    a = x**2 #ยกกำลังคือ **\n",
        "    y = a+75\n",
        "    return y\n",
        "\n",
        "print('done!')"
      ]
    },
    {
      "cell_type": "code",
      "source": [
        "function_f1(3)"
      ],
      "metadata": {
        "colab": {
          "base_uri": "https://localhost:8080/"
        },
        "id": "vIPzyBKAGRSt",
        "outputId": "20297192-7ee2-489f-f102-53c99ce41f35"
      },
      "execution_count": 4,
      "outputs": [
        {
          "output_type": "execute_result",
          "data": {
            "text/plain": [
              "84"
            ]
          },
          "metadata": {},
          "execution_count": 4
        }
      ]
    },
    {
      "cell_type": "markdown",
      "source": [
        "function มีส่วนสำคัญทั้งหมด 4 ส่วน\n",
        "\n",
        "1. บอก python ว่าเราจะเขียนฟังก์ชัน ชื่ออะไร ```def function_name():```(ขาดไม่ได้)\n",
        "2. กำหนดตัวแปรที่จะเป็น input *Input *(ขาดได้)\n",
        "3. ส่วนประมวลผล do_something with *Input* to get *Output* (ขาดไม่ได้)\n",
        "4. ส่วน output return *Output*(ขาดได้)\n"
      ],
      "metadata": {
        "id": "XN4FkhwyHZcB"
      }
    },
    {
      "cell_type": "markdown",
      "source": [
        "### ตัวอย่าง function ที่มีส่วนประกอบครบ"
      ],
      "metadata": {
        "id": "HKPpCoU2H9eW"
      }
    },
    {
      "cell_type": "code",
      "source": [
        "def function_f1(x):\n",
        "    a = x**2 #ยกกำลังคือ **\n",
        "    y = a+75\n",
        "    return y"
      ],
      "metadata": {
        "id": "efSiQyfEGt8V"
      },
      "execution_count": 5,
      "outputs": []
    },
    {
      "cell_type": "markdown",
      "source": [
        "### ตัวอย่าง function ที่ไม่มี input"
      ],
      "metadata": {
        "id": "lbRJIinmIRxE"
      }
    },
    {
      "cell_type": "code",
      "source": [
        "def pi_v():\n",
        "    y = 3.14159265359\n",
        "    return y\n"
      ],
      "metadata": {
        "id": "Y3wji_rBGu0x"
      },
      "execution_count": 6,
      "outputs": []
    },
    {
      "cell_type": "code",
      "source": [
        "piv = pi_v()\n",
        "circle_area_r2 = piv*(2**2)\n",
        "print(circle_area_r2)"
      ],
      "metadata": {
        "colab": {
          "base_uri": "https://localhost:8080/"
        },
        "id": "yC8_dq-gJNug",
        "outputId": "d9a40c39-4d1e-454f-ac0d-3d8e4922aab1"
      },
      "execution_count": 7,
      "outputs": [
        {
          "output_type": "stream",
          "name": "stdout",
          "text": [
            "12.56637061436\n"
          ]
        }
      ]
    },
    {
      "cell_type": "markdown",
      "source": [
        "### Function ไม่มี process ไม่ได้"
      ],
      "metadata": {
        "id": "IbmMIN3FJnI1"
      }
    },
    {
      "cell_type": "code",
      "source": [
        "def function_a():"
      ],
      "metadata": {
        "colab": {
          "base_uri": "https://localhost:8080/",
          "height": 131
        },
        "id": "iUewYFH9Jzrl",
        "outputId": "b677fe60-9ee9-4ce7-c30e-13ff10dd4f25"
      },
      "execution_count": 8,
      "outputs": [
        {
          "output_type": "error",
          "ename": "SyntaxError",
          "evalue": "ignored",
          "traceback": [
            "\u001b[0;36m  File \u001b[0;32m\"<ipython-input-8-07a0750214a8>\"\u001b[0;36m, line \u001b[0;32m1\u001b[0m\n\u001b[0;31m    def function_a():\u001b[0m\n\u001b[0m                     ^\u001b[0m\n\u001b[0;31mSyntaxError\u001b[0m\u001b[0;31m:\u001b[0m unexpected EOF while parsing\n"
          ]
        }
      ]
    },
    {
      "cell_type": "markdown",
      "source": [
        "### ตัวอย่าง Function ที่ไม่มี output"
      ],
      "metadata": {
        "id": "BcTCFJUOLiVd"
      }
    },
    {
      "cell_type": "code",
      "source": [
        "def print_name_id(name,id):\n",
        "    print(f'ชื่อ {name} รหัสประจำตัว {id}')"
      ],
      "metadata": {
        "id": "R_cWxe6nLhMt"
      },
      "execution_count": 9,
      "outputs": []
    },
    {
      "cell_type": "code",
      "source": [
        "a = print_name_id('วัชราภรณ์','623020535-7')"
      ],
      "metadata": {
        "colab": {
          "base_uri": "https://localhost:8080/"
        },
        "id": "VgY7pbrYLnqk",
        "outputId": "b805aa46-7bf6-47f3-9f6d-02470a765000"
      },
      "execution_count": 12,
      "outputs": [
        {
          "output_type": "stream",
          "name": "stdout",
          "text": [
            "ชื่อ วัชราภรณ์ รหัสประจำตัว 623020535-7\n"
          ]
        }
      ]
    },
    {
      "cell_type": "code",
      "source": [
        "a"
      ],
      "metadata": {
        "id": "TKfrcprWMCSL"
      },
      "execution_count": 13,
      "outputs": []
    },
    {
      "cell_type": "markdown",
      "source": [
        "ตัวอย่าง function print https://www.programiz.com/python-programming/methods/built-in/print"
      ],
      "metadata": {
        "id": "g66E27ifmuym"
      }
    },
    {
      "cell_type": "code",
      "source": [
        "print('วัชราภรณ์')\n",
        "print('623020535-7')"
      ],
      "metadata": {
        "colab": {
          "base_uri": "https://localhost:8080/"
        },
        "id": "lpge5FU-O8DH",
        "outputId": "c3a4f959-f5f8-43e3-eb73-3fd4a8b6b9c9"
      },
      "execution_count": 14,
      "outputs": [
        {
          "output_type": "stream",
          "name": "stdout",
          "text": [
            "วัชราภรณ์\n",
            "623020535-7\n"
          ]
        }
      ]
    },
    {
      "cell_type": "code",
      "source": [
        "print('วัชราภรณ์',end='->')\n",
        "print('623020535-7')"
      ],
      "metadata": {
        "colab": {
          "base_uri": "https://localhost:8080/"
        },
        "id": "KYK0QjqCPYXj",
        "outputId": "5c5b5744-18f2-4825-ea59-e8f0d812e71e"
      },
      "execution_count": 15,
      "outputs": [
        {
          "output_type": "stream",
          "name": "stdout",
          "text": [
            "วัชราภรณ์->623020535-7\n"
          ]
        }
      ]
    },
    {
      "cell_type": "code",
      "source": [
        "print('วัชราภรณ์','623020535-7')"
      ],
      "metadata": {
        "colab": {
          "base_uri": "https://localhost:8080/"
        },
        "id": "yWZkWaDPQHHw",
        "outputId": "66a64f3e-cbbf-484f-96cb-a5c29a6b3417"
      },
      "execution_count": 16,
      "outputs": [
        {
          "output_type": "stream",
          "name": "stdout",
          "text": [
            "วัชราภรณ์ 623020535-7\n"
          ]
        }
      ]
    },
    {
      "cell_type": "code",
      "source": [
        "print('วัชราภรณ์','623020535-7',sep=' & ')"
      ],
      "metadata": {
        "colab": {
          "base_uri": "https://localhost:8080/"
        },
        "id": "KnM4Uh1eQLij",
        "outputId": "67e4c9ff-5146-41f0-d570-444a3ded5630"
      },
      "execution_count": 18,
      "outputs": [
        {
          "output_type": "stream",
          "name": "stdout",
          "text": [
            "วัชราภรณ์ & 623020535-7\n"
          ]
        }
      ]
    },
    {
      "cell_type": "markdown",
      "source": [
        "### input ของ function เเบ่งเป็น 2 ชนิด(จำเป็นต้องใส่ กับ ไม่จำเป็ฯต้องใส่)"
      ],
      "metadata": {
        "id": "e_CGvtt5QTOy"
      }
    },
    {
      "cell_type": "markdown",
      "source": [
        "ตัวอย่าง function print_grade() มี input 3 ตัว จำเป็นต้องใส่ 2 ตัว คือ name กับ id และไม่จำเป็นต้องใส่ 1 ตัว คือเกรด ซึ่งมีค่า default เป็น F"
      ],
      "metadata": {
        "id": "ZFh7mmvFw4rP"
      }
    },
    {
      "cell_type": "code",
      "source": [
        "def print_grade(name,id,grade = 'F'):\n",
        "    print(f'รหัสประจำตัว {id} ชื่อ {name}')\n",
        "    print(f'ได้เกรด {grade}')"
      ],
      "metadata": {
        "id": "DxwSKFytQgLW"
      },
      "execution_count": 19,
      "outputs": []
    },
    {
      "cell_type": "code",
      "source": [
        "print_grade('นางสาววัชราภรณ์ นามมุงคณ','623020535-7')"
      ],
      "metadata": {
        "colab": {
          "base_uri": "https://localhost:8080/"
        },
        "id": "0gDKPNMWw-V2",
        "outputId": "343338e6-9f03-4ea8-9a39-1875789f6507"
      },
      "execution_count": 20,
      "outputs": [
        {
          "output_type": "stream",
          "name": "stdout",
          "text": [
            "รหัสประจำตัว 623020535-7 ชื่อ นางสาววัชราภรณ์ นามมุงคณ\n",
            "ได้เกรด F\n"
          ]
        }
      ]
    },
    {
      "cell_type": "code",
      "source": [
        "print_grade('นางสาววัชราภรณ์ นามมุงคณ','623020535-7','A')"
      ],
      "metadata": {
        "colab": {
          "base_uri": "https://localhost:8080/"
        },
        "id": "NFlYeLh_xKT6",
        "outputId": "54511669-1548-4163-c094-04afe8600893"
      },
      "execution_count": 21,
      "outputs": [
        {
          "output_type": "stream",
          "name": "stdout",
          "text": [
            "รหัสประจำตัว 623020535-7 ชื่อ นางสาววัชราภรณ์ นามมุงคณ\n",
            "ได้เกรด A\n"
          ]
        }
      ]
    },
    {
      "cell_type": "code",
      "source": [
        "print_grade(id='623020535-7',name='นางสาววัชราภรณ์ นามมุงคณ',grade='B+')"
      ],
      "metadata": {
        "colab": {
          "base_uri": "https://localhost:8080/"
        },
        "id": "ltp56udRxOGg",
        "outputId": "dcc9572c-ce52-4d23-c625-324ad1f96e32"
      },
      "execution_count": 22,
      "outputs": [
        {
          "output_type": "stream",
          "name": "stdout",
          "text": [
            "รหัสประจำตัว 623020535-7 ชื่อ นางสาววัชราภรณ์ นามมุงคณ\n",
            "ได้เกรด B+\n"
          ]
        }
      ]
    },
    {
      "cell_type": "markdown",
      "source": [
        "### Looping (for)\n",
        "\n",
        "#### Conditional Statement (if)"
      ],
      "metadata": {
        "id": "rxBz06fyL1QW"
      }
    },
    {
      "cell_type": "code",
      "source": [
        ""
      ],
      "metadata": {
        "id": "ZHCxPE-6L6Rr"
      },
      "execution_count": null,
      "outputs": []
    }
  ]
}